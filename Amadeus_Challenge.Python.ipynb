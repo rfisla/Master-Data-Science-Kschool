{
 "cells": [
  {
   "cell_type": "markdown",
   "metadata": {},
   "source": [
    "# AMADEUS CHALLENGE \n",
    "\n",
    "## Archivos de trabajo: bookings.csv y searches.csv\n"
   ]
  },
  {
   "cell_type": "markdown",
   "metadata": {},
   "source": []
  },
  {
   "cell_type": "markdown",
   "metadata": {},
   "source": []
  },
  {
   "cell_type": "markdown",
   "metadata": {},
   "source": [
    "### -Ejercicio 1: Count the number of lines in Python for each file"
   ]
  },
  {
   "cell_type": "markdown",
   "metadata": {},
   "source": [
    "### Resuelto con la Shell"
   ]
  },
  {
   "cell_type": "code",
   "execution_count": null,
   "metadata": {},
   "outputs": [],
   "source": [
    "#sacamos un sample para trabajar sobre él con mayor comodidad y agilidad"
   ]
  },
  {
   "cell_type": "code",
   "execution_count": 1,
   "metadata": {},
   "outputs": [
    {
     "name": "stdout",
     "output_type": "stream",
     "text": [
      "\n",
      "bzcat: I/O or other error, bailing out.  Possible reason follows.\n",
      "bzcat: Broken pipe\n",
      "\tInput file = ./bookings.csv.bz2, output file = (stdout)\n"
     ]
    }
   ],
   "source": [
    "! bzcat ./bookings.csv.bz2 | head -10000 > ./bookings.sample.csv"
   ]
  },
  {
   "cell_type": "markdown",
   "metadata": {},
   "source": [
    "- bzip2 otro compresor para archivos grandes, garantiza que dentro solo hay un archivo por lo que puedes trabajar sobre el comprimido sabiendo qué archivo estás modificando"
   ]
  },
  {
   "cell_type": "code",
   "execution_count": null,
   "metadata": {},
   "outputs": [],
   "source": [
    "# ! bzip2 nombre_fichero para comprimir, ! bunzip2 *.bz2 para descomprimir"
   ]
  },
  {
   "cell_type": "code",
   "execution_count": null,
   "metadata": {},
   "outputs": [],
   "source": [
    "! bzip2 -f ./bookings.sample.csv #-fpara que no de error al ejecutar varias veces"
   ]
  },
  {
   "cell_type": "code",
   "execution_count": null,
   "metadata": {},
   "outputs": [],
   "source": [
    "# hemos pasado el sample otra vez al formato original por costumbre, no es obligatorio"
   ]
  },
  {
   "cell_type": "code",
   "execution_count": null,
   "metadata": {},
   "outputs": [],
   "source": [
    "pwd"
   ]
  },
  {
   "cell_type": "code",
   "execution_count": null,
   "metadata": {},
   "outputs": [],
   "source": [
    "! bzcat ./bookings.sample.csv.bz2 | wc -l"
   ]
  },
  {
   "cell_type": "code",
   "execution_count": null,
   "metadata": {},
   "outputs": [],
   "source": []
  },
  {
   "cell_type": "markdown",
   "metadata": {},
   "source": [
    "### Resuelto con Python"
   ]
  },
  {
   "cell_type": "code",
   "execution_count": null,
   "metadata": {},
   "outputs": [],
   "source": [
    "- a)sin descomprimir\n",
    "- b)using row uncompressed files"
   ]
  },
  {
   "cell_type": "code",
   "execution_count": null,
   "metadata": {},
   "outputs": [],
   "source": [
    "import bz2"
   ]
  },
  {
   "cell_type": "code",
   "execution_count": null,
   "metadata": {},
   "outputs": [],
   "source": [
    "fileBz2 = bz2.BZ2File('./bookings.sample.csv.bz2')"
   ]
  },
  {
   "cell_type": "code",
   "execution_count": null,
   "metadata": {},
   "outputs": [],
   "source": [
    "type(fileBz2)"
   ]
  },
  {
   "cell_type": "code",
   "execution_count": null,
   "metadata": {},
   "outputs": [],
   "source": [
    "k = 0\n",
    "for line in fileBz2:\n",
    "    k+=1\n",
    "print(k) "
   ]
  },
  {
   "cell_type": "markdown",
   "metadata": {},
   "source": [
    "-Buena practica unir en una sola celda lo que comprobamos que funciona hasta ahora"
   ]
  },
  {
   "cell_type": "code",
   "execution_count": null,
   "metadata": {},
   "outputs": [],
   "source": [
    "fileBz2 = bz2.BZ2File('./bookings.sample.csv.bz2')\n",
    "k = 0\n",
    "for line in fileBz2:\n",
    "    k+=1\n",
    "print(k) "
   ]
  },
  {
   "cell_type": "markdown",
   "metadata": {},
   "source": [
    "-importante cerrar fichero porque si estamos leyendo muchos nos consume la memoria"
   ]
  },
  {
   "cell_type": "code",
   "execution_count": null,
   "metadata": {},
   "outputs": [],
   "source": [
    "fileBz2.close()"
   ]
  },
  {
   "cell_type": "code",
   "execution_count": null,
   "metadata": {},
   "outputs": [],
   "source": [
    "fileBz2.closed"
   ]
  },
  {
   "cell_type": "markdown",
   "metadata": {},
   "source": [
    "-Mejor usar with para que se cierre automaticamente el archivo y no nos preocupamos"
   ]
  },
  {
   "cell_type": "code",
   "execution_count": null,
   "metadata": {},
   "outputs": [],
   "source": [
    "with bz2.BZ2File('./bookings.sample.csv.bz2') as fileBz2:\n",
    "    k = 0\n",
    "    for line in fileBz2:\n",
    "        k+=1\n",
    "    print(k) "
   ]
  },
  {
   "cell_type": "code",
   "execution_count": null,
   "metadata": {},
   "outputs": [],
   "source": [
    "fileBz2.closed"
   ]
  },
  {
   "cell_type": "markdown",
   "metadata": {},
   "source": [
    "-Leemos y cerramos el fichero con try y except para evitar que nos de error, y cubrir el caso de que el archivo no exista"
   ]
  },
  {
   "cell_type": "code",
   "execution_count": null,
   "metadata": {},
   "outputs": [],
   "source": [
    "try:\n",
    "    with bz2.BZ2File('./bookingsj.sample.csv.bz2') as fileBz2:\n",
    "        k = 0\n",
    "        for line in fileBz2:\n",
    "            k+=1\n",
    "        print(k) \n",
    "except FileNotFoundError:\n",
    "    print('File not found')\n",
    "except:\n",
    "    print('unexpected error')"
   ]
  },
  {
   "cell_type": "markdown",
   "metadata": {},
   "source": [
    "-Esta es la forma más profesional de hacerlo"
   ]
  },
  {
   "cell_type": "code",
   "execution_count": null,
   "metadata": {},
   "outputs": [],
   "source": [
    "try:\n",
    "    with bz2.BZ2File('./bookingsj.sample.csv.bz2') as fileBz2:\n",
    "        k = 0\n",
    "        for line in fileBz2:\n",
    "            k+=1\n",
    "        print(k) \n",
    "except FileNotFoundError as message:\n",
    "    print(message)\n",
    "except:\n",
    "    print('unexpected error')"
   ]
  },
  {
   "cell_type": "markdown",
   "metadata": {},
   "source": [
    "- Codigo aún mas profesional"
   ]
  },
  {
   "cell_type": "code",
   "execution_count": null,
   "metadata": {},
   "outputs": [],
   "source": [
    "try:\n",
    "    with bz2.BZ2File('./bookings.sample.csv.bz2') as fileBz2:\n",
    "        k = 0\n",
    "        for k,line in enumerate(fileBz2):\n",
    "                pass #no hace nada\n",
    "        print(k+1) \n",
    "except FileNotFoundError as message:\n",
    "    print(message)\n",
    "except:\n",
    "    print('unexpected error')"
   ]
  },
  {
   "cell_type": "markdown",
   "metadata": {},
   "source": [
    "### Resuelto con Pandas"
   ]
  },
  {
   "cell_type": "code",
   "execution_count": null,
   "metadata": {},
   "outputs": [],
   "source": [
    "import pandas as pd"
   ]
  },
  {
   "cell_type": "markdown",
   "metadata": {},
   "source": [
    "-Sacamos los nombres de las columnas"
   ]
  },
  {
   "cell_type": "code",
   "execution_count": null,
   "metadata": {},
   "outputs": [],
   "source": [
    "! bzcat bookings.sample.csv.bz2 | head -1 | tr ^'\\n'"
   ]
  },
  {
   "cell_type": "markdown",
   "metadata": {},
   "source": [
    "-Elegimos solo una columna para no leer el fichero entero"
   ]
  },
  {
   "cell_type": "code",
   "execution_count": null,
   "metadata": {},
   "outputs": [],
   "source": [
    "df = pd.read_csv('bookings.sample.csv.bz2', sep='^', usecols = ['pax'])"
   ]
  },
  {
   "cell_type": "markdown",
   "metadata": {},
   "source": [
    "-Nos saldrán 9999 líneas porque una es la cabecera"
   ]
  },
  {
   "cell_type": "code",
   "execution_count": null,
   "metadata": {},
   "outputs": [],
   "source": [
    "df.shape"
   ]
  },
  {
   "cell_type": "code",
   "execution_count": null,
   "metadata": {},
   "outputs": [],
   "source": [
    "len(df)"
   ]
  },
  {
   "cell_type": "markdown",
   "metadata": {},
   "source": [
    "### -Ejercicio 2: Plot the monthly number of searches for flights arriving at Málaga, Madrid or Barcelona"
   ]
  },
  {
   "cell_type": "markdown",
   "metadata": {},
   "source": [
    "-inicialmente yo lei el archivo con el atributo nrrows 10.000 lineas sobre el fichero original en lugar de sobre el sample, tambien se podría hacer así"
   ]
  },
  {
   "cell_type": "code",
   "execution_count": null,
   "metadata": {},
   "outputs": [],
   "source": [
    "import pandas as pd"
   ]
  },
  {
   "cell_type": "code",
   "execution_count": null,
   "metadata": {},
   "outputs": [],
   "source": [
    "b = pd.read_csv('bookings.sample.csv.bz2', sep='^') "
   ]
  },
  {
   "cell_type": "markdown",
   "metadata": {},
   "source": [
    "#        PLAN DE ACCION:"
   ]
  },
  {
   "cell_type": "markdown",
   "metadata": {},
   "source": [
    "## 1. Nos familiarizamos con los datos"
   ]
  },
  {
   "cell_type": "code",
   "execution_count": null,
   "metadata": {},
   "outputs": [],
   "source": [
    "b.shape"
   ]
  },
  {
   "cell_type": "code",
   "execution_count": null,
   "metadata": {},
   "outputs": [],
   "source": [
    "b.describe() # nos devuelve solo las columnas que son numéricas"
   ]
  },
  {
   "cell_type": "code",
   "execution_count": null,
   "metadata": {},
   "outputs": [],
   "source": [
    "b.head()"
   ]
  },
  {
   "cell_type": "markdown",
   "metadata": {},
   "source": [
    "-La función sample te devuelve 5 filas aleatorias del archivo"
   ]
  },
  {
   "cell_type": "code",
   "execution_count": null,
   "metadata": {},
   "outputs": [],
   "source": [
    "b.sample(5)"
   ]
  },
  {
   "cell_type": "markdown",
   "metadata": {},
   "source": [
    "-Estos comandos (head,sample,tail) no nos sirve porque no podemos ver las 38 columnas, para eso tenemos el set_option, con None no hay limite de columnas, si ponemos numero esas son las que nos enseñan"
   ]
  },
  {
   "cell_type": "code",
   "execution_count": null,
   "metadata": {},
   "outputs": [],
   "source": [
    "pd.set_option('display.max_columns',None)"
   ]
  },
  {
   "cell_type": "code",
   "execution_count": null,
   "metadata": {},
   "outputs": [],
   "source": [
    "b.sample(5)"
   ]
  },
  {
   "cell_type": "markdown",
   "metadata": {},
   "source": [
    "-Primero analizamos los datos. Por ejemplo tenemos 4 columnas con datetime. Act_date es la fecha de la ultima actividad, cre_date es cuando se crea la reserva.\n",
    "La source es el operador que lo gestiona, el GDS (como Amadeus). Pos_iata son cosas hasheadas, que han pasado por un algoritmo y devuelve esos numeros, no se puede volver a un paso previo y ver de donde viene, las compañias lo utilizan para protegerse. Distance =0 representan los ida y vuelta, salen y vuelven al mismo sitio. Columna route, iniciales de la ruta realizada, cada ciudad son 3 letras, si hay 9 significa que ha habido una conexion"
   ]
  },
  {
   "cell_type": "code",
   "execution_count": null,
   "metadata": {},
   "outputs": [],
   "source": [
    "b.groupby('rloc')['act_date'].count().sort_values(ascending=False)"
   ]
  },
  {
   "cell_type": "code",
   "execution_count": null,
   "metadata": {},
   "outputs": [],
   "source": [
    "list(b.columns)"
   ]
  },
  {
   "cell_type": "markdown",
   "metadata": {},
   "source": [
    "-el nombre de la columnsa tenia espacios por eso no lo reconoce"
   ]
  },
  {
   "cell_type": "markdown",
   "metadata": {},
   "source": [
    "-rloc es el numero de reserva"
   ]
  },
  {
   "cell_type": "code",
   "execution_count": null,
   "metadata": {},
   "outputs": [],
   "source": [
    "b.groupby('rloc          ')['act_date           '].count().sort_values(ascending=False)"
   ]
  },
  {
   "cell_type": "code",
   "execution_count": null,
   "metadata": {},
   "outputs": [],
   "source": [
    "b[b['rloc          '] == 'fb72a3899ed1cd353c5830388935e7f5'].sort_values('act_date           ',ascending=True).head()"
   ]
  },
  {
   "cell_type": "code",
   "execution_count": null,
   "metadata": {},
   "outputs": [],
   "source": [
    "b.describe(include='all')"
   ]
  },
  {
   "cell_type": "markdown",
   "metadata": {},
   "source": [
    "-Con este describe podemos ver directamente lo que hemos hecho co el codigo anternior para ver que en rloc el maximo son 42"
   ]
  },
  {
   "cell_type": "code",
   "execution_count": null,
   "metadata": {},
   "outputs": [],
   "source": [
    "b.info()"
   ]
  },
  {
   "cell_type": "code",
   "execution_count": null,
   "metadata": {},
   "outputs": [],
   "source": [
    "b.isnull().sum() # no es normal no tener nulls en una tabla, es una tabla super limpia (primeros 10.000)"
   ]
  },
  {
   "cell_type": "markdown",
   "metadata": {},
   "source": [
    "## 2. Seleccionamos las columnas de interes"
   ]
  },
  {
   "cell_type": "code",
   "execution_count": null,
   "metadata": {},
   "outputs": [],
   "source": [
    "b = pd.read_csv('bookings.sample.csv.bz2', sep='^',  usecols = ['arr_port', 'pax', 'year'])\n",
    "# podemos hacerlo sobre el fichero grande y seleccionar nrows=9999, es lo mismo"
   ]
  },
  {
   "cell_type": "code",
   "execution_count": null,
   "metadata": {},
   "outputs": [],
   "source": [
    "b.head()"
   ]
  },
  {
   "cell_type": "markdown",
   "metadata": {},
   "source": [
    "- Qué hacemos con los NULL"
   ]
  },
  {
   "cell_type": "code",
   "execution_count": null,
   "metadata": {},
   "outputs": [],
   "source": [
    "b = b.dropna()"
   ]
  },
  {
   "cell_type": "markdown",
   "metadata": {},
   "source": [
    "-PLAN DE ACCION:\n",
    "        - filtrar 2013\n",
    "        - groupby sobre arr_port\n",
    "        - sumar pax\n",
    "        - ordenar\n",
    "        - top 10"
   ]
  },
  {
   "cell_type": "code",
   "execution_count": null,
   "metadata": {},
   "outputs": [],
   "source": [
    "b = b[b['year']==2013]\n",
    "\n"
   ]
  },
  {
   "cell_type": "code",
   "execution_count": null,
   "metadata": {},
   "outputs": [],
   "source": [
    "len(b)"
   ]
  },
  {
   "cell_type": "code",
   "execution_count": null,
   "metadata": {},
   "outputs": [],
   "source": [
    "del b['year'] # year ya no te sirve para nada"
   ]
  },
  {
   "cell_type": "code",
   "execution_count": null,
   "metadata": {},
   "outputs": [],
   "source": []
  },
  {
   "cell_type": "code",
   "execution_count": null,
   "metadata": {},
   "outputs": [],
   "source": [
    "b = b.dropna()\n",
    "b = b[b['year']==2013]\n",
    "del b['year'] # year ya no te sirve para nada\n",
    "top = b.groupby('arr_port').sum().sort_values(by='pax', ascending= False)\n",
    "top[:10]"
   ]
  },
  {
   "cell_type": "code",
   "execution_count": null,
   "metadata": {},
   "outputs": [],
   "source": [
    "top.reset_index().head()"
   ]
  },
  {
   "cell_type": "markdown",
   "metadata": {},
   "source": [
    "-hay que unir todo lo anterior en una celda para sacar le codigo limpio, desde pd.set.option hasta el top"
   ]
  },
  {
   "cell_type": "markdown",
   "metadata": {},
   "source": [
    "- Hemos sacado Top 10 con 10.000 datos, ahora hay que extrapolarlo al archivo entero con los chunks\n",
    "### Chunks"
   ]
  },
  {
   "cell_type": "code",
   "execution_count": null,
   "metadata": {},
   "outputs": [],
   "source": [
    "bi = pd.read_csv('bookings.csv.bz2', sep='^',  usecols = ['arr_port', 'pax', 'year'], nrows = 9999, iterator=True )\n",
    "#el iterator es la clave para que vaya recorriendo los chunks y vaya avanzando por el archivo,no definimos que numero de elementos"
   ]
  },
  {
   "cell_type": "code",
   "execution_count": null,
   "metadata": {},
   "outputs": [],
   "source": [
    "type(bi)"
   ]
  },
  {
   "cell_type": "code",
   "execution_count": null,
   "metadata": {},
   "outputs": [],
   "source": [
    "b = bi.get_chunk(6000) # si hacemos otra vez get empezamos a partir de 6000"
   ]
  },
  {
   "cell_type": "code",
   "execution_count": null,
   "metadata": {},
   "outputs": [],
   "source": [
    "type(b) # esto es lo que leiamos antes con el read_csv, un DF"
   ]
  },
  {
   "cell_type": "code",
   "execution_count": null,
   "metadata": {},
   "outputs": [],
   "source": [
    "b.head()"
   ]
  },
  {
   "cell_type": "code",
   "execution_count": null,
   "metadata": {},
   "outputs": [],
   "source": [
    "b1 = bi.get_chunk(3000)\n",
    "b1.head(3)"
   ]
  },
  {
   "cell_type": "code",
   "execution_count": null,
   "metadata": {},
   "outputs": [],
   "source": [
    "b2 = bi.get_chunk(300000000)\n",
    "b2.shape"
   ]
  },
  {
   "cell_type": "markdown",
   "metadata": {},
   "source": [
    "- no devuelve error porque hemos definido con nrows que cuando lleguemos a 9999 para, es decir, no tenemos que iterar con el numero exacto de elementos del fichero, cuando llegue al final del fichero para la iteración"
   ]
  },
  {
   "cell_type": "code",
   "execution_count": null,
   "metadata": {},
   "outputs": [],
   "source": []
  },
  {
   "cell_type": "code",
   "execution_count": null,
   "metadata": {},
   "outputs": [],
   "source": [
    "bi = pd.read_csv('bookings.csv.bz2', sep='^',  usecols = ['arr_port', 'pax', 'year'], nrows = 9999, chunksize=3000)\n",
    "# el iterator=True se puede quitar, funciona igualmente\n",
    "all_chunks=pd.DataFrame() # aqui van a ir todos los chunks\n",
    "for i,b in enumerate(bi):\n",
    "    print(i)\n",
    "    print(len(b))\n",
    "    #ahora ponemos el codigo de antes, que vamos a repetir para todos los chunks\n",
    "    b = b.dropna()\n",
    "    b = b[b['year']==2013]\n",
    "    del b['year'] # year ya no te sirve para nada\n",
    "    top = b.groupby('arr_port').sum().sort_values(by='pax', ascending= False)\n",
    "    top.reset_index(inplace=True)\n",
    "    all_chunks = all_chunks.append(top)\n",
    "    \n",
    "    \n",
    "all_result = all_chunks.groupby('arr_port').sum().sort_values(by='pax', ascending= False).reset_index()\n"
   ]
  },
  {
   "cell_type": "code",
   "execution_count": null,
   "metadata": {},
   "outputs": [],
   "source": [
    "all_chunks.shape"
   ]
  },
  {
   "cell_type": "code",
   "execution_count": null,
   "metadata": {},
   "outputs": [],
   "source": [
    "all_result.head(10)"
   ]
  },
  {
   "cell_type": "code",
   "execution_count": null,
   "metadata": {},
   "outputs": [],
   "source": [
    "-Ya lo hemos probado y funciona el codigo, ahora lo hacemos sobre el archivo entero"
   ]
  },
  {
   "cell_type": "code",
   "execution_count": null,
   "metadata": {},
   "outputs": [],
   "source": [
    "%%time\n",
    "bi = pd.read_csv('bookings.csv.bz2', sep='^',  usecols = ['arr_port', 'pax', 'year'],  chunksize=1000000)\n",
    "# el iterator=True se puede quitar, funciona igualmente\n",
    "all_chunks=pd.DataFrame() # aqui van a ir todos los chunks\n",
    "for i,b in enumerate(bi):\n",
    "    print(i)\n",
    "    print(len(b))\n",
    "    #ahora ponemos el codigo de antes, que vamos a repetir para todos los chunks\n",
    "    b = b.dropna()\n",
    "    b = b[b['year']==2013]\n",
    "    del b['year'] # year ya no te sirve para nada\n",
    "    top = b.groupby('arr_port').sum().sort_values(by='pax', ascending= False)\n",
    "    top.reset_index(inplace=True)\n",
    "    all_chunks = all_chunks.append(top)\n",
    "    \n",
    "    \n",
    "all_result = all_chunks.groupby('arr_port').sum().sort_values(by='pax', ascending= False).reset_index()"
   ]
  },
  {
   "cell_type": "code",
   "execution_count": null,
   "metadata": {},
   "outputs": [],
   "source": [
    "all_result.head(10)"
   ]
  },
  {
   "cell_type": "markdown",
   "metadata": {},
   "source": [
    "## Bonus point del ejercicio 2, GeoBase\n"
   ]
  },
  {
   "cell_type": "code",
   "execution_count": null,
   "metadata": {},
   "outputs": [],
   "source": [
    "! pip install Neobase"
   ]
  },
  {
   "cell_type": "code",
   "execution_count": null,
   "metadata": {},
   "outputs": [],
   "source": [
    "import neobase as nb"
   ]
  },
  {
   "cell_type": "code",
   "execution_count": null,
   "metadata": {},
   "outputs": [],
   "source": [
    "from neobase import NeoBase"
   ]
  },
  {
   "cell_type": "code",
   "execution_count": null,
   "metadata": {},
   "outputs": [],
   "source": [
    "geoDict = NeoBase()"
   ]
  },
  {
   "cell_type": "code",
   "execution_count": null,
   "metadata": {},
   "outputs": [],
   "source": [
    "type(geoDict)"
   ]
  },
  {
   "cell_type": "code",
   "execution_count": null,
   "metadata": {},
   "outputs": [],
   "source": [
    "geoDict.get('LHR') # nombre aeropuerto"
   ]
  },
  {
   "cell_type": "code",
   "execution_count": null,
   "metadata": {},
   "outputs": [],
   "source": [
    "type(geoDict.get('LHR') )"
   ]
  },
  {
   "cell_type": "code",
   "execution_count": null,
   "metadata": {},
   "outputs": [],
   "source": [
    "geoDict.get('LHR')['name']"
   ]
  },
  {
   "cell_type": "code",
   "execution_count": null,
   "metadata": {},
   "outputs": [],
   "source": [
    "all_result.head()"
   ]
  },
  {
   "cell_type": "code",
   "execution_count": null,
   "metadata": {},
   "outputs": [],
   "source": [
    "all_result['arr_port'][0]"
   ]
  },
  {
   "cell_type": "code",
   "execution_count": null,
   "metadata": {},
   "outputs": [],
   "source": [
    "- Esto hay que arreglarlo, columna con espacios"
   ]
  },
  {
   "cell_type": "code",
   "execution_count": null,
   "metadata": {},
   "outputs": [],
   "source": [
    "all_result['arr_port'][0].strip() #.strip quita los espacios en blanco a ambos lados"
   ]
  },
  {
   "cell_type": "markdown",
   "metadata": {},
   "source": [
    "- Si tenemos espacios en blanco en el medio, funciones split y join"
   ]
  },
  {
   "cell_type": "code",
   "execution_count": null,
   "metadata": {},
   "outputs": [],
   "source": [
    "'skdfsljf d    h    dkfdkfjdfjdfk'.split()"
   ]
  },
  {
   "cell_type": "code",
   "execution_count": null,
   "metadata": {},
   "outputs": [],
   "source": [
    "' '.join('skdfsljf d    h    dkfdkfjdfjdfk'.split())"
   ]
  },
  {
   "cell_type": "code",
   "execution_count": null,
   "metadata": {},
   "outputs": [],
   "source": [
    "all_result['arr_port'] =all_result['arr_port'].str.strip()"
   ]
  },
  {
   "cell_type": "code",
   "execution_count": null,
   "metadata": {},
   "outputs": [],
   "source": [
    "all_result['AirportName'] = all_result['arr_port'].map(lambda x:geoDict.get(x)['name']) \n",
    "# este error quiere decir que el eropuerto CPQ no esta en el otro sitio"
   ]
  },
  {
   "cell_type": "code",
   "execution_count": null,
   "metadata": {},
   "outputs": [],
   "source": [
    "all_result[all_result['arr_port']=='CPQ'] # da error porque CPQ no tiene name, comprobar!!!!!!"
   ]
  },
  {
   "cell_type": "code",
   "execution_count": null,
   "metadata": {},
   "outputs": [],
   "source": [
    "all_result = all_result[all_result['arr_port']!='CPQ']"
   ]
  },
  {
   "cell_type": "markdown",
   "metadata": {},
   "source": [
    "-Ahora si aplicamos el mismo codigo"
   ]
  },
  {
   "cell_type": "code",
   "execution_count": null,
   "metadata": {},
   "outputs": [],
   "source": [
    "all_result['AirportName'] = all_result['arr_port'].map(lambda x:geoDict.get(x)['name']) \n"
   ]
  },
  {
   "cell_type": "code",
   "execution_count": null,
   "metadata": {},
   "outputs": [],
   "source": [
    "all_result.head()"
   ]
  },
  {
   "cell_type": "code",
   "execution_count": null,
   "metadata": {},
   "outputs": [],
   "source": [
    "#ver qué es astype"
   ]
  },
  {
   "cell_type": "code",
   "execution_count": null,
   "metadata": {},
   "outputs": [],
   "source": [
    "all_result.shape"
   ]
  },
  {
   "cell_type": "code",
   "execution_count": null,
   "metadata": {},
   "outputs": [],
   "source": [
    "all_result.to_csv('top_airports.csv', sep='^',index=False)"
   ]
  },
  {
   "cell_type": "code",
   "execution_count": null,
   "metadata": {},
   "outputs": [],
   "source": [
    "ls"
   ]
  },
  {
   "cell_type": "code",
   "execution_count": null,
   "metadata": {},
   "outputs": [],
   "source": [
    "! head -2 top_airports.csv"
   ]
  },
  {
   "cell_type": "markdown",
   "metadata": {},
   "source": [
    "### - Ejercicio 5: Write a Web Service: Wrap the output of the second exercise in a web service that returns the data in JSON format (instead of printing to the standard output). The web service should accept a parameter n>0. For the top 10 airports, n is 10. For the X top airports, n is X "
   ]
  },
  {
   "cell_type": "code",
   "execution_count": null,
   "metadata": {},
   "outputs": [],
   "source": [
    "#el webservice es un api, lo que esta trabajando en la shell cuando abrimos notebook es un WS, el local host de arriba"
   ]
  },
  {
   "cell_type": "code",
   "execution_count": 1,
   "metadata": {},
   "outputs": [],
   "source": [
    "from flask import Flask"
   ]
  },
  {
   "cell_type": "code",
   "execution_count": null,
   "metadata": {},
   "outputs": [],
   "source": [
    "app =Flask('My first web service')\n",
    "@app.route('/hello', methods=['GET'])\n",
    "#GET The browser tells the server to just get the infomation stored\n",
    "def get_hello():\n",
    "             return 'Hello DS from the service!'\n"
   ]
  },
  {
   "cell_type": "code",
   "execution_count": null,
   "metadata": {},
   "outputs": [],
   "source": [
    "app.run()\n",
    "#running os http://127.0.0.1:5000/"
   ]
  },
  {
   "cell_type": "code",
   "execution_count": null,
   "metadata": {},
   "outputs": [],
   "source": [
    "#si copiamos http://127.0.0.1:5000/hello en otra ventana te devuelve el mensaje"
   ]
  },
  {
   "cell_type": "code",
   "execution_count": 2,
   "metadata": {},
   "outputs": [],
   "source": [
    "app =Flask('My first web service')\n",
    "@app.route('/hello', methods=['GET'])\n",
    "#GET The browser tells the server to just get the infomation stored\n",
    "def get_hello():\n",
    "             return 'Hello DS from the service!'\n",
    "@app.route('/ret_number/<int:n>',methods=['GET'])\n",
    "def get_number(n):\n",
    "    return 'i got %d'%n"
   ]
  },
  {
   "cell_type": "code",
   "execution_count": null,
   "metadata": {},
   "outputs": [
    {
     "name": "stdout",
     "output_type": "stream",
     "text": [
      " * Serving Flask app \"My first web service\" (lazy loading)\n",
      " * Environment: production\n",
      "   WARNING: Do not use the development server in a production environment.\n",
      "   Use a production WSGI server instead.\n",
      " * Debug mode: off\n"
     ]
    },
    {
     "name": "stderr",
     "output_type": "stream",
     "text": [
      " * Running on http://127.0.0.1:5000/ (Press CTRL+C to quit)\n",
      "127.0.0.1 - - [25/Jan/2020 13:42:31] \"GET /ret_number/10 HTTP/1.1\" 200 -\n",
      "127.0.0.1 - - [25/Jan/2020 13:43:23] \"GET /ret_number/10 HTTP/1.1\" 200 -\n",
      "127.0.0.1 - - [25/Jan/2020 13:43:24] \"GET /favicon.ico HTTP/1.1\" 404 -\n"
     ]
    }
   ],
   "source": [
    "app.run()"
   ]
  },
  {
   "cell_type": "code",
   "execution_count": null,
   "metadata": {},
   "outputs": [],
   "source": [
    "#pones en una ventana http://127.0.0.1:5000/ret_number/10 y tienes conexion con ese host"
   ]
  },
  {
   "cell_type": "code",
   "execution_count": null,
   "metadata": {},
   "outputs": [],
   "source": [
    "# el Viernes vamos a aplicar esto al archivo del top ten , intentar"
   ]
  },
  {
   "cell_type": "code",
   "execution_count": null,
   "metadata": {},
   "outputs": [],
   "source": []
  },
  {
   "cell_type": "code",
   "execution_count": null,
   "metadata": {},
   "outputs": [],
   "source": []
  },
  {
   "cell_type": "code",
   "execution_count": null,
   "metadata": {},
   "outputs": [],
   "source": []
  },
  {
   "cell_type": "code",
   "execution_count": null,
   "metadata": {},
   "outputs": [],
   "source": []
  },
  {
   "cell_type": "code",
   "execution_count": null,
   "metadata": {},
   "outputs": [],
   "source": []
  },
  {
   "cell_type": "code",
   "execution_count": null,
   "metadata": {},
   "outputs": [],
   "source": []
  },
  {
   "cell_type": "code",
   "execution_count": null,
   "metadata": {},
   "outputs": [],
   "source": []
  },
  {
   "cell_type": "code",
   "execution_count": null,
   "metadata": {},
   "outputs": [],
   "source": []
  },
  {
   "cell_type": "code",
   "execution_count": null,
   "metadata": {},
   "outputs": [],
   "source": []
  },
  {
   "cell_type": "code",
   "execution_count": null,
   "metadata": {},
   "outputs": [],
   "source": []
  },
  {
   "cell_type": "code",
   "execution_count": null,
   "metadata": {},
   "outputs": [],
   "source": []
  },
  {
   "cell_type": "code",
   "execution_count": null,
   "metadata": {},
   "outputs": [],
   "source": []
  },
  {
   "cell_type": "code",
   "execution_count": null,
   "metadata": {},
   "outputs": [],
   "source": []
  }
 ],
 "metadata": {
  "kernelspec": {
   "display_name": "Python 3",
   "language": "python",
   "name": "python3"
  },
  "language_info": {
   "codemirror_mode": {
    "name": "ipython",
    "version": 3
   },
   "file_extension": ".py",
   "mimetype": "text/x-python",
   "name": "python",
   "nbconvert_exporter": "python",
   "pygments_lexer": "ipython3",
   "version": "3.7.5"
  }
 },
 "nbformat": 4,
 "nbformat_minor": 2
}
