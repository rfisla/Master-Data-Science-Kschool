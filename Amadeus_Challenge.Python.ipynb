{
 "cells": [
  {
   "cell_type": "markdown",
   "metadata": {},
   "source": [
    "# AMADEUS CHALLENGE \n",
    "\n",
    "## Archivos de trabajo: bookings.csv y searches.csv\n"
   ]
  },
  {
   "cell_type": "markdown",
   "metadata": {},
   "source": [
    "### -Ejercicio 1: Count the number of lines in Python for each file"
   ]
  },
  {
   "cell_type": "markdown",
   "metadata": {},
   "source": [
    "### Resuelto con la Shell"
   ]
  },
  {
   "cell_type": "code",
   "execution_count": null,
   "metadata": {},
   "outputs": [],
   "source": [
    "#sacamos un sample para trabajar sobre él con mayor comodidad y agilidad"
   ]
  },
  {
   "cell_type": "code",
   "execution_count": 1,
   "metadata": {},
   "outputs": [
    {
     "name": "stdout",
     "output_type": "stream",
     "text": [
      "\n",
      "bzcat: I/O or other error, bailing out.  Possible reason follows.\n",
      "bzcat: Broken pipe\n",
      "\tInput file = ./bookings.csv.bz2, output file = (stdout)\n"
     ]
    }
   ],
   "source": [
    "! bzcat ./bookings.csv.bz2 | head -10000 > ./bookings.sample.csv"
   ]
  },
  {
   "cell_type": "markdown",
   "metadata": {},
   "source": [
    "- bzip2 otro compresor para archivos grandes, garantiza que dentro solo hay un archivo por lo que puedes trabajar sobre el comprimido sabiendo qué archivo estás modificando"
   ]
  },
  {
   "cell_type": "code",
   "execution_count": null,
   "metadata": {},
   "outputs": [],
   "source": [
    "# ! bzip2 nombre_fichero para comprimir, ! bunzip2 *.bz2 para descomprimir"
   ]
  },
  {
   "cell_type": "code",
   "execution_count": 2,
   "metadata": {},
   "outputs": [],
   "source": [
    "! bzip2 -f ./bookings.sample.csv #-fpara que no de error al ejecutar varias veces"
   ]
  },
  {
   "cell_type": "code",
   "execution_count": null,
   "metadata": {},
   "outputs": [],
   "source": [
    "# hemos pasado el sample otra vez al formato original por costumbre, no es obligatorio"
   ]
  },
  {
   "cell_type": "code",
   "execution_count": null,
   "metadata": {},
   "outputs": [],
   "source": [
    "pwd"
   ]
  },
  {
   "cell_type": "code",
   "execution_count": 3,
   "metadata": {},
   "outputs": [
    {
     "name": "stdout",
     "output_type": "stream",
     "text": [
      "10000\n"
     ]
    }
   ],
   "source": [
    "! bzcat ./bookings.sample.csv.bz2 | wc -l"
   ]
  },
  {
   "cell_type": "code",
   "execution_count": null,
   "metadata": {},
   "outputs": [],
   "source": []
  },
  {
   "cell_type": "markdown",
   "metadata": {},
   "source": [
    "### Resuelto con Python"
   ]
  },
  {
   "cell_type": "code",
   "execution_count": null,
   "metadata": {},
   "outputs": [],
   "source": [
    "- a)sin descomprimir\n",
    "- b)using row uncompressed files"
   ]
  },
  {
   "cell_type": "code",
   "execution_count": 4,
   "metadata": {},
   "outputs": [],
   "source": [
    "import bz2"
   ]
  },
  {
   "cell_type": "code",
   "execution_count": 5,
   "metadata": {},
   "outputs": [],
   "source": [
    "fileBz2 = bz2.BZ2File('./bookings.sample.csv.bz2')"
   ]
  },
  {
   "cell_type": "code",
   "execution_count": 6,
   "metadata": {},
   "outputs": [
    {
     "data": {
      "text/plain": [
       "bz2.BZ2File"
      ]
     },
     "execution_count": 6,
     "metadata": {},
     "output_type": "execute_result"
    }
   ],
   "source": [
    "type(fileBz2)"
   ]
  },
  {
   "cell_type": "code",
   "execution_count": 7,
   "metadata": {},
   "outputs": [
    {
     "name": "stdout",
     "output_type": "stream",
     "text": [
      "10000\n"
     ]
    }
   ],
   "source": [
    "k = 0\n",
    "for line in fileBz2:\n",
    "    k+=1\n",
    "print(k) "
   ]
  },
  {
   "cell_type": "markdown",
   "metadata": {},
   "source": [
    "-Buena practica unir en una sola celda lo que comprobamos que funciona hasta ahora"
   ]
  },
  {
   "cell_type": "code",
   "execution_count": 8,
   "metadata": {},
   "outputs": [
    {
     "name": "stdout",
     "output_type": "stream",
     "text": [
      "10000\n"
     ]
    }
   ],
   "source": [
    "fileBz2 = bz2.BZ2File('./bookings.sample.csv.bz2')\n",
    "k = 0\n",
    "for line in fileBz2:\n",
    "    k+=1\n",
    "print(k) "
   ]
  },
  {
   "cell_type": "markdown",
   "metadata": {},
   "source": [
    "-importante cerrar fichero porque si estamos leyendo muchos nos consume la memoria"
   ]
  },
  {
   "cell_type": "code",
   "execution_count": 9,
   "metadata": {},
   "outputs": [],
   "source": [
    "fileBz2.close()"
   ]
  },
  {
   "cell_type": "code",
   "execution_count": 10,
   "metadata": {},
   "outputs": [
    {
     "data": {
      "text/plain": [
       "True"
      ]
     },
     "execution_count": 10,
     "metadata": {},
     "output_type": "execute_result"
    }
   ],
   "source": [
    "fileBz2.closed"
   ]
  },
  {
   "cell_type": "markdown",
   "metadata": {},
   "source": [
    "-Mejor usar with para que se cierre automaticamente el archivo y no nos preocupamos"
   ]
  },
  {
   "cell_type": "code",
   "execution_count": 11,
   "metadata": {},
   "outputs": [
    {
     "name": "stdout",
     "output_type": "stream",
     "text": [
      "10000\n"
     ]
    }
   ],
   "source": [
    "with bz2.BZ2File('./bookings.sample.csv.bz2') as fileBz2:\n",
    "    k = 0\n",
    "    for line in fileBz2:\n",
    "        k+=1\n",
    "    print(k) "
   ]
  },
  {
   "cell_type": "code",
   "execution_count": 12,
   "metadata": {},
   "outputs": [
    {
     "data": {
      "text/plain": [
       "True"
      ]
     },
     "execution_count": 12,
     "metadata": {},
     "output_type": "execute_result"
    }
   ],
   "source": [
    "fileBz2.closed"
   ]
  },
  {
   "cell_type": "markdown",
   "metadata": {},
   "source": [
    "-Leemos y cerramos el fichero con try y except para evitar que nos de error, y cubrir el caso de que el archivo no exista, como en el siguiente ejemplo:"
   ]
  },
  {
   "cell_type": "code",
   "execution_count": 13,
   "metadata": {},
   "outputs": [
    {
     "name": "stdout",
     "output_type": "stream",
     "text": [
      "File not found\n"
     ]
    }
   ],
   "source": [
    "try:\n",
    "    with bz2.BZ2File('./bookingsj.sample.csv.bz2') as fileBz2:\n",
    "        k = 0\n",
    "        for line in fileBz2:\n",
    "            k+=1\n",
    "        print(k) \n",
    "except FileNotFoundError:\n",
    "    print('File not found')\n",
    "except:\n",
    "    print('unexpected error')"
   ]
  },
  {
   "cell_type": "markdown",
   "metadata": {},
   "source": [
    "-Esta es la forma más profesional de hacerlo"
   ]
  },
  {
   "cell_type": "code",
   "execution_count": 14,
   "metadata": {},
   "outputs": [
    {
     "name": "stdout",
     "output_type": "stream",
     "text": [
      "[Errno 2] No such file or directory: './bookingsj.sample.csv.bz2'\n"
     ]
    }
   ],
   "source": [
    "try:\n",
    "    with bz2.BZ2File('./bookingsj.sample.csv.bz2') as fileBz2:\n",
    "        k = 0\n",
    "        for line in fileBz2:\n",
    "            k+=1\n",
    "        print(k) \n",
    "except FileNotFoundError as message:\n",
    "    print(message)\n",
    "except:\n",
    "    print('unexpected error')"
   ]
  },
  {
   "cell_type": "markdown",
   "metadata": {},
   "source": [
    "- Codigo aún mas profesional"
   ]
  },
  {
   "cell_type": "code",
   "execution_count": 15,
   "metadata": {},
   "outputs": [
    {
     "name": "stdout",
     "output_type": "stream",
     "text": [
      "10000\n"
     ]
    }
   ],
   "source": [
    "try:\n",
    "    with bz2.BZ2File('./bookings.sample.csv.bz2') as fileBz2:\n",
    "        k = 0\n",
    "        for k,line in enumerate(fileBz2):\n",
    "                pass #no hace nada\n",
    "        print(k+1) \n",
    "except FileNotFoundError as message:\n",
    "    print(message)\n",
    "except:\n",
    "    print('unexpected error')"
   ]
  },
  {
   "cell_type": "markdown",
   "metadata": {},
   "source": [
    "### Resuelto con Pandas"
   ]
  },
  {
   "cell_type": "code",
   "execution_count": 16,
   "metadata": {},
   "outputs": [],
   "source": [
    "import pandas as pd"
   ]
  },
  {
   "cell_type": "markdown",
   "metadata": {},
   "source": [
    "-Sacamos los nombres de las columnas"
   ]
  },
  {
   "cell_type": "code",
   "execution_count": 18,
   "metadata": {},
   "outputs": [
    {
     "name": "stdout",
     "output_type": "stream",
     "text": [
      "act_date           \n",
      "source\n",
      "pos_ctry\n",
      "pos_iata\n",
      "pos_oid  \n",
      "rloc          \n",
      "cre_date           \n",
      "duration\n",
      "distance\n",
      "dep_port\n",
      "dep_city\n",
      "dep_ctry\n",
      "arr_port\n",
      "arr_city\n",
      "arr_ctry\n",
      "lst_port\n",
      "lst_city\n",
      "lst_ctry\n",
      "brd_port\n",
      "brd_city\n",
      "brd_ctry\n",
      "off_port\n",
      "off_city\n",
      "off_ctry\n",
      "mkt_port\n",
      "mkt_city\n",
      "mkt_ctry\n",
      "intl\n",
      "route          \n",
      "carrier\n",
      "bkg_class\n",
      "cab_class\n",
      "brd_time           \n",
      "off_time           \n",
      "pax\n",
      "year\n",
      "month\n",
      "oid      \n",
      "\n",
      "bzcat: I/O or other error, bailing out.  Possible reason follows.\n",
      "bzcat: Broken pipe\n",
      "\tInput file = bookings.sample.csv.bz2, output file = (stdout)\n"
     ]
    }
   ],
   "source": [
    "! bzcat bookings.sample.csv.bz2 | head -1 | tr ^ '\\n'"
   ]
  },
  {
   "cell_type": "markdown",
   "metadata": {},
   "source": [
    "-Elegimos solo una columna para no leer el fichero entero"
   ]
  },
  {
   "cell_type": "code",
   "execution_count": 19,
   "metadata": {},
   "outputs": [],
   "source": [
    "df = pd.read_csv('bookings.sample.csv.bz2', sep='^', usecols = ['pax'])"
   ]
  },
  {
   "cell_type": "markdown",
   "metadata": {},
   "source": [
    "-Nos saldrán 9999 líneas porque una es la cabecera"
   ]
  },
  {
   "cell_type": "code",
   "execution_count": 20,
   "metadata": {},
   "outputs": [
    {
     "data": {
      "text/plain": [
       "(9999, 1)"
      ]
     },
     "execution_count": 20,
     "metadata": {},
     "output_type": "execute_result"
    }
   ],
   "source": [
    "df.shape"
   ]
  },
  {
   "cell_type": "code",
   "execution_count": 21,
   "metadata": {},
   "outputs": [
    {
     "data": {
      "text/plain": [
       "9999"
      ]
     },
     "execution_count": 21,
     "metadata": {},
     "output_type": "execute_result"
    }
   ],
   "source": [
    "len(df)"
   ]
  },
  {
   "cell_type": "markdown",
   "metadata": {},
   "source": [
    "### -Ejercicio 2: Plot the monthly number of searches for flights arriving at Málaga, Madrid or Barcelona"
   ]
  },
  {
   "cell_type": "markdown",
   "metadata": {},
   "source": [
    "-inicialmente yo lei el archivo con el atributo nrrows 10.000 lineas sobre el fichero original en lugar de sobre el sample, pero también se puede hacer trabajando directamente con el sample, es lo mismo"
   ]
  },
  {
   "cell_type": "code",
   "execution_count": 22,
   "metadata": {},
   "outputs": [],
   "source": [
    "import pandas as pd"
   ]
  },
  {
   "cell_type": "code",
   "execution_count": 23,
   "metadata": {},
   "outputs": [],
   "source": [
    "b = pd.read_csv('bookings.sample.csv.bz2', sep='^') "
   ]
  },
  {
   "cell_type": "markdown",
   "metadata": {},
   "source": [
    "#        PLAN DE ACCION:"
   ]
  },
  {
   "cell_type": "markdown",
   "metadata": {},
   "source": [
    "## 1. Nos familiarizamos con los datos"
   ]
  },
  {
   "cell_type": "code",
   "execution_count": 24,
   "metadata": {},
   "outputs": [
    {
     "data": {
      "text/plain": [
       "(9999, 38)"
      ]
     },
     "execution_count": 24,
     "metadata": {},
     "output_type": "execute_result"
    }
   ],
   "source": [
    "b.shape"
   ]
  },
  {
   "cell_type": "code",
   "execution_count": 25,
   "metadata": {},
   "outputs": [
    {
     "data": {
      "text/html": [
       "<div>\n",
       "<style scoped>\n",
       "    .dataframe tbody tr th:only-of-type {\n",
       "        vertical-align: middle;\n",
       "    }\n",
       "\n",
       "    .dataframe tbody tr th {\n",
       "        vertical-align: top;\n",
       "    }\n",
       "\n",
       "    .dataframe thead th {\n",
       "        text-align: right;\n",
       "    }\n",
       "</style>\n",
       "<table border=\"1\" class=\"dataframe\">\n",
       "  <thead>\n",
       "    <tr style=\"text-align: right;\">\n",
       "      <th></th>\n",
       "      <th>duration</th>\n",
       "      <th>distance</th>\n",
       "      <th>intl</th>\n",
       "      <th>pax</th>\n",
       "      <th>year</th>\n",
       "      <th>month</th>\n",
       "    </tr>\n",
       "  </thead>\n",
       "  <tbody>\n",
       "    <tr>\n",
       "      <th>count</th>\n",
       "      <td>9999.000000</td>\n",
       "      <td>9999.000000</td>\n",
       "      <td>9999.000000</td>\n",
       "      <td>9999.000000</td>\n",
       "      <td>9999.0</td>\n",
       "      <td>9999.0</td>\n",
       "    </tr>\n",
       "    <tr>\n",
       "      <th>mean</th>\n",
       "      <td>20209.746075</td>\n",
       "      <td>455.608861</td>\n",
       "      <td>0.596260</td>\n",
       "      <td>0.516152</td>\n",
       "      <td>2013.0</td>\n",
       "      <td>3.0</td>\n",
       "    </tr>\n",
       "    <tr>\n",
       "      <th>std</th>\n",
       "      <td>42243.233482</td>\n",
       "      <td>1738.891068</td>\n",
       "      <td>0.490671</td>\n",
       "      <td>1.783970</td>\n",
       "      <td>0.0</td>\n",
       "      <td>0.0</td>\n",
       "    </tr>\n",
       "    <tr>\n",
       "      <th>min</th>\n",
       "      <td>59.000000</td>\n",
       "      <td>0.000000</td>\n",
       "      <td>0.000000</td>\n",
       "      <td>-25.000000</td>\n",
       "      <td>2013.0</td>\n",
       "      <td>3.0</td>\n",
       "    </tr>\n",
       "    <tr>\n",
       "      <th>25%</th>\n",
       "      <td>3339.000000</td>\n",
       "      <td>0.000000</td>\n",
       "      <td>0.000000</td>\n",
       "      <td>-1.000000</td>\n",
       "      <td>2013.0</td>\n",
       "      <td>3.0</td>\n",
       "    </tr>\n",
       "    <tr>\n",
       "      <th>50%</th>\n",
       "      <td>7721.000000</td>\n",
       "      <td>0.000000</td>\n",
       "      <td>1.000000</td>\n",
       "      <td>1.000000</td>\n",
       "      <td>2013.0</td>\n",
       "      <td>3.0</td>\n",
       "    </tr>\n",
       "    <tr>\n",
       "      <th>75%</th>\n",
       "      <td>19077.000000</td>\n",
       "      <td>0.000000</td>\n",
       "      <td>1.000000</td>\n",
       "      <td>1.000000</td>\n",
       "      <td>2013.0</td>\n",
       "      <td>3.0</td>\n",
       "    </tr>\n",
       "    <tr>\n",
       "      <th>max</th>\n",
       "      <td>488131.000000</td>\n",
       "      <td>18481.000000</td>\n",
       "      <td>1.000000</td>\n",
       "      <td>25.000000</td>\n",
       "      <td>2013.0</td>\n",
       "      <td>3.0</td>\n",
       "    </tr>\n",
       "  </tbody>\n",
       "</table>\n",
       "</div>"
      ],
      "text/plain": [
       "            duration      distance         intl          pax    year   month\n",
       "count    9999.000000   9999.000000  9999.000000  9999.000000  9999.0  9999.0\n",
       "mean    20209.746075    455.608861     0.596260     0.516152  2013.0     3.0\n",
       "std     42243.233482   1738.891068     0.490671     1.783970     0.0     0.0\n",
       "min        59.000000      0.000000     0.000000   -25.000000  2013.0     3.0\n",
       "25%      3339.000000      0.000000     0.000000    -1.000000  2013.0     3.0\n",
       "50%      7721.000000      0.000000     1.000000     1.000000  2013.0     3.0\n",
       "75%     19077.000000      0.000000     1.000000     1.000000  2013.0     3.0\n",
       "max    488131.000000  18481.000000     1.000000    25.000000  2013.0     3.0"
      ]
     },
     "execution_count": 25,
     "metadata": {},
     "output_type": "execute_result"
    }
   ],
   "source": [
    "b.describe() # nos devuelve solo las columnas que son numéricas"
   ]
  },
  {
   "cell_type": "code",
   "execution_count": 26,
   "metadata": {},
   "outputs": [
    {
     "data": {
      "text/html": [
       "<div>\n",
       "<style scoped>\n",
       "    .dataframe tbody tr th:only-of-type {\n",
       "        vertical-align: middle;\n",
       "    }\n",
       "\n",
       "    .dataframe tbody tr th {\n",
       "        vertical-align: top;\n",
       "    }\n",
       "\n",
       "    .dataframe thead th {\n",
       "        text-align: right;\n",
       "    }\n",
       "</style>\n",
       "<table border=\"1\" class=\"dataframe\">\n",
       "  <thead>\n",
       "    <tr style=\"text-align: right;\">\n",
       "      <th></th>\n",
       "      <th>act_date</th>\n",
       "      <th>source</th>\n",
       "      <th>pos_ctry</th>\n",
       "      <th>pos_iata</th>\n",
       "      <th>pos_oid</th>\n",
       "      <th>rloc</th>\n",
       "      <th>cre_date</th>\n",
       "      <th>duration</th>\n",
       "      <th>distance</th>\n",
       "      <th>dep_port</th>\n",
       "      <th>...</th>\n",
       "      <th>route</th>\n",
       "      <th>carrier</th>\n",
       "      <th>bkg_class</th>\n",
       "      <th>cab_class</th>\n",
       "      <th>brd_time</th>\n",
       "      <th>off_time</th>\n",
       "      <th>pax</th>\n",
       "      <th>year</th>\n",
       "      <th>month</th>\n",
       "      <th>oid</th>\n",
       "    </tr>\n",
       "  </thead>\n",
       "  <tbody>\n",
       "    <tr>\n",
       "      <th>0</th>\n",
       "      <td>2013-03-05 00:00:00</td>\n",
       "      <td>1A</td>\n",
       "      <td>DE</td>\n",
       "      <td>a68dd7ae953c8acfb187a1af2dcbe123</td>\n",
       "      <td>1a11ae49fcbf545fd2afc1a24d88d2b7</td>\n",
       "      <td>ea65900e72d71f4626378e2ebd298267</td>\n",
       "      <td>2013-02-22 00:00:00</td>\n",
       "      <td>1708</td>\n",
       "      <td>0</td>\n",
       "      <td>ZRH</td>\n",
       "      <td>...</td>\n",
       "      <td>LHRZRH</td>\n",
       "      <td>VI</td>\n",
       "      <td>T</td>\n",
       "      <td>Y</td>\n",
       "      <td>2013-03-07 08:50:00</td>\n",
       "      <td>2013-03-07 11:33:37</td>\n",
       "      <td>-1</td>\n",
       "      <td>2013</td>\n",
       "      <td>3</td>\n",
       "      <td>NULL</td>\n",
       "    </tr>\n",
       "    <tr>\n",
       "      <th>1</th>\n",
       "      <td>2013-03-26 00:00:00</td>\n",
       "      <td>1A</td>\n",
       "      <td>US</td>\n",
       "      <td>e612b9eeeee6f17f42d9b0d3b79e75ca</td>\n",
       "      <td>7437560d8f276d6d05eeb806d9e7edee</td>\n",
       "      <td>737295a86982c941f1c2da9a46a14043</td>\n",
       "      <td>2013-03-26 00:00:00</td>\n",
       "      <td>135270</td>\n",
       "      <td>0</td>\n",
       "      <td>SAL</td>\n",
       "      <td>...</td>\n",
       "      <td>SALATLCLT</td>\n",
       "      <td>NV</td>\n",
       "      <td>L</td>\n",
       "      <td>Y</td>\n",
       "      <td>2013-04-12 13:04:00</td>\n",
       "      <td>2013-04-12 22:05:40</td>\n",
       "      <td>1</td>\n",
       "      <td>2013</td>\n",
       "      <td>3</td>\n",
       "      <td>NULL</td>\n",
       "    </tr>\n",
       "    <tr>\n",
       "      <th>2</th>\n",
       "      <td>2013-03-26 00:00:00</td>\n",
       "      <td>1A</td>\n",
       "      <td>US</td>\n",
       "      <td>e612b9eeeee6f17f42d9b0d3b79e75ca</td>\n",
       "      <td>7437560d8f276d6d05eeb806d9e7edee</td>\n",
       "      <td>737295a86982c941f1c2da9a46a14043</td>\n",
       "      <td>2013-03-26 00:00:00</td>\n",
       "      <td>135270</td>\n",
       "      <td>0</td>\n",
       "      <td>SAL</td>\n",
       "      <td>...</td>\n",
       "      <td>CLTATLSAL</td>\n",
       "      <td>NV</td>\n",
       "      <td>U</td>\n",
       "      <td>Y</td>\n",
       "      <td>2013-07-15 07:00:00</td>\n",
       "      <td>2013-07-15 11:34:51</td>\n",
       "      <td>1</td>\n",
       "      <td>2013</td>\n",
       "      <td>3</td>\n",
       "      <td>NULL</td>\n",
       "    </tr>\n",
       "    <tr>\n",
       "      <th>3</th>\n",
       "      <td>2013-03-26 00:00:00</td>\n",
       "      <td>1A</td>\n",
       "      <td>AU</td>\n",
       "      <td>0f984b3bb6bd06661c95529bbd6193bc</td>\n",
       "      <td>36472c6dbaf7afec9136ac40364e2794</td>\n",
       "      <td>5ecf00fdcbcec761c43dc7285253d0c1</td>\n",
       "      <td>2013-03-26 00:00:00</td>\n",
       "      <td>30885</td>\n",
       "      <td>0</td>\n",
       "      <td>AKL</td>\n",
       "      <td>...</td>\n",
       "      <td>AKLHKGSVO</td>\n",
       "      <td>XK</td>\n",
       "      <td>G</td>\n",
       "      <td>Y</td>\n",
       "      <td>2013-04-24 23:59:00</td>\n",
       "      <td>2013-04-25 16:06:31</td>\n",
       "      <td>1</td>\n",
       "      <td>2013</td>\n",
       "      <td>3</td>\n",
       "      <td>SYDA82546</td>\n",
       "    </tr>\n",
       "    <tr>\n",
       "      <th>4</th>\n",
       "      <td>2013-03-26 00:00:00</td>\n",
       "      <td>1A</td>\n",
       "      <td>AU</td>\n",
       "      <td>0f984b3bb6bd06661c95529bbd6193bc</td>\n",
       "      <td>36472c6dbaf7afec9136ac40364e2794</td>\n",
       "      <td>5ecf00fdcbcec761c43dc7285253d0c1</td>\n",
       "      <td>2013-03-26 00:00:00</td>\n",
       "      <td>30885</td>\n",
       "      <td>0</td>\n",
       "      <td>AKL</td>\n",
       "      <td>...</td>\n",
       "      <td>SVOHKGAKL</td>\n",
       "      <td>XK</td>\n",
       "      <td>G</td>\n",
       "      <td>Y</td>\n",
       "      <td>2013-05-14 20:15:00</td>\n",
       "      <td>2013-05-16 10:44:50</td>\n",
       "      <td>1</td>\n",
       "      <td>2013</td>\n",
       "      <td>3</td>\n",
       "      <td>SYDA82546</td>\n",
       "    </tr>\n",
       "  </tbody>\n",
       "</table>\n",
       "<p>5 rows × 38 columns</p>\n",
       "</div>"
      ],
      "text/plain": [
       "   act_date             source  pos_ctry                          pos_iata  \\\n",
       "0  2013-03-05 00:00:00  1A      DE        a68dd7ae953c8acfb187a1af2dcbe123   \n",
       "1  2013-03-26 00:00:00  1A      US        e612b9eeeee6f17f42d9b0d3b79e75ca   \n",
       "2  2013-03-26 00:00:00  1A      US        e612b9eeeee6f17f42d9b0d3b79e75ca   \n",
       "3  2013-03-26 00:00:00  1A      AU        0f984b3bb6bd06661c95529bbd6193bc   \n",
       "4  2013-03-26 00:00:00  1A      AU        0f984b3bb6bd06661c95529bbd6193bc   \n",
       "\n",
       "                          pos_oid                      rloc            \\\n",
       "0  1a11ae49fcbf545fd2afc1a24d88d2b7  ea65900e72d71f4626378e2ebd298267   \n",
       "1  7437560d8f276d6d05eeb806d9e7edee  737295a86982c941f1c2da9a46a14043   \n",
       "2  7437560d8f276d6d05eeb806d9e7edee  737295a86982c941f1c2da9a46a14043   \n",
       "3  36472c6dbaf7afec9136ac40364e2794  5ecf00fdcbcec761c43dc7285253d0c1   \n",
       "4  36472c6dbaf7afec9136ac40364e2794  5ecf00fdcbcec761c43dc7285253d0c1   \n",
       "\n",
       "   cre_date             duration  distance  dep_port    ...      \\\n",
       "0  2013-02-22 00:00:00      1708         0  ZRH         ...       \n",
       "1  2013-03-26 00:00:00    135270         0  SAL         ...       \n",
       "2  2013-03-26 00:00:00    135270         0  SAL         ...       \n",
       "3  2013-03-26 00:00:00     30885         0  AKL         ...       \n",
       "4  2013-03-26 00:00:00     30885         0  AKL         ...       \n",
       "\n",
       "   route           carrier  bkg_class  cab_class  brd_time             \\\n",
       "0  LHRZRH               VI  T          Y          2013-03-07 08:50:00   \n",
       "1  SALATLCLT            NV  L          Y          2013-04-12 13:04:00   \n",
       "2  CLTATLSAL            NV  U          Y          2013-07-15 07:00:00   \n",
       "3  AKLHKGSVO            XK  G          Y          2013-04-24 23:59:00   \n",
       "4  SVOHKGAKL            XK  G          Y          2013-05-14 20:15:00   \n",
       "\n",
       "   off_time            pax  year month  oid        \n",
       "0  2013-03-07 11:33:37  -1  2013     3  NULL       \n",
       "1  2013-04-12 22:05:40   1  2013     3  NULL       \n",
       "2  2013-07-15 11:34:51   1  2013     3  NULL       \n",
       "3  2013-04-25 16:06:31   1  2013     3  SYDA82546  \n",
       "4  2013-05-16 10:44:50   1  2013     3  SYDA82546  \n",
       "\n",
       "[5 rows x 38 columns]"
      ]
     },
     "execution_count": 26,
     "metadata": {},
     "output_type": "execute_result"
    }
   ],
   "source": [
    "b.head()"
   ]
  },
  {
   "cell_type": "markdown",
   "metadata": {},
   "source": [
    "-La función sample te devuelve 5 filas aleatorias del archivo"
   ]
  },
  {
   "cell_type": "code",
   "execution_count": 27,
   "metadata": {},
   "outputs": [
    {
     "data": {
      "text/html": [
       "<div>\n",
       "<style scoped>\n",
       "    .dataframe tbody tr th:only-of-type {\n",
       "        vertical-align: middle;\n",
       "    }\n",
       "\n",
       "    .dataframe tbody tr th {\n",
       "        vertical-align: top;\n",
       "    }\n",
       "\n",
       "    .dataframe thead th {\n",
       "        text-align: right;\n",
       "    }\n",
       "</style>\n",
       "<table border=\"1\" class=\"dataframe\">\n",
       "  <thead>\n",
       "    <tr style=\"text-align: right;\">\n",
       "      <th></th>\n",
       "      <th>act_date</th>\n",
       "      <th>source</th>\n",
       "      <th>pos_ctry</th>\n",
       "      <th>pos_iata</th>\n",
       "      <th>pos_oid</th>\n",
       "      <th>rloc</th>\n",
       "      <th>cre_date</th>\n",
       "      <th>duration</th>\n",
       "      <th>distance</th>\n",
       "      <th>dep_port</th>\n",
       "      <th>...</th>\n",
       "      <th>route</th>\n",
       "      <th>carrier</th>\n",
       "      <th>bkg_class</th>\n",
       "      <th>cab_class</th>\n",
       "      <th>brd_time</th>\n",
       "      <th>off_time</th>\n",
       "      <th>pax</th>\n",
       "      <th>year</th>\n",
       "      <th>month</th>\n",
       "      <th>oid</th>\n",
       "    </tr>\n",
       "  </thead>\n",
       "  <tbody>\n",
       "    <tr>\n",
       "      <th>9079</th>\n",
       "      <td>2013-03-06 00:00:00</td>\n",
       "      <td>1P</td>\n",
       "      <td>LB</td>\n",
       "      <td>fb1e34ecaf06a71d3b38e9da8543f310</td>\n",
       "      <td>24856a47570f69253fd12224fa198cc0</td>\n",
       "      <td>8766ee850e14f10e2311461061462d58</td>\n",
       "      <td>2013-03-05 00:00:00</td>\n",
       "      <td>15082</td>\n",
       "      <td>0</td>\n",
       "      <td>BEY</td>\n",
       "      <td>...</td>\n",
       "      <td>CDGBEY</td>\n",
       "      <td>KP</td>\n",
       "      <td>T</td>\n",
       "      <td>Y</td>\n",
       "      <td>2013-03-25 16:20:00</td>\n",
       "      <td>2013-03-25 21:52:49</td>\n",
       "      <td>-1</td>\n",
       "      <td>2013</td>\n",
       "      <td>3</td>\n",
       "      <td>NULL</td>\n",
       "    </tr>\n",
       "    <tr>\n",
       "      <th>9131</th>\n",
       "      <td>2013-03-20 00:00:00</td>\n",
       "      <td>1P</td>\n",
       "      <td>SE</td>\n",
       "      <td>4425c32249b69d5e2cb9a4c2db2a761e</td>\n",
       "      <td>d4e2f2dd948cf1fefe04d9e41523fe1c</td>\n",
       "      <td>f54a261f51ccd2216b2bf6d5dfde4003</td>\n",
       "      <td>2013-03-20 00:00:00</td>\n",
       "      <td>44522</td>\n",
       "      <td>0</td>\n",
       "      <td>CPH</td>\n",
       "      <td>...</td>\n",
       "      <td>CPHDXBPEW</td>\n",
       "      <td>OU</td>\n",
       "      <td>K</td>\n",
       "      <td>Y</td>\n",
       "      <td>2013-04-01 14:55:00</td>\n",
       "      <td>2013-04-02 08:47:28</td>\n",
       "      <td>1</td>\n",
       "      <td>2013</td>\n",
       "      <td>3</td>\n",
       "      <td>NULL</td>\n",
       "    </tr>\n",
       "    <tr>\n",
       "      <th>866</th>\n",
       "      <td>2013-03-13 00:00:00</td>\n",
       "      <td>1A</td>\n",
       "      <td>CH</td>\n",
       "      <td>a3ebf7f83905f86ff2455bfaff5226ef</td>\n",
       "      <td>79102c6e83d21d6633c7554b817c07a0</td>\n",
       "      <td>bd69f0ce6e59a4b14d39d6e8042e7fab</td>\n",
       "      <td>2013-03-13 00:00:00</td>\n",
       "      <td>1743</td>\n",
       "      <td>0</td>\n",
       "      <td>DUS</td>\n",
       "      <td>...</td>\n",
       "      <td>FCODUS</td>\n",
       "      <td>VR</td>\n",
       "      <td>Z</td>\n",
       "      <td>C</td>\n",
       "      <td>2013-04-24 14:10:00</td>\n",
       "      <td>2013-04-24 16:18:05</td>\n",
       "      <td>1</td>\n",
       "      <td>2013</td>\n",
       "      <td>3</td>\n",
       "      <td>NULL</td>\n",
       "    </tr>\n",
       "    <tr>\n",
       "      <th>7259</th>\n",
       "      <td>2013-03-14 00:00:00</td>\n",
       "      <td>1A</td>\n",
       "      <td>CA</td>\n",
       "      <td>ca08194c774ff0ec180ea682e2b9887f</td>\n",
       "      <td>ff21a3fda04829d23da48c1d98564c52</td>\n",
       "      <td>f00a6c49f77d86b608ccfe997cb24b81</td>\n",
       "      <td>2013-03-12 00:00:00</td>\n",
       "      <td>57304</td>\n",
       "      <td>0</td>\n",
       "      <td>YVR</td>\n",
       "      <td>...</td>\n",
       "      <td>TPEYVR</td>\n",
       "      <td>LC</td>\n",
       "      <td>U</td>\n",
       "      <td>Y</td>\n",
       "      <td>2013-05-01 23:55:00</td>\n",
       "      <td>2013-05-01 20:59:38</td>\n",
       "      <td>-1</td>\n",
       "      <td>2013</td>\n",
       "      <td>3</td>\n",
       "      <td>YVR6W211N</td>\n",
       "    </tr>\n",
       "    <tr>\n",
       "      <th>6562</th>\n",
       "      <td>2013-03-15 00:00:00</td>\n",
       "      <td>1A</td>\n",
       "      <td>DE</td>\n",
       "      <td>329c96758f09971c75db31792c1c2b94</td>\n",
       "      <td>6ab00ec6f3910d2b6cac4644937e2187</td>\n",
       "      <td>5ccc35fe371c0c0beb4e44f0bed3eed5</td>\n",
       "      <td>2013-03-11 00:00:00</td>\n",
       "      <td>7103</td>\n",
       "      <td>0</td>\n",
       "      <td>FRA</td>\n",
       "      <td>...</td>\n",
       "      <td>BEYFRA</td>\n",
       "      <td>WO</td>\n",
       "      <td>Q</td>\n",
       "      <td>Y</td>\n",
       "      <td>2013-03-25 07:15:00</td>\n",
       "      <td>2013-03-25 10:23:17</td>\n",
       "      <td>1</td>\n",
       "      <td>2013</td>\n",
       "      <td>3</td>\n",
       "      <td>FRAER2211</td>\n",
       "    </tr>\n",
       "  </tbody>\n",
       "</table>\n",
       "<p>5 rows × 38 columns</p>\n",
       "</div>"
      ],
      "text/plain": [
       "      act_date             source  pos_ctry                          pos_iata  \\\n",
       "9079  2013-03-06 00:00:00  1P      LB        fb1e34ecaf06a71d3b38e9da8543f310   \n",
       "9131  2013-03-20 00:00:00  1P      SE        4425c32249b69d5e2cb9a4c2db2a761e   \n",
       "866   2013-03-13 00:00:00  1A      CH        a3ebf7f83905f86ff2455bfaff5226ef   \n",
       "7259  2013-03-14 00:00:00  1A      CA        ca08194c774ff0ec180ea682e2b9887f   \n",
       "6562  2013-03-15 00:00:00  1A      DE        329c96758f09971c75db31792c1c2b94   \n",
       "\n",
       "                             pos_oid                      rloc            \\\n",
       "9079  24856a47570f69253fd12224fa198cc0  8766ee850e14f10e2311461061462d58   \n",
       "9131  d4e2f2dd948cf1fefe04d9e41523fe1c  f54a261f51ccd2216b2bf6d5dfde4003   \n",
       "866   79102c6e83d21d6633c7554b817c07a0  bd69f0ce6e59a4b14d39d6e8042e7fab   \n",
       "7259  ff21a3fda04829d23da48c1d98564c52  f00a6c49f77d86b608ccfe997cb24b81   \n",
       "6562  6ab00ec6f3910d2b6cac4644937e2187  5ccc35fe371c0c0beb4e44f0bed3eed5   \n",
       "\n",
       "      cre_date             duration  distance  dep_port    ...      \\\n",
       "9079  2013-03-05 00:00:00     15082         0  BEY         ...       \n",
       "9131  2013-03-20 00:00:00     44522         0  CPH         ...       \n",
       "866   2013-03-13 00:00:00      1743         0  DUS         ...       \n",
       "7259  2013-03-12 00:00:00     57304         0  YVR         ...       \n",
       "6562  2013-03-11 00:00:00      7103         0  FRA         ...       \n",
       "\n",
       "      route           carrier  bkg_class  cab_class  brd_time             \\\n",
       "9079  CDGBEY               KP  T          Y          2013-03-25 16:20:00   \n",
       "9131  CPHDXBPEW            OU  K          Y          2013-04-01 14:55:00   \n",
       "866   FCODUS               VR  Z          C          2013-04-24 14:10:00   \n",
       "7259     TPEYVR            LC  U          Y          2013-05-01 23:55:00   \n",
       "6562     BEYFRA            WO  Q          Y          2013-03-25 07:15:00   \n",
       "\n",
       "      off_time            pax  year month  oid        \n",
       "9079  2013-03-25 21:52:49  -1  2013     3  NULL       \n",
       "9131  2013-04-02 08:47:28   1  2013     3  NULL       \n",
       "866   2013-04-24 16:18:05   1  2013     3  NULL       \n",
       "7259  2013-05-01 20:59:38  -1  2013     3  YVR6W211N  \n",
       "6562  2013-03-25 10:23:17   1  2013     3  FRAER2211  \n",
       "\n",
       "[5 rows x 38 columns]"
      ]
     },
     "execution_count": 27,
     "metadata": {},
     "output_type": "execute_result"
    }
   ],
   "source": [
    "b.sample(5)"
   ]
  },
  {
   "cell_type": "markdown",
   "metadata": {},
   "source": [
    "-Estos comandos (head,sample,tail) no nos sirve porque no podemos ver las 38 columnas, para eso tenemos el set_option, con None no hay limite de columnas, si ponemos numero esas son las que nos enseñan"
   ]
  },
  {
   "cell_type": "code",
   "execution_count": 28,
   "metadata": {},
   "outputs": [],
   "source": [
    "pd.set_option('display.max_columns',None)"
   ]
  },
  {
   "cell_type": "code",
   "execution_count": 29,
   "metadata": {},
   "outputs": [
    {
     "data": {
      "text/html": [
       "<div>\n",
       "<style scoped>\n",
       "    .dataframe tbody tr th:only-of-type {\n",
       "        vertical-align: middle;\n",
       "    }\n",
       "\n",
       "    .dataframe tbody tr th {\n",
       "        vertical-align: top;\n",
       "    }\n",
       "\n",
       "    .dataframe thead th {\n",
       "        text-align: right;\n",
       "    }\n",
       "</style>\n",
       "<table border=\"1\" class=\"dataframe\">\n",
       "  <thead>\n",
       "    <tr style=\"text-align: right;\">\n",
       "      <th></th>\n",
       "      <th>act_date</th>\n",
       "      <th>source</th>\n",
       "      <th>pos_ctry</th>\n",
       "      <th>pos_iata</th>\n",
       "      <th>pos_oid</th>\n",
       "      <th>rloc</th>\n",
       "      <th>cre_date</th>\n",
       "      <th>duration</th>\n",
       "      <th>distance</th>\n",
       "      <th>dep_port</th>\n",
       "      <th>dep_city</th>\n",
       "      <th>dep_ctry</th>\n",
       "      <th>arr_port</th>\n",
       "      <th>arr_city</th>\n",
       "      <th>arr_ctry</th>\n",
       "      <th>lst_port</th>\n",
       "      <th>lst_city</th>\n",
       "      <th>lst_ctry</th>\n",
       "      <th>brd_port</th>\n",
       "      <th>brd_city</th>\n",
       "      <th>brd_ctry</th>\n",
       "      <th>off_port</th>\n",
       "      <th>off_city</th>\n",
       "      <th>off_ctry</th>\n",
       "      <th>mkt_port</th>\n",
       "      <th>mkt_city</th>\n",
       "      <th>mkt_ctry</th>\n",
       "      <th>intl</th>\n",
       "      <th>route</th>\n",
       "      <th>carrier</th>\n",
       "      <th>bkg_class</th>\n",
       "      <th>cab_class</th>\n",
       "      <th>brd_time</th>\n",
       "      <th>off_time</th>\n",
       "      <th>pax</th>\n",
       "      <th>year</th>\n",
       "      <th>month</th>\n",
       "      <th>oid</th>\n",
       "    </tr>\n",
       "  </thead>\n",
       "  <tbody>\n",
       "    <tr>\n",
       "      <th>938</th>\n",
       "      <td>2013-03-13 00:00:00</td>\n",
       "      <td>1A</td>\n",
       "      <td>FR</td>\n",
       "      <td>9451417efc0f2fbb5e49ecd42ebcd1fc</td>\n",
       "      <td>8d4f2bcba2a3fb8975c1a6f43b302cba</td>\n",
       "      <td>37d6f66916f7a334def0ba9eda39c13d</td>\n",
       "      <td>2013-03-12 00:00:00</td>\n",
       "      <td>11896</td>\n",
       "      <td>8759</td>\n",
       "      <td>BCN</td>\n",
       "      <td>BCN</td>\n",
       "      <td>ES</td>\n",
       "      <td>GRU</td>\n",
       "      <td>SAO</td>\n",
       "      <td>BR</td>\n",
       "      <td>GRU</td>\n",
       "      <td>SAO</td>\n",
       "      <td>BR</td>\n",
       "      <td>LIN</td>\n",
       "      <td>MIL</td>\n",
       "      <td>IT</td>\n",
       "      <td>GRU</td>\n",
       "      <td>SAO</td>\n",
       "      <td>BR</td>\n",
       "      <td>GRULIN</td>\n",
       "      <td>MILSAO</td>\n",
       "      <td>BRIT</td>\n",
       "      <td>1</td>\n",
       "      <td>LINCDGGRU</td>\n",
       "      <td>KP</td>\n",
       "      <td>M</td>\n",
       "      <td>Y</td>\n",
       "      <td>2013-05-17 06:55:00</td>\n",
       "      <td>2013-05-17 17:21:26</td>\n",
       "      <td>-4</td>\n",
       "      <td>2013</td>\n",
       "      <td>3</td>\n",
       "      <td>NULL</td>\n",
       "    </tr>\n",
       "    <tr>\n",
       "      <th>6288</th>\n",
       "      <td>2013-03-04 00:00:00</td>\n",
       "      <td>1V</td>\n",
       "      <td>US</td>\n",
       "      <td>befbdd06f3094f0b0c22c12a4b08eaa3</td>\n",
       "      <td>03afca6275a4c9450a2c34d1a23492cd</td>\n",
       "      <td>52b0942e534b970ed7729927b7330b50</td>\n",
       "      <td>2013-03-04 00:00:00</td>\n",
       "      <td>10581</td>\n",
       "      <td>0</td>\n",
       "      <td>PHL</td>\n",
       "      <td>PHL</td>\n",
       "      <td>US</td>\n",
       "      <td>MBJ</td>\n",
       "      <td>MBJ</td>\n",
       "      <td>JM</td>\n",
       "      <td>PHL</td>\n",
       "      <td>PHL</td>\n",
       "      <td>US</td>\n",
       "      <td>PHL</td>\n",
       "      <td>PHL</td>\n",
       "      <td>US</td>\n",
       "      <td>MBJ</td>\n",
       "      <td>MBJ</td>\n",
       "      <td>JM</td>\n",
       "      <td>MBJPHL</td>\n",
       "      <td>MBJPHL</td>\n",
       "      <td>JMUS</td>\n",
       "      <td>1</td>\n",
       "      <td>PHLMBJ</td>\n",
       "      <td>FD</td>\n",
       "      <td>S</td>\n",
       "      <td>Y</td>\n",
       "      <td>2013-08-04 07:55:00</td>\n",
       "      <td>2013-08-04 10:31:35</td>\n",
       "      <td>1</td>\n",
       "      <td>2013</td>\n",
       "      <td>3</td>\n",
       "      <td>NULL</td>\n",
       "    </tr>\n",
       "    <tr>\n",
       "      <th>2929</th>\n",
       "      <td>2013-03-11 00:00:00</td>\n",
       "      <td>1V</td>\n",
       "      <td>US</td>\n",
       "      <td>702d65dd8744f8ec09bda3e611f00a64</td>\n",
       "      <td>64a48fec9bafa3841b04caa9e9a2ca3d</td>\n",
       "      <td>be037395369ffd9fe1cda5175dcd2f86</td>\n",
       "      <td>2013-03-11 00:00:00</td>\n",
       "      <td>14759</td>\n",
       "      <td>0</td>\n",
       "      <td>EWR</td>\n",
       "      <td>NYC</td>\n",
       "      <td>US</td>\n",
       "      <td>PVG</td>\n",
       "      <td>SHA</td>\n",
       "      <td>CN</td>\n",
       "      <td>EWR</td>\n",
       "      <td>NYC</td>\n",
       "      <td>US</td>\n",
       "      <td>PVG</td>\n",
       "      <td>SHA</td>\n",
       "      <td>CN</td>\n",
       "      <td>EWR</td>\n",
       "      <td>NYC</td>\n",
       "      <td>US</td>\n",
       "      <td>EWRPVG</td>\n",
       "      <td>NYCSHA</td>\n",
       "      <td>CNUS</td>\n",
       "      <td>1</td>\n",
       "      <td>PVGEWR</td>\n",
       "      <td>FK</td>\n",
       "      <td>U</td>\n",
       "      <td>Y</td>\n",
       "      <td>2013-03-28 16:20:00</td>\n",
       "      <td>2013-03-28 19:04:38</td>\n",
       "      <td>1</td>\n",
       "      <td>2013</td>\n",
       "      <td>3</td>\n",
       "      <td>NULL</td>\n",
       "    </tr>\n",
       "    <tr>\n",
       "      <th>4892</th>\n",
       "      <td>2013-03-07 00:00:00</td>\n",
       "      <td>1P</td>\n",
       "      <td>US</td>\n",
       "      <td>76dd1c8493f2b4895443386566b7f317</td>\n",
       "      <td>db53267cd9741b4ecf03045460be7d1d</td>\n",
       "      <td>e536d48bb09dc820f0199b92b02ae883</td>\n",
       "      <td>2013-03-05 00:00:00</td>\n",
       "      <td>6046</td>\n",
       "      <td>0</td>\n",
       "      <td>MSY</td>\n",
       "      <td>MSY</td>\n",
       "      <td>US</td>\n",
       "      <td>CHS</td>\n",
       "      <td>CHS</td>\n",
       "      <td>US</td>\n",
       "      <td>MSY</td>\n",
       "      <td>MSY</td>\n",
       "      <td>US</td>\n",
       "      <td>CHS</td>\n",
       "      <td>CHS</td>\n",
       "      <td>US</td>\n",
       "      <td>MSY</td>\n",
       "      <td>MSY</td>\n",
       "      <td>US</td>\n",
       "      <td>CHSMSY</td>\n",
       "      <td>CHSMSY</td>\n",
       "      <td>USUS</td>\n",
       "      <td>0</td>\n",
       "      <td>CHSATLMSY</td>\n",
       "      <td>NV</td>\n",
       "      <td>T</td>\n",
       "      <td>Y</td>\n",
       "      <td>2013-03-23 17:00:00</td>\n",
       "      <td>2013-03-23 20:01:16</td>\n",
       "      <td>-1</td>\n",
       "      <td>2013</td>\n",
       "      <td>3</td>\n",
       "      <td>NULL</td>\n",
       "    </tr>\n",
       "    <tr>\n",
       "      <th>3102</th>\n",
       "      <td>2013-03-23 00:00:00</td>\n",
       "      <td>1P</td>\n",
       "      <td>US</td>\n",
       "      <td>82a19f9ce4e958cc4418b38c283ba844</td>\n",
       "      <td>bdc302c8855b41d81976b174c049516b</td>\n",
       "      <td>b68b506085bc06f0416d056d78afb7b2</td>\n",
       "      <td>2013-01-02 00:00:00</td>\n",
       "      <td>9425</td>\n",
       "      <td>0</td>\n",
       "      <td>DFW</td>\n",
       "      <td>DFW</td>\n",
       "      <td>US</td>\n",
       "      <td>PUJ</td>\n",
       "      <td>PUJ</td>\n",
       "      <td>DO</td>\n",
       "      <td>DFW</td>\n",
       "      <td>DFW</td>\n",
       "      <td>US</td>\n",
       "      <td>PUJ</td>\n",
       "      <td>PUJ</td>\n",
       "      <td>DO</td>\n",
       "      <td>DFW</td>\n",
       "      <td>DFW</td>\n",
       "      <td>US</td>\n",
       "      <td>DFWPUJ</td>\n",
       "      <td>DFWPUJ</td>\n",
       "      <td>DOUS</td>\n",
       "      <td>1</td>\n",
       "      <td>PUJATLDFW</td>\n",
       "      <td>NV</td>\n",
       "      <td>K</td>\n",
       "      <td>Y</td>\n",
       "      <td>2013-05-08 14:10:00</td>\n",
       "      <td>2013-05-08 20:05:53</td>\n",
       "      <td>3</td>\n",
       "      <td>2013</td>\n",
       "      <td>3</td>\n",
       "      <td>NULL</td>\n",
       "    </tr>\n",
       "  </tbody>\n",
       "</table>\n",
       "</div>"
      ],
      "text/plain": [
       "      act_date             source  pos_ctry                          pos_iata  \\\n",
       "938   2013-03-13 00:00:00  1A      FR        9451417efc0f2fbb5e49ecd42ebcd1fc   \n",
       "6288  2013-03-04 00:00:00  1V      US        befbdd06f3094f0b0c22c12a4b08eaa3   \n",
       "2929  2013-03-11 00:00:00  1V      US        702d65dd8744f8ec09bda3e611f00a64   \n",
       "4892  2013-03-07 00:00:00  1P      US        76dd1c8493f2b4895443386566b7f317   \n",
       "3102  2013-03-23 00:00:00  1P      US        82a19f9ce4e958cc4418b38c283ba844   \n",
       "\n",
       "                             pos_oid                      rloc            \\\n",
       "938   8d4f2bcba2a3fb8975c1a6f43b302cba  37d6f66916f7a334def0ba9eda39c13d   \n",
       "6288  03afca6275a4c9450a2c34d1a23492cd  52b0942e534b970ed7729927b7330b50   \n",
       "2929  64a48fec9bafa3841b04caa9e9a2ca3d  be037395369ffd9fe1cda5175dcd2f86   \n",
       "4892  db53267cd9741b4ecf03045460be7d1d  e536d48bb09dc820f0199b92b02ae883   \n",
       "3102  bdc302c8855b41d81976b174c049516b  b68b506085bc06f0416d056d78afb7b2   \n",
       "\n",
       "      cre_date             duration  distance  dep_port  dep_city  dep_ctry  \\\n",
       "938   2013-03-12 00:00:00     11896      8759  BCN       BCN       ES         \n",
       "6288  2013-03-04 00:00:00     10581         0  PHL       PHL       US         \n",
       "2929  2013-03-11 00:00:00     14759         0  EWR       NYC       US         \n",
       "4892  2013-03-05 00:00:00      6046         0  MSY       MSY       US         \n",
       "3102  2013-01-02 00:00:00      9425         0  DFW       DFW       US         \n",
       "\n",
       "      arr_port  arr_city  arr_ctry  lst_port  lst_city  lst_ctry  brd_port  \\\n",
       "938   GRU       SAO       BR        GRU       SAO       BR        LIN        \n",
       "6288  MBJ       MBJ       JM        PHL       PHL       US        PHL        \n",
       "2929  PVG       SHA       CN        EWR       NYC       US        PVG        \n",
       "4892  CHS       CHS       US        MSY       MSY       US        CHS        \n",
       "3102  PUJ       PUJ       DO        DFW       DFW       US        PUJ        \n",
       "\n",
       "      brd_city  brd_ctry  off_port  off_city  off_ctry  mkt_port  mkt_city  \\\n",
       "938   MIL       IT        GRU       SAO       BR        GRULIN    MILSAO     \n",
       "6288  PHL       US        MBJ       MBJ       JM        MBJPHL    MBJPHL     \n",
       "2929  SHA       CN        EWR       NYC       US        EWRPVG    NYCSHA     \n",
       "4892  CHS       US        MSY       MSY       US        CHSMSY    CHSMSY     \n",
       "3102  PUJ       DO        DFW       DFW       US        DFWPUJ    DFWPUJ     \n",
       "\n",
       "      mkt_ctry  intl  route           carrier  bkg_class  cab_class  \\\n",
       "938   BRIT         1  LINCDGGRU            KP  M          Y           \n",
       "6288  JMUS         1     PHLMBJ            FD  S          Y           \n",
       "2929  CNUS         1     PVGEWR            FK  U          Y           \n",
       "4892  USUS         0  CHSATLMSY            NV  T          Y           \n",
       "3102  DOUS         1     PUJATLDFW         NV  K          Y           \n",
       "\n",
       "      brd_time             off_time             pax  year  month  oid        \n",
       "938   2013-05-17 06:55:00  2013-05-17 17:21:26   -4  2013      3  NULL       \n",
       "6288  2013-08-04 07:55:00  2013-08-04 10:31:35    1  2013      3  NULL       \n",
       "2929  2013-03-28 16:20:00  2013-03-28 19:04:38    1  2013      3  NULL       \n",
       "4892  2013-03-23 17:00:00  2013-03-23 20:01:16   -1  2013      3  NULL       \n",
       "3102  2013-05-08 14:10:00  2013-05-08 20:05:53    3  2013      3  NULL       "
      ]
     },
     "execution_count": 29,
     "metadata": {},
     "output_type": "execute_result"
    }
   ],
   "source": [
    "b.sample(5)"
   ]
  },
  {
   "cell_type": "markdown",
   "metadata": {},
   "source": [
    "-Primero analizamos los datos. Por ejemplo tenemos 4 columnas con datetime. Act_date es la fecha de la ultima actividad, cre_date es cuando se crea la reserva.\n",
    "La source es el operador que lo gestiona, el GDS (como Amadeus). Pos_iata son cosas hasheadas, que han pasado por un algoritmo y devuelve esos numeros, no se puede volver a un paso previo y ver de donde viene, las compañias lo utilizan para protegerse. Distance =0 representan los ida y vuelta, salen y vuelven al mismo sitio. Columna route, iniciales de la ruta realizada, cada ciudad son 3 letras, si hay 9 significa que ha habido una conexion"
   ]
  },
  {
   "cell_type": "code",
   "execution_count": 30,
   "metadata": {},
   "outputs": [
    {
     "ename": "KeyError",
     "evalue": "'rloc'",
     "output_type": "error",
     "traceback": [
      "\u001b[0;31m---------------------------------------------------------------------------\u001b[0m",
      "\u001b[0;31mKeyError\u001b[0m                                  Traceback (most recent call last)",
      "\u001b[0;32m<ipython-input-30-8da82cc49e0b>\u001b[0m in \u001b[0;36m<module>\u001b[0;34m\u001b[0m\n\u001b[0;32m----> 1\u001b[0;31m \u001b[0mb\u001b[0m\u001b[0;34m.\u001b[0m\u001b[0mgroupby\u001b[0m\u001b[0;34m(\u001b[0m\u001b[0;34m'rloc'\u001b[0m\u001b[0;34m)\u001b[0m\u001b[0;34m[\u001b[0m\u001b[0;34m'act_date'\u001b[0m\u001b[0;34m]\u001b[0m\u001b[0;34m.\u001b[0m\u001b[0mcount\u001b[0m\u001b[0;34m(\u001b[0m\u001b[0;34m)\u001b[0m\u001b[0;34m.\u001b[0m\u001b[0msort_values\u001b[0m\u001b[0;34m(\u001b[0m\u001b[0mascending\u001b[0m\u001b[0;34m=\u001b[0m\u001b[0;32mFalse\u001b[0m\u001b[0;34m)\u001b[0m\u001b[0;34m\u001b[0m\u001b[0;34m\u001b[0m\u001b[0m\n\u001b[0m",
      "\u001b[0;32m~/anaconda3/lib/python3.7/site-packages/pandas/core/generic.py\u001b[0m in \u001b[0;36mgroupby\u001b[0;34m(self, by, axis, level, as_index, sort, group_keys, squeeze, observed, **kwargs)\u001b[0m\n\u001b[1;32m   6663\u001b[0m         return groupby(self, by=by, axis=axis, level=level, as_index=as_index,\n\u001b[1;32m   6664\u001b[0m                        \u001b[0msort\u001b[0m\u001b[0;34m=\u001b[0m\u001b[0msort\u001b[0m\u001b[0;34m,\u001b[0m \u001b[0mgroup_keys\u001b[0m\u001b[0;34m=\u001b[0m\u001b[0mgroup_keys\u001b[0m\u001b[0;34m,\u001b[0m \u001b[0msqueeze\u001b[0m\u001b[0;34m=\u001b[0m\u001b[0msqueeze\u001b[0m\u001b[0;34m,\u001b[0m\u001b[0;34m\u001b[0m\u001b[0;34m\u001b[0m\u001b[0m\n\u001b[0;32m-> 6665\u001b[0;31m                        observed=observed, **kwargs)\n\u001b[0m\u001b[1;32m   6666\u001b[0m \u001b[0;34m\u001b[0m\u001b[0m\n\u001b[1;32m   6667\u001b[0m     def asfreq(self, freq, method=None, how=None, normalize=False,\n",
      "\u001b[0;32m~/anaconda3/lib/python3.7/site-packages/pandas/core/groupby/groupby.py\u001b[0m in \u001b[0;36mgroupby\u001b[0;34m(obj, by, **kwds)\u001b[0m\n\u001b[1;32m   2150\u001b[0m         \u001b[0;32mraise\u001b[0m \u001b[0mTypeError\u001b[0m\u001b[0;34m(\u001b[0m\u001b[0;34m'invalid type: %s'\u001b[0m \u001b[0;34m%\u001b[0m \u001b[0mtype\u001b[0m\u001b[0;34m(\u001b[0m\u001b[0mobj\u001b[0m\u001b[0;34m)\u001b[0m\u001b[0;34m)\u001b[0m\u001b[0;34m\u001b[0m\u001b[0;34m\u001b[0m\u001b[0m\n\u001b[1;32m   2151\u001b[0m \u001b[0;34m\u001b[0m\u001b[0m\n\u001b[0;32m-> 2152\u001b[0;31m     \u001b[0;32mreturn\u001b[0m \u001b[0mklass\u001b[0m\u001b[0;34m(\u001b[0m\u001b[0mobj\u001b[0m\u001b[0;34m,\u001b[0m \u001b[0mby\u001b[0m\u001b[0;34m,\u001b[0m \u001b[0;34m**\u001b[0m\u001b[0mkwds\u001b[0m\u001b[0;34m)\u001b[0m\u001b[0;34m\u001b[0m\u001b[0;34m\u001b[0m\u001b[0m\n\u001b[0m\u001b[1;32m   2153\u001b[0m \u001b[0;34m\u001b[0m\u001b[0m\n\u001b[1;32m   2154\u001b[0m \u001b[0;34m\u001b[0m\u001b[0m\n",
      "\u001b[0;32m~/anaconda3/lib/python3.7/site-packages/pandas/core/groupby/groupby.py\u001b[0m in \u001b[0;36m__init__\u001b[0;34m(self, obj, keys, axis, level, grouper, exclusions, selection, as_index, sort, group_keys, squeeze, observed, **kwargs)\u001b[0m\n\u001b[1;32m    597\u001b[0m                                                     \u001b[0msort\u001b[0m\u001b[0;34m=\u001b[0m\u001b[0msort\u001b[0m\u001b[0;34m,\u001b[0m\u001b[0;34m\u001b[0m\u001b[0;34m\u001b[0m\u001b[0m\n\u001b[1;32m    598\u001b[0m                                                     \u001b[0mobserved\u001b[0m\u001b[0;34m=\u001b[0m\u001b[0mobserved\u001b[0m\u001b[0;34m,\u001b[0m\u001b[0;34m\u001b[0m\u001b[0;34m\u001b[0m\u001b[0m\n\u001b[0;32m--> 599\u001b[0;31m                                                     mutated=self.mutated)\n\u001b[0m\u001b[1;32m    600\u001b[0m \u001b[0;34m\u001b[0m\u001b[0m\n\u001b[1;32m    601\u001b[0m         \u001b[0mself\u001b[0m\u001b[0;34m.\u001b[0m\u001b[0mobj\u001b[0m \u001b[0;34m=\u001b[0m \u001b[0mobj\u001b[0m\u001b[0;34m\u001b[0m\u001b[0;34m\u001b[0m\u001b[0m\n",
      "\u001b[0;32m~/anaconda3/lib/python3.7/site-packages/pandas/core/groupby/groupby.py\u001b[0m in \u001b[0;36m_get_grouper\u001b[0;34m(obj, key, axis, level, sort, observed, mutated, validate)\u001b[0m\n\u001b[1;32m   3289\u001b[0m                 \u001b[0min_axis\u001b[0m\u001b[0;34m,\u001b[0m \u001b[0mname\u001b[0m\u001b[0;34m,\u001b[0m \u001b[0mlevel\u001b[0m\u001b[0;34m,\u001b[0m \u001b[0mgpr\u001b[0m \u001b[0;34m=\u001b[0m \u001b[0;32mFalse\u001b[0m\u001b[0;34m,\u001b[0m \u001b[0;32mNone\u001b[0m\u001b[0;34m,\u001b[0m \u001b[0mgpr\u001b[0m\u001b[0;34m,\u001b[0m \u001b[0;32mNone\u001b[0m\u001b[0;34m\u001b[0m\u001b[0;34m\u001b[0m\u001b[0m\n\u001b[1;32m   3290\u001b[0m             \u001b[0;32melse\u001b[0m\u001b[0;34m:\u001b[0m\u001b[0;34m\u001b[0m\u001b[0;34m\u001b[0m\u001b[0m\n\u001b[0;32m-> 3291\u001b[0;31m                 \u001b[0;32mraise\u001b[0m \u001b[0mKeyError\u001b[0m\u001b[0;34m(\u001b[0m\u001b[0mgpr\u001b[0m\u001b[0;34m)\u001b[0m\u001b[0;34m\u001b[0m\u001b[0;34m\u001b[0m\u001b[0m\n\u001b[0m\u001b[1;32m   3292\u001b[0m         \u001b[0;32melif\u001b[0m \u001b[0misinstance\u001b[0m\u001b[0;34m(\u001b[0m\u001b[0mgpr\u001b[0m\u001b[0;34m,\u001b[0m \u001b[0mGrouper\u001b[0m\u001b[0;34m)\u001b[0m \u001b[0;32mand\u001b[0m \u001b[0mgpr\u001b[0m\u001b[0;34m.\u001b[0m\u001b[0mkey\u001b[0m \u001b[0;32mis\u001b[0m \u001b[0;32mnot\u001b[0m \u001b[0;32mNone\u001b[0m\u001b[0;34m:\u001b[0m\u001b[0;34m\u001b[0m\u001b[0;34m\u001b[0m\u001b[0m\n\u001b[1;32m   3293\u001b[0m             \u001b[0;31m# Add key to exclusions\u001b[0m\u001b[0;34m\u001b[0m\u001b[0;34m\u001b[0m\u001b[0;34m\u001b[0m\u001b[0m\n",
      "\u001b[0;31mKeyError\u001b[0m: 'rloc'"
     ]
    }
   ],
   "source": [
    "b.groupby('rloc')['act_date'].count().sort_values(ascending=False)"
   ]
  },
  {
   "cell_type": "code",
   "execution_count": 31,
   "metadata": {},
   "outputs": [
    {
     "data": {
      "text/plain": [
       "['act_date           ',\n",
       " 'source',\n",
       " 'pos_ctry',\n",
       " 'pos_iata',\n",
       " 'pos_oid  ',\n",
       " 'rloc          ',\n",
       " 'cre_date           ',\n",
       " 'duration',\n",
       " 'distance',\n",
       " 'dep_port',\n",
       " 'dep_city',\n",
       " 'dep_ctry',\n",
       " 'arr_port',\n",
       " 'arr_city',\n",
       " 'arr_ctry',\n",
       " 'lst_port',\n",
       " 'lst_city',\n",
       " 'lst_ctry',\n",
       " 'brd_port',\n",
       " 'brd_city',\n",
       " 'brd_ctry',\n",
       " 'off_port',\n",
       " 'off_city',\n",
       " 'off_ctry',\n",
       " 'mkt_port',\n",
       " 'mkt_city',\n",
       " 'mkt_ctry',\n",
       " 'intl',\n",
       " 'route          ',\n",
       " 'carrier',\n",
       " 'bkg_class',\n",
       " 'cab_class',\n",
       " 'brd_time           ',\n",
       " 'off_time           ',\n",
       " 'pax',\n",
       " 'year',\n",
       " 'month',\n",
       " 'oid      ']"
      ]
     },
     "execution_count": 31,
     "metadata": {},
     "output_type": "execute_result"
    }
   ],
   "source": [
    "list(b.columns)"
   ]
  },
  {
   "cell_type": "markdown",
   "metadata": {},
   "source": [
    "-el nombre de la columna tenia espacios por eso no lo reconoce"
   ]
  },
  {
   "cell_type": "markdown",
   "metadata": {},
   "source": [
    "-rloc es el numero de reserva"
   ]
  },
  {
   "cell_type": "code",
   "execution_count": 32,
   "metadata": {},
   "outputs": [
    {
     "data": {
      "text/plain": [
       "rloc          \n",
       "ae15bcfc5aec0eb64b2c5204d08201d5    42\n",
       "fb72a3899ed1cd353c5830388935e7f5    23\n",
       "cd96f7b7fdb5743769053ba273c7eb5f    20\n",
       "6b7878dd4ac59772e14ab4760ab45ad0    20\n",
       "68aee71ee0f40aff44ed341f2c5f8627    16\n",
       "2a86eac3e29c922f4a439fbc0480985b    15\n",
       "58ee9c6852513816a39363a1621a0615    14\n",
       "503d8dde8034a48c262b3f5764fc60ca    14\n",
       "c9f19404e4f0755c40deaebd6e90ea84    13\n",
       "182485c12b7e38aa6e2d24f7484c019b    12\n",
       "cdf795b1e5710dc813c8b1147b427827    12\n",
       "f3a5185d14eaa5258320bac03c5d9fc0    12\n",
       "02ab3e3ded19a8cc6eb67c4413debb86    12\n",
       "b8410227afd9eff71f9ed9c0e7013ddf    12\n",
       "045e1c73107a2e4a39013d60e9b45aa3    12\n",
       "a37584d1485cb35991e4ff1a2ba92262    12\n",
       "f25cef4ed37d1483d0c4c7cfba9758ef    12\n",
       "b0cd490450b69694ccafe0e08dfd821f    11\n",
       "bab3d4e3fb3bee5e88340e7c359c6f13    11\n",
       "2da897a9523b22f3e2cb9cd7099e0639    11\n",
       "399664d8282d0587ce97c540d17eb06c    11\n",
       "b0f878b0bbe51626016694032523295b    10\n",
       "1e891061725828651e3e2943b79c6585    10\n",
       "49edae7a10b0a8e2b2529ecc45e5dc74    10\n",
       "45b87519d2fe4e85fd90512876fe9160    10\n",
       "a27c351c883ed90eee5bbb3d6d7630a0    10\n",
       "0f39957f4a0e1807569b6b225339be20    10\n",
       "331057704850c01e06a5b78955e79d54    10\n",
       "5bcefe9de9ad29279e63acee633b49f2    10\n",
       "63986e1306ebb0ee132b55eff80c0eb6    10\n",
       "                                    ..\n",
       "bf322cb6b4227ad170f2fefe50ae567f     1\n",
       "34d3d66e42074ff45784be6deb7f16da     1\n",
       "391038e95fcb12d2b01487fa80be8221     1\n",
       "397517c7d116951afb8f7f08d709949b     1\n",
       "3da38478eb52cac1a99dd1503fccb568     1\n",
       "397a1ee52d4f7103173ea037bbe1ac8a     1\n",
       "3d8fada706a9ca0260352efc4cdd7f08     1\n",
       "3d49d38ea5c32fe59e9c13649f9be865     1\n",
       "3d4187b84e6811b84481f1749772e513     1\n",
       "b5ddc7527dccb3bdbc1ed449484fbcc5     1\n",
       "b6011a0abd99d6c15d7d1222f976c17d     1\n",
       "b6984e611e2ebfcac6b3da2524742b08     1\n",
       "b74da5328b5a0db04fbfd049627f749a     1\n",
       "3befbd72a3460408f8a3779a10fadf30     1\n",
       "b815c93eb58117183b49198ada09c1c1     1\n",
       "3b8d8cef2e03a151bdb98d5ab41f9f16     1\n",
       "3b5711205e09a97e515c9cd99b8869bc     1\n",
       "3b4d27084bfc4c685973cd071a051a37     1\n",
       "b8e7c1924d0afc38cb2492d0bd43f93a     1\n",
       "b91be442636902db4abe308f48f04b2c     1\n",
       "3acd1df32d7e7c1f925efca9868706e2     1\n",
       "b948604ba2177e3e23935c22abc7f847     1\n",
       "b94ed12e5e01faf3536ab57974b886db     1\n",
       "3a7da4866fbb53df2bf0fd932f630006     1\n",
       "3a25425e33d36b4fb2296f2dbea0f1d9     1\n",
       "b9efbbff405155837367ef66c1abf91b     1\n",
       "39dc5cea9a3fc845b090f8331668c497     1\n",
       "ba365fe0be400727781352f471929845     1\n",
       "ba480737c4cec15f2c4bb8e9f5a2f745     1\n",
       "80a2bcbc1770ca3d31657af2cbb1eb3b     1\n",
       "Name: act_date           , Length: 3638, dtype: int64"
      ]
     },
     "execution_count": 32,
     "metadata": {},
     "output_type": "execute_result"
    }
   ],
   "source": [
    "b.groupby('rloc          ')['act_date           '].count().sort_values(ascending=False)"
   ]
  },
  {
   "cell_type": "code",
   "execution_count": 33,
   "metadata": {},
   "outputs": [
    {
     "data": {
      "text/html": [
       "<div>\n",
       "<style scoped>\n",
       "    .dataframe tbody tr th:only-of-type {\n",
       "        vertical-align: middle;\n",
       "    }\n",
       "\n",
       "    .dataframe tbody tr th {\n",
       "        vertical-align: top;\n",
       "    }\n",
       "\n",
       "    .dataframe thead th {\n",
       "        text-align: right;\n",
       "    }\n",
       "</style>\n",
       "<table border=\"1\" class=\"dataframe\">\n",
       "  <thead>\n",
       "    <tr style=\"text-align: right;\">\n",
       "      <th></th>\n",
       "      <th>act_date</th>\n",
       "      <th>source</th>\n",
       "      <th>pos_ctry</th>\n",
       "      <th>pos_iata</th>\n",
       "      <th>pos_oid</th>\n",
       "      <th>rloc</th>\n",
       "      <th>cre_date</th>\n",
       "      <th>duration</th>\n",
       "      <th>distance</th>\n",
       "      <th>dep_port</th>\n",
       "      <th>dep_city</th>\n",
       "      <th>dep_ctry</th>\n",
       "      <th>arr_port</th>\n",
       "      <th>arr_city</th>\n",
       "      <th>arr_ctry</th>\n",
       "      <th>lst_port</th>\n",
       "      <th>lst_city</th>\n",
       "      <th>lst_ctry</th>\n",
       "      <th>brd_port</th>\n",
       "      <th>brd_city</th>\n",
       "      <th>brd_ctry</th>\n",
       "      <th>off_port</th>\n",
       "      <th>off_city</th>\n",
       "      <th>off_ctry</th>\n",
       "      <th>mkt_port</th>\n",
       "      <th>mkt_city</th>\n",
       "      <th>mkt_ctry</th>\n",
       "      <th>intl</th>\n",
       "      <th>route</th>\n",
       "      <th>carrier</th>\n",
       "      <th>bkg_class</th>\n",
       "      <th>cab_class</th>\n",
       "      <th>brd_time</th>\n",
       "      <th>off_time</th>\n",
       "      <th>pax</th>\n",
       "      <th>year</th>\n",
       "      <th>month</th>\n",
       "      <th>oid</th>\n",
       "    </tr>\n",
       "  </thead>\n",
       "  <tbody>\n",
       "    <tr>\n",
       "      <th>5067</th>\n",
       "      <td>2013-03-01 00:00:00</td>\n",
       "      <td>1V</td>\n",
       "      <td>US</td>\n",
       "      <td>de1198ffef9fa56ba9fe841bac32bce8</td>\n",
       "      <td>60a531d07998240e3a5cbc207c5825e6</td>\n",
       "      <td>fb72a3899ed1cd353c5830388935e7f5</td>\n",
       "      <td>2013-02-25 00:00:00</td>\n",
       "      <td>14364</td>\n",
       "      <td>0</td>\n",
       "      <td>PHX</td>\n",
       "      <td>PHX</td>\n",
       "      <td>US</td>\n",
       "      <td>HKT</td>\n",
       "      <td>HKT</td>\n",
       "      <td>TH</td>\n",
       "      <td>PHX</td>\n",
       "      <td>PHX</td>\n",
       "      <td>US</td>\n",
       "      <td>PHX</td>\n",
       "      <td>PHX</td>\n",
       "      <td>US</td>\n",
       "      <td>HKT</td>\n",
       "      <td>HKT</td>\n",
       "      <td>TH</td>\n",
       "      <td>HKTPHX</td>\n",
       "      <td>HKTPHX</td>\n",
       "      <td>THUS</td>\n",
       "      <td>1</td>\n",
       "      <td>PHXLAXICNHKT</td>\n",
       "      <td>YK</td>\n",
       "      <td>K</td>\n",
       "      <td>Y</td>\n",
       "      <td>2013-08-30 20:00:00</td>\n",
       "      <td>2013-09-01 12:07:46</td>\n",
       "      <td>-2</td>\n",
       "      <td>2013</td>\n",
       "      <td>3</td>\n",
       "      <td>NULL</td>\n",
       "    </tr>\n",
       "    <tr>\n",
       "      <th>5068</th>\n",
       "      <td>2013-03-01 00:00:00</td>\n",
       "      <td>1V</td>\n",
       "      <td>US</td>\n",
       "      <td>de1198ffef9fa56ba9fe841bac32bce8</td>\n",
       "      <td>60a531d07998240e3a5cbc207c5825e6</td>\n",
       "      <td>fb72a3899ed1cd353c5830388935e7f5</td>\n",
       "      <td>2013-02-25 00:00:00</td>\n",
       "      <td>14364</td>\n",
       "      <td>0</td>\n",
       "      <td>PHX</td>\n",
       "      <td>PHX</td>\n",
       "      <td>US</td>\n",
       "      <td>HKT</td>\n",
       "      <td>HKT</td>\n",
       "      <td>TH</td>\n",
       "      <td>PHX</td>\n",
       "      <td>PHX</td>\n",
       "      <td>US</td>\n",
       "      <td>HKT</td>\n",
       "      <td>HKT</td>\n",
       "      <td>TH</td>\n",
       "      <td>CNX</td>\n",
       "      <td>CNX</td>\n",
       "      <td>TH</td>\n",
       "      <td>CNXHKT</td>\n",
       "      <td>CNXHKT</td>\n",
       "      <td>THTH</td>\n",
       "      <td>0</td>\n",
       "      <td>HKTCNX</td>\n",
       "      <td>EQ</td>\n",
       "      <td>Y</td>\n",
       "      <td>Y</td>\n",
       "      <td>2013-09-03 13:35:00</td>\n",
       "      <td>2013-09-03 15:46:42</td>\n",
       "      <td>-2</td>\n",
       "      <td>2013</td>\n",
       "      <td>3</td>\n",
       "      <td>NULL</td>\n",
       "    </tr>\n",
       "    <tr>\n",
       "      <th>5069</th>\n",
       "      <td>2013-03-01 00:00:00</td>\n",
       "      <td>1V</td>\n",
       "      <td>US</td>\n",
       "      <td>de1198ffef9fa56ba9fe841bac32bce8</td>\n",
       "      <td>60a531d07998240e3a5cbc207c5825e6</td>\n",
       "      <td>fb72a3899ed1cd353c5830388935e7f5</td>\n",
       "      <td>2013-02-25 00:00:00</td>\n",
       "      <td>14364</td>\n",
       "      <td>0</td>\n",
       "      <td>PHX</td>\n",
       "      <td>PHX</td>\n",
       "      <td>US</td>\n",
       "      <td>HKT</td>\n",
       "      <td>HKT</td>\n",
       "      <td>TH</td>\n",
       "      <td>PHX</td>\n",
       "      <td>PHX</td>\n",
       "      <td>US</td>\n",
       "      <td>CNX</td>\n",
       "      <td>CNX</td>\n",
       "      <td>TH</td>\n",
       "      <td>BKK</td>\n",
       "      <td>BKK</td>\n",
       "      <td>TH</td>\n",
       "      <td>BKKCNX</td>\n",
       "      <td>BKKCNX</td>\n",
       "      <td>THTH</td>\n",
       "      <td>0</td>\n",
       "      <td>CNXBKK</td>\n",
       "      <td>EQ</td>\n",
       "      <td>Y</td>\n",
       "      <td>Y</td>\n",
       "      <td>2013-09-05 15:05:00</td>\n",
       "      <td>2013-09-05 16:35:01</td>\n",
       "      <td>-2</td>\n",
       "      <td>2013</td>\n",
       "      <td>3</td>\n",
       "      <td>NULL</td>\n",
       "    </tr>\n",
       "    <tr>\n",
       "      <th>5070</th>\n",
       "      <td>2013-03-01 00:00:00</td>\n",
       "      <td>1V</td>\n",
       "      <td>US</td>\n",
       "      <td>de1198ffef9fa56ba9fe841bac32bce8</td>\n",
       "      <td>60a531d07998240e3a5cbc207c5825e6</td>\n",
       "      <td>fb72a3899ed1cd353c5830388935e7f5</td>\n",
       "      <td>2013-02-25 00:00:00</td>\n",
       "      <td>14364</td>\n",
       "      <td>0</td>\n",
       "      <td>PHX</td>\n",
       "      <td>PHX</td>\n",
       "      <td>US</td>\n",
       "      <td>HKT</td>\n",
       "      <td>HKT</td>\n",
       "      <td>TH</td>\n",
       "      <td>PHX</td>\n",
       "      <td>PHX</td>\n",
       "      <td>US</td>\n",
       "      <td>BKK</td>\n",
       "      <td>BKK</td>\n",
       "      <td>TH</td>\n",
       "      <td>ICN</td>\n",
       "      <td>SEL</td>\n",
       "      <td>KR</td>\n",
       "      <td>BKKICN</td>\n",
       "      <td>BKKSEL</td>\n",
       "      <td>KRTH</td>\n",
       "      <td>1</td>\n",
       "      <td>BKKICN</td>\n",
       "      <td>YK</td>\n",
       "      <td>E</td>\n",
       "      <td>Y</td>\n",
       "      <td>2013-09-08 23:40:00</td>\n",
       "      <td>2013-09-09 06:46:43</td>\n",
       "      <td>-2</td>\n",
       "      <td>2013</td>\n",
       "      <td>3</td>\n",
       "      <td>NULL</td>\n",
       "    </tr>\n",
       "    <tr>\n",
       "      <th>5071</th>\n",
       "      <td>2013-03-01 00:00:00</td>\n",
       "      <td>1V</td>\n",
       "      <td>US</td>\n",
       "      <td>de1198ffef9fa56ba9fe841bac32bce8</td>\n",
       "      <td>60a531d07998240e3a5cbc207c5825e6</td>\n",
       "      <td>fb72a3899ed1cd353c5830388935e7f5</td>\n",
       "      <td>2013-02-25 00:00:00</td>\n",
       "      <td>14364</td>\n",
       "      <td>0</td>\n",
       "      <td>PHX</td>\n",
       "      <td>PHX</td>\n",
       "      <td>US</td>\n",
       "      <td>HKT</td>\n",
       "      <td>HKT</td>\n",
       "      <td>TH</td>\n",
       "      <td>PHX</td>\n",
       "      <td>PHX</td>\n",
       "      <td>US</td>\n",
       "      <td>ICN</td>\n",
       "      <td>SEL</td>\n",
       "      <td>KR</td>\n",
       "      <td>PHX</td>\n",
       "      <td>PHX</td>\n",
       "      <td>US</td>\n",
       "      <td>ICNPHX</td>\n",
       "      <td>PHXSEL</td>\n",
       "      <td>KRUS</td>\n",
       "      <td>1</td>\n",
       "      <td>ICNLAXPHX</td>\n",
       "      <td>YK</td>\n",
       "      <td>E</td>\n",
       "      <td>Y</td>\n",
       "      <td>2013-09-09 20:20:00</td>\n",
       "      <td>2013-09-09 19:24:55</td>\n",
       "      <td>-2</td>\n",
       "      <td>2013</td>\n",
       "      <td>3</td>\n",
       "      <td>NULL</td>\n",
       "    </tr>\n",
       "  </tbody>\n",
       "</table>\n",
       "</div>"
      ],
      "text/plain": [
       "      act_date             source  pos_ctry                          pos_iata  \\\n",
       "5067  2013-03-01 00:00:00  1V      US        de1198ffef9fa56ba9fe841bac32bce8   \n",
       "5068  2013-03-01 00:00:00  1V      US        de1198ffef9fa56ba9fe841bac32bce8   \n",
       "5069  2013-03-01 00:00:00  1V      US        de1198ffef9fa56ba9fe841bac32bce8   \n",
       "5070  2013-03-01 00:00:00  1V      US        de1198ffef9fa56ba9fe841bac32bce8   \n",
       "5071  2013-03-01 00:00:00  1V      US        de1198ffef9fa56ba9fe841bac32bce8   \n",
       "\n",
       "                             pos_oid                      rloc            \\\n",
       "5067  60a531d07998240e3a5cbc207c5825e6  fb72a3899ed1cd353c5830388935e7f5   \n",
       "5068  60a531d07998240e3a5cbc207c5825e6  fb72a3899ed1cd353c5830388935e7f5   \n",
       "5069  60a531d07998240e3a5cbc207c5825e6  fb72a3899ed1cd353c5830388935e7f5   \n",
       "5070  60a531d07998240e3a5cbc207c5825e6  fb72a3899ed1cd353c5830388935e7f5   \n",
       "5071  60a531d07998240e3a5cbc207c5825e6  fb72a3899ed1cd353c5830388935e7f5   \n",
       "\n",
       "      cre_date             duration  distance  dep_port  dep_city  dep_ctry  \\\n",
       "5067  2013-02-25 00:00:00     14364         0  PHX       PHX       US         \n",
       "5068  2013-02-25 00:00:00     14364         0  PHX       PHX       US         \n",
       "5069  2013-02-25 00:00:00     14364         0  PHX       PHX       US         \n",
       "5070  2013-02-25 00:00:00     14364         0  PHX       PHX       US         \n",
       "5071  2013-02-25 00:00:00     14364         0  PHX       PHX       US         \n",
       "\n",
       "      arr_port  arr_city  arr_ctry  lst_port  lst_city  lst_ctry  brd_port  \\\n",
       "5067  HKT       HKT       TH        PHX       PHX       US        PHX        \n",
       "5068  HKT       HKT       TH        PHX       PHX       US        HKT        \n",
       "5069  HKT       HKT       TH        PHX       PHX       US        CNX        \n",
       "5070  HKT       HKT       TH        PHX       PHX       US        BKK        \n",
       "5071  HKT       HKT       TH        PHX       PHX       US        ICN        \n",
       "\n",
       "      brd_city  brd_ctry  off_port  off_city  off_ctry  mkt_port  mkt_city  \\\n",
       "5067  PHX       US        HKT       HKT       TH        HKTPHX    HKTPHX     \n",
       "5068  HKT       TH        CNX       CNX       TH        CNXHKT    CNXHKT     \n",
       "5069  CNX       TH        BKK       BKK       TH        BKKCNX    BKKCNX     \n",
       "5070  BKK       TH        ICN       SEL       KR        BKKICN    BKKSEL     \n",
       "5071  SEL       KR        PHX       PHX       US        ICNPHX    PHXSEL     \n",
       "\n",
       "      mkt_ctry  intl  route           carrier  bkg_class  cab_class  \\\n",
       "5067  THUS         1  PHXLAXICNHKT         YK  K          Y           \n",
       "5068  THTH         0  HKTCNX               EQ  Y          Y           \n",
       "5069  THTH         0  CNXBKK               EQ  Y          Y           \n",
       "5070  KRTH         1  BKKICN               YK  E          Y           \n",
       "5071  KRUS         1  ICNLAXPHX            YK  E          Y           \n",
       "\n",
       "      brd_time             off_time             pax  year  month  oid        \n",
       "5067  2013-08-30 20:00:00  2013-09-01 12:07:46   -2  2013      3  NULL       \n",
       "5068  2013-09-03 13:35:00  2013-09-03 15:46:42   -2  2013      3  NULL       \n",
       "5069  2013-09-05 15:05:00  2013-09-05 16:35:01   -2  2013      3  NULL       \n",
       "5070  2013-09-08 23:40:00  2013-09-09 06:46:43   -2  2013      3  NULL       \n",
       "5071  2013-09-09 20:20:00  2013-09-09 19:24:55   -2  2013      3  NULL       "
      ]
     },
     "execution_count": 33,
     "metadata": {},
     "output_type": "execute_result"
    }
   ],
   "source": [
    "b[b['rloc          '] == 'fb72a3899ed1cd353c5830388935e7f5'].sort_values('act_date           ',ascending=True).head()"
   ]
  },
  {
   "cell_type": "code",
   "execution_count": 34,
   "metadata": {},
   "outputs": [
    {
     "data": {
      "text/html": [
       "<div>\n",
       "<style scoped>\n",
       "    .dataframe tbody tr th:only-of-type {\n",
       "        vertical-align: middle;\n",
       "    }\n",
       "\n",
       "    .dataframe tbody tr th {\n",
       "        vertical-align: top;\n",
       "    }\n",
       "\n",
       "    .dataframe thead th {\n",
       "        text-align: right;\n",
       "    }\n",
       "</style>\n",
       "<table border=\"1\" class=\"dataframe\">\n",
       "  <thead>\n",
       "    <tr style=\"text-align: right;\">\n",
       "      <th></th>\n",
       "      <th>act_date</th>\n",
       "      <th>source</th>\n",
       "      <th>pos_ctry</th>\n",
       "      <th>pos_iata</th>\n",
       "      <th>pos_oid</th>\n",
       "      <th>rloc</th>\n",
       "      <th>cre_date</th>\n",
       "      <th>duration</th>\n",
       "      <th>distance</th>\n",
       "      <th>dep_port</th>\n",
       "      <th>dep_city</th>\n",
       "      <th>dep_ctry</th>\n",
       "      <th>arr_port</th>\n",
       "      <th>arr_city</th>\n",
       "      <th>arr_ctry</th>\n",
       "      <th>lst_port</th>\n",
       "      <th>lst_city</th>\n",
       "      <th>lst_ctry</th>\n",
       "      <th>brd_port</th>\n",
       "      <th>brd_city</th>\n",
       "      <th>brd_ctry</th>\n",
       "      <th>off_port</th>\n",
       "      <th>off_city</th>\n",
       "      <th>off_ctry</th>\n",
       "      <th>mkt_port</th>\n",
       "      <th>mkt_city</th>\n",
       "      <th>mkt_ctry</th>\n",
       "      <th>intl</th>\n",
       "      <th>route</th>\n",
       "      <th>carrier</th>\n",
       "      <th>bkg_class</th>\n",
       "      <th>cab_class</th>\n",
       "      <th>brd_time</th>\n",
       "      <th>off_time</th>\n",
       "      <th>pax</th>\n",
       "      <th>year</th>\n",
       "      <th>month</th>\n",
       "      <th>oid</th>\n",
       "    </tr>\n",
       "  </thead>\n",
       "  <tbody>\n",
       "    <tr>\n",
       "      <th>count</th>\n",
       "      <td>9999</td>\n",
       "      <td>9999</td>\n",
       "      <td>9999</td>\n",
       "      <td>9999</td>\n",
       "      <td>9999</td>\n",
       "      <td>9999</td>\n",
       "      <td>9999</td>\n",
       "      <td>9999.000000</td>\n",
       "      <td>9999.000000</td>\n",
       "      <td>9999</td>\n",
       "      <td>9999</td>\n",
       "      <td>9999</td>\n",
       "      <td>9999</td>\n",
       "      <td>9999</td>\n",
       "      <td>9999</td>\n",
       "      <td>9999</td>\n",
       "      <td>9999</td>\n",
       "      <td>9999</td>\n",
       "      <td>9999</td>\n",
       "      <td>9999</td>\n",
       "      <td>9999</td>\n",
       "      <td>9999</td>\n",
       "      <td>9999</td>\n",
       "      <td>9999</td>\n",
       "      <td>9999</td>\n",
       "      <td>9999</td>\n",
       "      <td>9999</td>\n",
       "      <td>9999.000000</td>\n",
       "      <td>9999</td>\n",
       "      <td>9999</td>\n",
       "      <td>9999</td>\n",
       "      <td>9999</td>\n",
       "      <td>9999</td>\n",
       "      <td>9999</td>\n",
       "      <td>9999.000000</td>\n",
       "      <td>9999.0</td>\n",
       "      <td>9999.0</td>\n",
       "      <td>9999</td>\n",
       "    </tr>\n",
       "    <tr>\n",
       "      <th>unique</th>\n",
       "      <td>31</td>\n",
       "      <td>5</td>\n",
       "      <td>112</td>\n",
       "      <td>2089</td>\n",
       "      <td>2271</td>\n",
       "      <td>3638</td>\n",
       "      <td>140</td>\n",
       "      <td>NaN</td>\n",
       "      <td>NaN</td>\n",
       "      <td>581</td>\n",
       "      <td>554</td>\n",
       "      <td>127</td>\n",
       "      <td>663</td>\n",
       "      <td>634</td>\n",
       "      <td>152</td>\n",
       "      <td>581</td>\n",
       "      <td>550</td>\n",
       "      <td>126</td>\n",
       "      <td>770</td>\n",
       "      <td>732</td>\n",
       "      <td>162</td>\n",
       "      <td>781</td>\n",
       "      <td>744</td>\n",
       "      <td>162</td>\n",
       "      <td>3395</td>\n",
       "      <td>3223</td>\n",
       "      <td>926</td>\n",
       "      <td>NaN</td>\n",
       "      <td>6079</td>\n",
       "      <td>179</td>\n",
       "      <td>27</td>\n",
       "      <td>4</td>\n",
       "      <td>6416</td>\n",
       "      <td>7218</td>\n",
       "      <td>NaN</td>\n",
       "      <td>NaN</td>\n",
       "      <td>NaN</td>\n",
       "      <td>389</td>\n",
       "    </tr>\n",
       "    <tr>\n",
       "      <th>top</th>\n",
       "      <td>2013-03-12 00:00:00</td>\n",
       "      <td>1A</td>\n",
       "      <td>US</td>\n",
       "      <td>83ccf07a55606976f78e63fcc805f58c</td>\n",
       "      <td>1490c3c5f95f04fa076fe15c775a80a9</td>\n",
       "      <td>ae15bcfc5aec0eb64b2c5204d08201d5</td>\n",
       "      <td>2013-03-12 00:00:00</td>\n",
       "      <td>NaN</td>\n",
       "      <td>NaN</td>\n",
       "      <td>LAX</td>\n",
       "      <td>NYC</td>\n",
       "      <td>US</td>\n",
       "      <td>LHR</td>\n",
       "      <td>NYC</td>\n",
       "      <td>US</td>\n",
       "      <td>LAX</td>\n",
       "      <td>NYC</td>\n",
       "      <td>US</td>\n",
       "      <td>LAX</td>\n",
       "      <td>NYC</td>\n",
       "      <td>US</td>\n",
       "      <td>LAX</td>\n",
       "      <td>NYC</td>\n",
       "      <td>US</td>\n",
       "      <td>JEDKHI</td>\n",
       "      <td>JEDKHI</td>\n",
       "      <td>USUS</td>\n",
       "      <td>NaN</td>\n",
       "      <td>KHIJED</td>\n",
       "      <td>NV</td>\n",
       "      <td>Q</td>\n",
       "      <td>Y</td>\n",
       "      <td>2013-06-09 15:10:00</td>\n",
       "      <td>2013-06-10 12:55:31</td>\n",
       "      <td>NaN</td>\n",
       "      <td>NaN</td>\n",
       "      <td>NaN</td>\n",
       "      <td>NULL</td>\n",
       "    </tr>\n",
       "    <tr>\n",
       "      <th>freq</th>\n",
       "      <td>768</td>\n",
       "      <td>3200</td>\n",
       "      <td>4839</td>\n",
       "      <td>435</td>\n",
       "      <td>435</td>\n",
       "      <td>42</td>\n",
       "      <td>1018</td>\n",
       "      <td>NaN</td>\n",
       "      <td>NaN</td>\n",
       "      <td>273</td>\n",
       "      <td>507</td>\n",
       "      <td>4600</td>\n",
       "      <td>212</td>\n",
       "      <td>391</td>\n",
       "      <td>3738</td>\n",
       "      <td>281</td>\n",
       "      <td>502</td>\n",
       "      <td>4559</td>\n",
       "      <td>228</td>\n",
       "      <td>435</td>\n",
       "      <td>4118</td>\n",
       "      <td>247</td>\n",
       "      <td>460</td>\n",
       "      <td>4170</td>\n",
       "      <td>52</td>\n",
       "      <td>52</td>\n",
       "      <td>3074</td>\n",
       "      <td>NaN</td>\n",
       "      <td>26</td>\n",
       "      <td>1354</td>\n",
       "      <td>851</td>\n",
       "      <td>8979</td>\n",
       "      <td>21</td>\n",
       "      <td>21</td>\n",
       "      <td>NaN</td>\n",
       "      <td>NaN</td>\n",
       "      <td>NaN</td>\n",
       "      <td>8427</td>\n",
       "    </tr>\n",
       "    <tr>\n",
       "      <th>mean</th>\n",
       "      <td>NaN</td>\n",
       "      <td>NaN</td>\n",
       "      <td>NaN</td>\n",
       "      <td>NaN</td>\n",
       "      <td>NaN</td>\n",
       "      <td>NaN</td>\n",
       "      <td>NaN</td>\n",
       "      <td>20209.746075</td>\n",
       "      <td>455.608861</td>\n",
       "      <td>NaN</td>\n",
       "      <td>NaN</td>\n",
       "      <td>NaN</td>\n",
       "      <td>NaN</td>\n",
       "      <td>NaN</td>\n",
       "      <td>NaN</td>\n",
       "      <td>NaN</td>\n",
       "      <td>NaN</td>\n",
       "      <td>NaN</td>\n",
       "      <td>NaN</td>\n",
       "      <td>NaN</td>\n",
       "      <td>NaN</td>\n",
       "      <td>NaN</td>\n",
       "      <td>NaN</td>\n",
       "      <td>NaN</td>\n",
       "      <td>NaN</td>\n",
       "      <td>NaN</td>\n",
       "      <td>NaN</td>\n",
       "      <td>0.596260</td>\n",
       "      <td>NaN</td>\n",
       "      <td>NaN</td>\n",
       "      <td>NaN</td>\n",
       "      <td>NaN</td>\n",
       "      <td>NaN</td>\n",
       "      <td>NaN</td>\n",
       "      <td>0.516152</td>\n",
       "      <td>2013.0</td>\n",
       "      <td>3.0</td>\n",
       "      <td>NaN</td>\n",
       "    </tr>\n",
       "    <tr>\n",
       "      <th>std</th>\n",
       "      <td>NaN</td>\n",
       "      <td>NaN</td>\n",
       "      <td>NaN</td>\n",
       "      <td>NaN</td>\n",
       "      <td>NaN</td>\n",
       "      <td>NaN</td>\n",
       "      <td>NaN</td>\n",
       "      <td>42243.233482</td>\n",
       "      <td>1738.891068</td>\n",
       "      <td>NaN</td>\n",
       "      <td>NaN</td>\n",
       "      <td>NaN</td>\n",
       "      <td>NaN</td>\n",
       "      <td>NaN</td>\n",
       "      <td>NaN</td>\n",
       "      <td>NaN</td>\n",
       "      <td>NaN</td>\n",
       "      <td>NaN</td>\n",
       "      <td>NaN</td>\n",
       "      <td>NaN</td>\n",
       "      <td>NaN</td>\n",
       "      <td>NaN</td>\n",
       "      <td>NaN</td>\n",
       "      <td>NaN</td>\n",
       "      <td>NaN</td>\n",
       "      <td>NaN</td>\n",
       "      <td>NaN</td>\n",
       "      <td>0.490671</td>\n",
       "      <td>NaN</td>\n",
       "      <td>NaN</td>\n",
       "      <td>NaN</td>\n",
       "      <td>NaN</td>\n",
       "      <td>NaN</td>\n",
       "      <td>NaN</td>\n",
       "      <td>1.783970</td>\n",
       "      <td>0.0</td>\n",
       "      <td>0.0</td>\n",
       "      <td>NaN</td>\n",
       "    </tr>\n",
       "    <tr>\n",
       "      <th>min</th>\n",
       "      <td>NaN</td>\n",
       "      <td>NaN</td>\n",
       "      <td>NaN</td>\n",
       "      <td>NaN</td>\n",
       "      <td>NaN</td>\n",
       "      <td>NaN</td>\n",
       "      <td>NaN</td>\n",
       "      <td>59.000000</td>\n",
       "      <td>0.000000</td>\n",
       "      <td>NaN</td>\n",
       "      <td>NaN</td>\n",
       "      <td>NaN</td>\n",
       "      <td>NaN</td>\n",
       "      <td>NaN</td>\n",
       "      <td>NaN</td>\n",
       "      <td>NaN</td>\n",
       "      <td>NaN</td>\n",
       "      <td>NaN</td>\n",
       "      <td>NaN</td>\n",
       "      <td>NaN</td>\n",
       "      <td>NaN</td>\n",
       "      <td>NaN</td>\n",
       "      <td>NaN</td>\n",
       "      <td>NaN</td>\n",
       "      <td>NaN</td>\n",
       "      <td>NaN</td>\n",
       "      <td>NaN</td>\n",
       "      <td>0.000000</td>\n",
       "      <td>NaN</td>\n",
       "      <td>NaN</td>\n",
       "      <td>NaN</td>\n",
       "      <td>NaN</td>\n",
       "      <td>NaN</td>\n",
       "      <td>NaN</td>\n",
       "      <td>-25.000000</td>\n",
       "      <td>2013.0</td>\n",
       "      <td>3.0</td>\n",
       "      <td>NaN</td>\n",
       "    </tr>\n",
       "    <tr>\n",
       "      <th>25%</th>\n",
       "      <td>NaN</td>\n",
       "      <td>NaN</td>\n",
       "      <td>NaN</td>\n",
       "      <td>NaN</td>\n",
       "      <td>NaN</td>\n",
       "      <td>NaN</td>\n",
       "      <td>NaN</td>\n",
       "      <td>3339.000000</td>\n",
       "      <td>0.000000</td>\n",
       "      <td>NaN</td>\n",
       "      <td>NaN</td>\n",
       "      <td>NaN</td>\n",
       "      <td>NaN</td>\n",
       "      <td>NaN</td>\n",
       "      <td>NaN</td>\n",
       "      <td>NaN</td>\n",
       "      <td>NaN</td>\n",
       "      <td>NaN</td>\n",
       "      <td>NaN</td>\n",
       "      <td>NaN</td>\n",
       "      <td>NaN</td>\n",
       "      <td>NaN</td>\n",
       "      <td>NaN</td>\n",
       "      <td>NaN</td>\n",
       "      <td>NaN</td>\n",
       "      <td>NaN</td>\n",
       "      <td>NaN</td>\n",
       "      <td>0.000000</td>\n",
       "      <td>NaN</td>\n",
       "      <td>NaN</td>\n",
       "      <td>NaN</td>\n",
       "      <td>NaN</td>\n",
       "      <td>NaN</td>\n",
       "      <td>NaN</td>\n",
       "      <td>-1.000000</td>\n",
       "      <td>2013.0</td>\n",
       "      <td>3.0</td>\n",
       "      <td>NaN</td>\n",
       "    </tr>\n",
       "    <tr>\n",
       "      <th>50%</th>\n",
       "      <td>NaN</td>\n",
       "      <td>NaN</td>\n",
       "      <td>NaN</td>\n",
       "      <td>NaN</td>\n",
       "      <td>NaN</td>\n",
       "      <td>NaN</td>\n",
       "      <td>NaN</td>\n",
       "      <td>7721.000000</td>\n",
       "      <td>0.000000</td>\n",
       "      <td>NaN</td>\n",
       "      <td>NaN</td>\n",
       "      <td>NaN</td>\n",
       "      <td>NaN</td>\n",
       "      <td>NaN</td>\n",
       "      <td>NaN</td>\n",
       "      <td>NaN</td>\n",
       "      <td>NaN</td>\n",
       "      <td>NaN</td>\n",
       "      <td>NaN</td>\n",
       "      <td>NaN</td>\n",
       "      <td>NaN</td>\n",
       "      <td>NaN</td>\n",
       "      <td>NaN</td>\n",
       "      <td>NaN</td>\n",
       "      <td>NaN</td>\n",
       "      <td>NaN</td>\n",
       "      <td>NaN</td>\n",
       "      <td>1.000000</td>\n",
       "      <td>NaN</td>\n",
       "      <td>NaN</td>\n",
       "      <td>NaN</td>\n",
       "      <td>NaN</td>\n",
       "      <td>NaN</td>\n",
       "      <td>NaN</td>\n",
       "      <td>1.000000</td>\n",
       "      <td>2013.0</td>\n",
       "      <td>3.0</td>\n",
       "      <td>NaN</td>\n",
       "    </tr>\n",
       "    <tr>\n",
       "      <th>75%</th>\n",
       "      <td>NaN</td>\n",
       "      <td>NaN</td>\n",
       "      <td>NaN</td>\n",
       "      <td>NaN</td>\n",
       "      <td>NaN</td>\n",
       "      <td>NaN</td>\n",
       "      <td>NaN</td>\n",
       "      <td>19077.000000</td>\n",
       "      <td>0.000000</td>\n",
       "      <td>NaN</td>\n",
       "      <td>NaN</td>\n",
       "      <td>NaN</td>\n",
       "      <td>NaN</td>\n",
       "      <td>NaN</td>\n",
       "      <td>NaN</td>\n",
       "      <td>NaN</td>\n",
       "      <td>NaN</td>\n",
       "      <td>NaN</td>\n",
       "      <td>NaN</td>\n",
       "      <td>NaN</td>\n",
       "      <td>NaN</td>\n",
       "      <td>NaN</td>\n",
       "      <td>NaN</td>\n",
       "      <td>NaN</td>\n",
       "      <td>NaN</td>\n",
       "      <td>NaN</td>\n",
       "      <td>NaN</td>\n",
       "      <td>1.000000</td>\n",
       "      <td>NaN</td>\n",
       "      <td>NaN</td>\n",
       "      <td>NaN</td>\n",
       "      <td>NaN</td>\n",
       "      <td>NaN</td>\n",
       "      <td>NaN</td>\n",
       "      <td>1.000000</td>\n",
       "      <td>2013.0</td>\n",
       "      <td>3.0</td>\n",
       "      <td>NaN</td>\n",
       "    </tr>\n",
       "    <tr>\n",
       "      <th>max</th>\n",
       "      <td>NaN</td>\n",
       "      <td>NaN</td>\n",
       "      <td>NaN</td>\n",
       "      <td>NaN</td>\n",
       "      <td>NaN</td>\n",
       "      <td>NaN</td>\n",
       "      <td>NaN</td>\n",
       "      <td>488131.000000</td>\n",
       "      <td>18481.000000</td>\n",
       "      <td>NaN</td>\n",
       "      <td>NaN</td>\n",
       "      <td>NaN</td>\n",
       "      <td>NaN</td>\n",
       "      <td>NaN</td>\n",
       "      <td>NaN</td>\n",
       "      <td>NaN</td>\n",
       "      <td>NaN</td>\n",
       "      <td>NaN</td>\n",
       "      <td>NaN</td>\n",
       "      <td>NaN</td>\n",
       "      <td>NaN</td>\n",
       "      <td>NaN</td>\n",
       "      <td>NaN</td>\n",
       "      <td>NaN</td>\n",
       "      <td>NaN</td>\n",
       "      <td>NaN</td>\n",
       "      <td>NaN</td>\n",
       "      <td>1.000000</td>\n",
       "      <td>NaN</td>\n",
       "      <td>NaN</td>\n",
       "      <td>NaN</td>\n",
       "      <td>NaN</td>\n",
       "      <td>NaN</td>\n",
       "      <td>NaN</td>\n",
       "      <td>25.000000</td>\n",
       "      <td>2013.0</td>\n",
       "      <td>3.0</td>\n",
       "      <td>NaN</td>\n",
       "    </tr>\n",
       "  </tbody>\n",
       "</table>\n",
       "</div>"
      ],
      "text/plain": [
       "        act_date             source  pos_ctry  \\\n",
       "count                  9999    9999      9999   \n",
       "unique                   31       5       112   \n",
       "top     2013-03-12 00:00:00  1A      US         \n",
       "freq                    768    3200      4839   \n",
       "mean                    NaN     NaN       NaN   \n",
       "std                     NaN     NaN       NaN   \n",
       "min                     NaN     NaN       NaN   \n",
       "25%                     NaN     NaN       NaN   \n",
       "50%                     NaN     NaN       NaN   \n",
       "75%                     NaN     NaN       NaN   \n",
       "max                     NaN     NaN       NaN   \n",
       "\n",
       "                                pos_iata                         pos_oid    \\\n",
       "count                               9999                              9999   \n",
       "unique                              2089                              2271   \n",
       "top     83ccf07a55606976f78e63fcc805f58c  1490c3c5f95f04fa076fe15c775a80a9   \n",
       "freq                                 435                               435   \n",
       "mean                                 NaN                               NaN   \n",
       "std                                  NaN                               NaN   \n",
       "min                                  NaN                               NaN   \n",
       "25%                                  NaN                               NaN   \n",
       "50%                                  NaN                               NaN   \n",
       "75%                                  NaN                               NaN   \n",
       "max                                  NaN                               NaN   \n",
       "\n",
       "                          rloc            cre_date                  duration  \\\n",
       "count                               9999                 9999    9999.000000   \n",
       "unique                              3638                  140            NaN   \n",
       "top     ae15bcfc5aec0eb64b2c5204d08201d5  2013-03-12 00:00:00            NaN   \n",
       "freq                                  42                 1018            NaN   \n",
       "mean                                 NaN                  NaN   20209.746075   \n",
       "std                                  NaN                  NaN   42243.233482   \n",
       "min                                  NaN                  NaN      59.000000   \n",
       "25%                                  NaN                  NaN    3339.000000   \n",
       "50%                                  NaN                  NaN    7721.000000   \n",
       "75%                                  NaN                  NaN   19077.000000   \n",
       "max                                  NaN                  NaN  488131.000000   \n",
       "\n",
       "            distance  dep_port  dep_city  dep_ctry  arr_port  arr_city  \\\n",
       "count    9999.000000      9999      9999      9999      9999      9999   \n",
       "unique           NaN       581       554       127       663       634   \n",
       "top              NaN  LAX       NYC       US        LHR       NYC        \n",
       "freq             NaN       273       507      4600       212       391   \n",
       "mean      455.608861       NaN       NaN       NaN       NaN       NaN   \n",
       "std      1738.891068       NaN       NaN       NaN       NaN       NaN   \n",
       "min         0.000000       NaN       NaN       NaN       NaN       NaN   \n",
       "25%         0.000000       NaN       NaN       NaN       NaN       NaN   \n",
       "50%         0.000000       NaN       NaN       NaN       NaN       NaN   \n",
       "75%         0.000000       NaN       NaN       NaN       NaN       NaN   \n",
       "max     18481.000000       NaN       NaN       NaN       NaN       NaN   \n",
       "\n",
       "        arr_ctry  lst_port  lst_city  lst_ctry  brd_port  brd_city  brd_ctry  \\\n",
       "count       9999      9999      9999      9999      9999      9999      9999   \n",
       "unique       152       581       550       126       770       732       162   \n",
       "top     US        LAX       NYC       US        LAX       NYC       US         \n",
       "freq        3738       281       502      4559       228       435      4118   \n",
       "mean         NaN       NaN       NaN       NaN       NaN       NaN       NaN   \n",
       "std          NaN       NaN       NaN       NaN       NaN       NaN       NaN   \n",
       "min          NaN       NaN       NaN       NaN       NaN       NaN       NaN   \n",
       "25%          NaN       NaN       NaN       NaN       NaN       NaN       NaN   \n",
       "50%          NaN       NaN       NaN       NaN       NaN       NaN       NaN   \n",
       "75%          NaN       NaN       NaN       NaN       NaN       NaN       NaN   \n",
       "max          NaN       NaN       NaN       NaN       NaN       NaN       NaN   \n",
       "\n",
       "        off_port  off_city  off_ctry  mkt_port  mkt_city  mkt_ctry  \\\n",
       "count       9999      9999      9999      9999      9999      9999   \n",
       "unique       781       744       162      3395      3223       926   \n",
       "top     LAX       NYC       US        JEDKHI    JEDKHI    USUS       \n",
       "freq         247       460      4170        52        52      3074   \n",
       "mean         NaN       NaN       NaN       NaN       NaN       NaN   \n",
       "std          NaN       NaN       NaN       NaN       NaN       NaN   \n",
       "min          NaN       NaN       NaN       NaN       NaN       NaN   \n",
       "25%          NaN       NaN       NaN       NaN       NaN       NaN   \n",
       "50%          NaN       NaN       NaN       NaN       NaN       NaN   \n",
       "75%          NaN       NaN       NaN       NaN       NaN       NaN   \n",
       "max          NaN       NaN       NaN       NaN       NaN       NaN   \n",
       "\n",
       "               intl route           carrier  bkg_class  cab_class  \\\n",
       "count   9999.000000            9999    9999       9999       9999   \n",
       "unique          NaN            6079     179         27          4   \n",
       "top             NaN    KHIJED            NV  Q          Y           \n",
       "freq            NaN              26    1354        851       8979   \n",
       "mean       0.596260             NaN     NaN        NaN        NaN   \n",
       "std        0.490671             NaN     NaN        NaN        NaN   \n",
       "min        0.000000             NaN     NaN        NaN        NaN   \n",
       "25%        0.000000             NaN     NaN        NaN        NaN   \n",
       "50%        1.000000             NaN     NaN        NaN        NaN   \n",
       "75%        1.000000             NaN     NaN        NaN        NaN   \n",
       "max        1.000000             NaN     NaN        NaN        NaN   \n",
       "\n",
       "        brd_time             off_time                     pax    year   month  \\\n",
       "count                  9999                 9999  9999.000000  9999.0  9999.0   \n",
       "unique                 6416                 7218          NaN     NaN     NaN   \n",
       "top     2013-06-09 15:10:00  2013-06-10 12:55:31          NaN     NaN     NaN   \n",
       "freq                     21                   21          NaN     NaN     NaN   \n",
       "mean                    NaN                  NaN     0.516152  2013.0     3.0   \n",
       "std                     NaN                  NaN     1.783970     0.0     0.0   \n",
       "min                     NaN                  NaN   -25.000000  2013.0     3.0   \n",
       "25%                     NaN                  NaN    -1.000000  2013.0     3.0   \n",
       "50%                     NaN                  NaN     1.000000  2013.0     3.0   \n",
       "75%                     NaN                  NaN     1.000000  2013.0     3.0   \n",
       "max                     NaN                  NaN    25.000000  2013.0     3.0   \n",
       "\n",
       "        oid        \n",
       "count        9999  \n",
       "unique        389  \n",
       "top     NULL       \n",
       "freq         8427  \n",
       "mean          NaN  \n",
       "std           NaN  \n",
       "min           NaN  \n",
       "25%           NaN  \n",
       "50%           NaN  \n",
       "75%           NaN  \n",
       "max           NaN  "
      ]
     },
     "execution_count": 34,
     "metadata": {},
     "output_type": "execute_result"
    }
   ],
   "source": [
    "b.describe(include='all')"
   ]
  },
  {
   "cell_type": "markdown",
   "metadata": {},
   "source": [
    "-Con este describe podemos ver directamente lo que hemos hecho co el codigo anternior para ver que en rloc el maximo son 42"
   ]
  },
  {
   "cell_type": "code",
   "execution_count": 35,
   "metadata": {},
   "outputs": [
    {
     "name": "stdout",
     "output_type": "stream",
     "text": [
      "<class 'pandas.core.frame.DataFrame'>\n",
      "RangeIndex: 9999 entries, 0 to 9998\n",
      "Data columns (total 38 columns):\n",
      "act_date               9999 non-null object\n",
      "source                 9999 non-null object\n",
      "pos_ctry               9999 non-null object\n",
      "pos_iata               9999 non-null object\n",
      "pos_oid                9999 non-null object\n",
      "rloc                   9999 non-null object\n",
      "cre_date               9999 non-null object\n",
      "duration               9999 non-null int64\n",
      "distance               9999 non-null int64\n",
      "dep_port               9999 non-null object\n",
      "dep_city               9999 non-null object\n",
      "dep_ctry               9999 non-null object\n",
      "arr_port               9999 non-null object\n",
      "arr_city               9999 non-null object\n",
      "arr_ctry               9999 non-null object\n",
      "lst_port               9999 non-null object\n",
      "lst_city               9999 non-null object\n",
      "lst_ctry               9999 non-null object\n",
      "brd_port               9999 non-null object\n",
      "brd_city               9999 non-null object\n",
      "brd_ctry               9999 non-null object\n",
      "off_port               9999 non-null object\n",
      "off_city               9999 non-null object\n",
      "off_ctry               9999 non-null object\n",
      "mkt_port               9999 non-null object\n",
      "mkt_city               9999 non-null object\n",
      "mkt_ctry               9999 non-null object\n",
      "intl                   9999 non-null int64\n",
      "route                  9999 non-null object\n",
      "carrier                9999 non-null object\n",
      "bkg_class              9999 non-null object\n",
      "cab_class              9999 non-null object\n",
      "brd_time               9999 non-null object\n",
      "off_time               9999 non-null object\n",
      "pax                    9999 non-null int64\n",
      "year                   9999 non-null int64\n",
      "month                  9999 non-null int64\n",
      "oid                    9999 non-null object\n",
      "dtypes: int64(6), object(32)\n",
      "memory usage: 2.9+ MB\n"
     ]
    }
   ],
   "source": [
    "b.info()"
   ]
  },
  {
   "cell_type": "code",
   "execution_count": 36,
   "metadata": {},
   "outputs": [
    {
     "data": {
      "text/plain": [
       "act_date               0\n",
       "source                 0\n",
       "pos_ctry               0\n",
       "pos_iata               0\n",
       "pos_oid                0\n",
       "rloc                   0\n",
       "cre_date               0\n",
       "duration               0\n",
       "distance               0\n",
       "dep_port               0\n",
       "dep_city               0\n",
       "dep_ctry               0\n",
       "arr_port               0\n",
       "arr_city               0\n",
       "arr_ctry               0\n",
       "lst_port               0\n",
       "lst_city               0\n",
       "lst_ctry               0\n",
       "brd_port               0\n",
       "brd_city               0\n",
       "brd_ctry               0\n",
       "off_port               0\n",
       "off_city               0\n",
       "off_ctry               0\n",
       "mkt_port               0\n",
       "mkt_city               0\n",
       "mkt_ctry               0\n",
       "intl                   0\n",
       "route                  0\n",
       "carrier                0\n",
       "bkg_class              0\n",
       "cab_class              0\n",
       "brd_time               0\n",
       "off_time               0\n",
       "pax                    0\n",
       "year                   0\n",
       "month                  0\n",
       "oid                    0\n",
       "dtype: int64"
      ]
     },
     "execution_count": 36,
     "metadata": {},
     "output_type": "execute_result"
    }
   ],
   "source": [
    "b.isnull().sum() # no es normal no tener nulls en una tabla, es una tabla super limpia (primeros 10.000)"
   ]
  },
  {
   "cell_type": "markdown",
   "metadata": {},
   "source": [
    "## 2. Seleccionamos las columnas de interes"
   ]
  },
  {
   "cell_type": "code",
   "execution_count": 37,
   "metadata": {},
   "outputs": [],
   "source": [
    "b = pd.read_csv('bookings.sample.csv.bz2', sep='^',  usecols = ['arr_port', 'pax', 'year'])\n",
    "# podemos hacerlo sobre el fichero grande y seleccionar nrows=9999, es lo mismo"
   ]
  },
  {
   "cell_type": "code",
   "execution_count": 38,
   "metadata": {},
   "outputs": [
    {
     "data": {
      "text/html": [
       "<div>\n",
       "<style scoped>\n",
       "    .dataframe tbody tr th:only-of-type {\n",
       "        vertical-align: middle;\n",
       "    }\n",
       "\n",
       "    .dataframe tbody tr th {\n",
       "        vertical-align: top;\n",
       "    }\n",
       "\n",
       "    .dataframe thead th {\n",
       "        text-align: right;\n",
       "    }\n",
       "</style>\n",
       "<table border=\"1\" class=\"dataframe\">\n",
       "  <thead>\n",
       "    <tr style=\"text-align: right;\">\n",
       "      <th></th>\n",
       "      <th>arr_port</th>\n",
       "      <th>pax</th>\n",
       "      <th>year</th>\n",
       "    </tr>\n",
       "  </thead>\n",
       "  <tbody>\n",
       "    <tr>\n",
       "      <th>0</th>\n",
       "      <td>LHR</td>\n",
       "      <td>-1</td>\n",
       "      <td>2013</td>\n",
       "    </tr>\n",
       "    <tr>\n",
       "      <th>1</th>\n",
       "      <td>CLT</td>\n",
       "      <td>1</td>\n",
       "      <td>2013</td>\n",
       "    </tr>\n",
       "    <tr>\n",
       "      <th>2</th>\n",
       "      <td>CLT</td>\n",
       "      <td>1</td>\n",
       "      <td>2013</td>\n",
       "    </tr>\n",
       "    <tr>\n",
       "      <th>3</th>\n",
       "      <td>SVO</td>\n",
       "      <td>1</td>\n",
       "      <td>2013</td>\n",
       "    </tr>\n",
       "    <tr>\n",
       "      <th>4</th>\n",
       "      <td>SVO</td>\n",
       "      <td>1</td>\n",
       "      <td>2013</td>\n",
       "    </tr>\n",
       "  </tbody>\n",
       "</table>\n",
       "</div>"
      ],
      "text/plain": [
       "   arr_port  pax  year\n",
       "0  LHR        -1  2013\n",
       "1  CLT         1  2013\n",
       "2  CLT         1  2013\n",
       "3  SVO         1  2013\n",
       "4  SVO         1  2013"
      ]
     },
     "execution_count": 38,
     "metadata": {},
     "output_type": "execute_result"
    }
   ],
   "source": [
    "b.head()"
   ]
  },
  {
   "cell_type": "markdown",
   "metadata": {},
   "source": [
    "- Qué hacemos con los NULL"
   ]
  },
  {
   "cell_type": "code",
   "execution_count": 39,
   "metadata": {},
   "outputs": [],
   "source": [
    "b = b.dropna()"
   ]
  },
  {
   "cell_type": "markdown",
   "metadata": {},
   "source": [
    "-PLAN DE ACCION:\n",
    "        - filtrar 2013\n",
    "        - groupby sobre arr_port\n",
    "        - sumar pax\n",
    "        - ordenar\n",
    "        - top 10"
   ]
  },
  {
   "cell_type": "code",
   "execution_count": 40,
   "metadata": {},
   "outputs": [],
   "source": [
    "b = b[b['year']==2013]\n",
    "\n"
   ]
  },
  {
   "cell_type": "code",
   "execution_count": 41,
   "metadata": {},
   "outputs": [
    {
     "data": {
      "text/plain": [
       "9999"
      ]
     },
     "execution_count": 41,
     "metadata": {},
     "output_type": "execute_result"
    }
   ],
   "source": [
    "len(b)"
   ]
  },
  {
   "cell_type": "code",
   "execution_count": 42,
   "metadata": {},
   "outputs": [],
   "source": [
    "del b['year'] # year ya no te sirve para nada"
   ]
  },
  {
   "cell_type": "code",
   "execution_count": 44,
   "metadata": {},
   "outputs": [
    {
     "data": {
      "text/html": [
       "<div>\n",
       "<style scoped>\n",
       "    .dataframe tbody tr th:only-of-type {\n",
       "        vertical-align: middle;\n",
       "    }\n",
       "\n",
       "    .dataframe tbody tr th {\n",
       "        vertical-align: top;\n",
       "    }\n",
       "\n",
       "    .dataframe thead th {\n",
       "        text-align: right;\n",
       "    }\n",
       "</style>\n",
       "<table border=\"1\" class=\"dataframe\">\n",
       "  <thead>\n",
       "    <tr style=\"text-align: right;\">\n",
       "      <th></th>\n",
       "      <th>pax</th>\n",
       "    </tr>\n",
       "    <tr>\n",
       "      <th>arr_port</th>\n",
       "      <th></th>\n",
       "    </tr>\n",
       "  </thead>\n",
       "  <tbody>\n",
       "    <tr>\n",
       "      <th>HKG</th>\n",
       "      <td>112</td>\n",
       "    </tr>\n",
       "    <tr>\n",
       "      <th>LGA</th>\n",
       "      <td>95</td>\n",
       "    </tr>\n",
       "    <tr>\n",
       "      <th>ORD</th>\n",
       "      <td>94</td>\n",
       "    </tr>\n",
       "    <tr>\n",
       "      <th>JFK</th>\n",
       "      <td>92</td>\n",
       "    </tr>\n",
       "    <tr>\n",
       "      <th>LAX</th>\n",
       "      <td>91</td>\n",
       "    </tr>\n",
       "    <tr>\n",
       "      <th>SFO</th>\n",
       "      <td>91</td>\n",
       "    </tr>\n",
       "    <tr>\n",
       "      <th>MCO</th>\n",
       "      <td>90</td>\n",
       "    </tr>\n",
       "    <tr>\n",
       "      <th>DCA</th>\n",
       "      <td>82</td>\n",
       "    </tr>\n",
       "    <tr>\n",
       "      <th>DEN</th>\n",
       "      <td>79</td>\n",
       "    </tr>\n",
       "    <tr>\n",
       "      <th>LHR</th>\n",
       "      <td>76</td>\n",
       "    </tr>\n",
       "  </tbody>\n",
       "</table>\n",
       "</div>"
      ],
      "text/plain": [
       "          pax\n",
       "arr_port     \n",
       "HKG       112\n",
       "LGA        95\n",
       "ORD        94\n",
       "JFK        92\n",
       "LAX        91\n",
       "SFO        91\n",
       "MCO        90\n",
       "DCA        82\n",
       "DEN        79\n",
       "LHR        76"
      ]
     },
     "execution_count": 44,
     "metadata": {},
     "output_type": "execute_result"
    }
   ],
   "source": [
    "top = b.groupby('arr_port').sum().sort_values(by='pax', ascending= False)\n",
    "top[:10]"
   ]
  },
  {
   "cell_type": "code",
   "execution_count": 45,
   "metadata": {},
   "outputs": [
    {
     "data": {
      "text/html": [
       "<div>\n",
       "<style scoped>\n",
       "    .dataframe tbody tr th:only-of-type {\n",
       "        vertical-align: middle;\n",
       "    }\n",
       "\n",
       "    .dataframe tbody tr th {\n",
       "        vertical-align: top;\n",
       "    }\n",
       "\n",
       "    .dataframe thead th {\n",
       "        text-align: right;\n",
       "    }\n",
       "</style>\n",
       "<table border=\"1\" class=\"dataframe\">\n",
       "  <thead>\n",
       "    <tr style=\"text-align: right;\">\n",
       "      <th></th>\n",
       "      <th>arr_port</th>\n",
       "      <th>pax</th>\n",
       "    </tr>\n",
       "  </thead>\n",
       "  <tbody>\n",
       "    <tr>\n",
       "      <th>0</th>\n",
       "      <td>HKG</td>\n",
       "      <td>112</td>\n",
       "    </tr>\n",
       "    <tr>\n",
       "      <th>1</th>\n",
       "      <td>LGA</td>\n",
       "      <td>95</td>\n",
       "    </tr>\n",
       "    <tr>\n",
       "      <th>2</th>\n",
       "      <td>ORD</td>\n",
       "      <td>94</td>\n",
       "    </tr>\n",
       "    <tr>\n",
       "      <th>3</th>\n",
       "      <td>JFK</td>\n",
       "      <td>92</td>\n",
       "    </tr>\n",
       "    <tr>\n",
       "      <th>4</th>\n",
       "      <td>LAX</td>\n",
       "      <td>91</td>\n",
       "    </tr>\n",
       "  </tbody>\n",
       "</table>\n",
       "</div>"
      ],
      "text/plain": [
       "   arr_port  pax\n",
       "0  HKG       112\n",
       "1  LGA        95\n",
       "2  ORD        94\n",
       "3  JFK        92\n",
       "4  LAX        91"
      ]
     },
     "execution_count": 45,
     "metadata": {},
     "output_type": "execute_result"
    }
   ],
   "source": [
    "top.reset_index().head()"
   ]
  },
  {
   "cell_type": "markdown",
   "metadata": {},
   "source": [
    "-hay que unir todo lo anterior en una celda para sacar le codigo limpio, desde pd.set.option hasta el top"
   ]
  },
  {
   "cell_type": "markdown",
   "metadata": {},
   "source": [
    "- Hemos sacado Top 10 con 10.000 datos, ahora hay que extrapolarlo al archivo entero con los chunks\n",
    "### Chunks"
   ]
  },
  {
   "cell_type": "code",
   "execution_count": 46,
   "metadata": {},
   "outputs": [],
   "source": [
    "bi = pd.read_csv('bookings.csv.bz2', sep='^',  usecols = ['arr_port', 'pax', 'year'], nrows = 9999, iterator=True )\n",
    "#el iterator es la clave para que vaya recorriendo los chunks y vaya avanzando por el archivo,no definimos que numero de elementos"
   ]
  },
  {
   "cell_type": "code",
   "execution_count": 47,
   "metadata": {},
   "outputs": [
    {
     "data": {
      "text/plain": [
       "pandas.io.parsers.TextFileReader"
      ]
     },
     "execution_count": 47,
     "metadata": {},
     "output_type": "execute_result"
    }
   ],
   "source": [
    "type(bi)"
   ]
  },
  {
   "cell_type": "code",
   "execution_count": 48,
   "metadata": {},
   "outputs": [],
   "source": [
    "b = bi.get_chunk(6000) # si hacemos otra vez get empezamos a partir de 6000"
   ]
  },
  {
   "cell_type": "code",
   "execution_count": 49,
   "metadata": {},
   "outputs": [
    {
     "data": {
      "text/plain": [
       "pandas.core.frame.DataFrame"
      ]
     },
     "execution_count": 49,
     "metadata": {},
     "output_type": "execute_result"
    }
   ],
   "source": [
    "type(b) # esto es lo que leiamos antes con el read_csv, un DF"
   ]
  },
  {
   "cell_type": "code",
   "execution_count": 50,
   "metadata": {},
   "outputs": [
    {
     "data": {
      "text/html": [
       "<div>\n",
       "<style scoped>\n",
       "    .dataframe tbody tr th:only-of-type {\n",
       "        vertical-align: middle;\n",
       "    }\n",
       "\n",
       "    .dataframe tbody tr th {\n",
       "        vertical-align: top;\n",
       "    }\n",
       "\n",
       "    .dataframe thead th {\n",
       "        text-align: right;\n",
       "    }\n",
       "</style>\n",
       "<table border=\"1\" class=\"dataframe\">\n",
       "  <thead>\n",
       "    <tr style=\"text-align: right;\">\n",
       "      <th></th>\n",
       "      <th>arr_port</th>\n",
       "      <th>pax</th>\n",
       "      <th>year</th>\n",
       "    </tr>\n",
       "  </thead>\n",
       "  <tbody>\n",
       "    <tr>\n",
       "      <th>0</th>\n",
       "      <td>LHR</td>\n",
       "      <td>-1</td>\n",
       "      <td>2013</td>\n",
       "    </tr>\n",
       "    <tr>\n",
       "      <th>1</th>\n",
       "      <td>CLT</td>\n",
       "      <td>1</td>\n",
       "      <td>2013</td>\n",
       "    </tr>\n",
       "    <tr>\n",
       "      <th>2</th>\n",
       "      <td>CLT</td>\n",
       "      <td>1</td>\n",
       "      <td>2013</td>\n",
       "    </tr>\n",
       "    <tr>\n",
       "      <th>3</th>\n",
       "      <td>SVO</td>\n",
       "      <td>1</td>\n",
       "      <td>2013</td>\n",
       "    </tr>\n",
       "    <tr>\n",
       "      <th>4</th>\n",
       "      <td>SVO</td>\n",
       "      <td>1</td>\n",
       "      <td>2013</td>\n",
       "    </tr>\n",
       "  </tbody>\n",
       "</table>\n",
       "</div>"
      ],
      "text/plain": [
       "   arr_port  pax  year\n",
       "0  LHR        -1  2013\n",
       "1  CLT         1  2013\n",
       "2  CLT         1  2013\n",
       "3  SVO         1  2013\n",
       "4  SVO         1  2013"
      ]
     },
     "execution_count": 50,
     "metadata": {},
     "output_type": "execute_result"
    }
   ],
   "source": [
    "b.head()"
   ]
  },
  {
   "cell_type": "code",
   "execution_count": 51,
   "metadata": {},
   "outputs": [
    {
     "data": {
      "text/html": [
       "<div>\n",
       "<style scoped>\n",
       "    .dataframe tbody tr th:only-of-type {\n",
       "        vertical-align: middle;\n",
       "    }\n",
       "\n",
       "    .dataframe tbody tr th {\n",
       "        vertical-align: top;\n",
       "    }\n",
       "\n",
       "    .dataframe thead th {\n",
       "        text-align: right;\n",
       "    }\n",
       "</style>\n",
       "<table border=\"1\" class=\"dataframe\">\n",
       "  <thead>\n",
       "    <tr style=\"text-align: right;\">\n",
       "      <th></th>\n",
       "      <th>arr_port</th>\n",
       "      <th>pax</th>\n",
       "      <th>year</th>\n",
       "    </tr>\n",
       "  </thead>\n",
       "  <tbody>\n",
       "    <tr>\n",
       "      <th>6000</th>\n",
       "      <td>BOS</td>\n",
       "      <td>1</td>\n",
       "      <td>2013</td>\n",
       "    </tr>\n",
       "    <tr>\n",
       "      <th>6001</th>\n",
       "      <td>BOS</td>\n",
       "      <td>-1</td>\n",
       "      <td>2013</td>\n",
       "    </tr>\n",
       "    <tr>\n",
       "      <th>6002</th>\n",
       "      <td>BOS</td>\n",
       "      <td>-1</td>\n",
       "      <td>2013</td>\n",
       "    </tr>\n",
       "  </tbody>\n",
       "</table>\n",
       "</div>"
      ],
      "text/plain": [
       "      arr_port  pax  year\n",
       "6000  BOS         1  2013\n",
       "6001  BOS        -1  2013\n",
       "6002  BOS        -1  2013"
      ]
     },
     "execution_count": 51,
     "metadata": {},
     "output_type": "execute_result"
    }
   ],
   "source": [
    "b1 = bi.get_chunk(3000)\n",
    "b1.head(3)"
   ]
  },
  {
   "cell_type": "code",
   "execution_count": 52,
   "metadata": {},
   "outputs": [
    {
     "data": {
      "text/plain": [
       "(999, 3)"
      ]
     },
     "execution_count": 52,
     "metadata": {},
     "output_type": "execute_result"
    }
   ],
   "source": [
    "b2 = bi.get_chunk(300000000)\n",
    "b2.shape"
   ]
  },
  {
   "cell_type": "markdown",
   "metadata": {},
   "source": [
    "- no devuelve error porque hemos definido con nrows que cuando lleguemos a 9999 para, es decir, no tenemos que iterar con el numero exacto de elementos del fichero, cuando llegue al final del fichero para la iteración"
   ]
  },
  {
   "cell_type": "code",
   "execution_count": 53,
   "metadata": {},
   "outputs": [
    {
     "name": "stdout",
     "output_type": "stream",
     "text": [
      "0\n",
      "3000\n",
      "1\n",
      "3000\n",
      "2\n",
      "3000\n",
      "3\n",
      "999\n"
     ]
    }
   ],
   "source": [
    "bi = pd.read_csv('bookings.csv.bz2', sep='^',  usecols = ['arr_port', 'pax', 'year'], nrows = 9999, chunksize=3000)\n",
    "# el iterator=True se puede quitar, funciona igualmente\n",
    "all_chunks=pd.DataFrame() # aqui van a ir todos los chunks\n",
    "for i,b in enumerate(bi):\n",
    "    print(i)\n",
    "    print(len(b))\n",
    "    #ahora ponemos el codigo de antes, que vamos a repetir para todos los chunks\n",
    "    b = b.dropna()\n",
    "    b = b[b['year']==2013]\n",
    "    del b['year'] # year ya no te sirve para nada\n",
    "    top = b.groupby('arr_port').sum().sort_values(by='pax', ascending= False)\n",
    "    top.reset_index(inplace=True)\n",
    "    all_chunks = all_chunks.append(top)\n",
    "    \n",
    "    \n",
    "all_result = all_chunks.groupby('arr_port').sum().sort_values(by='pax', ascending= False).reset_index()\n"
   ]
  },
  {
   "cell_type": "code",
   "execution_count": 54,
   "metadata": {},
   "outputs": [
    {
     "data": {
      "text/plain": [
       "(1344, 2)"
      ]
     },
     "execution_count": 54,
     "metadata": {},
     "output_type": "execute_result"
    }
   ],
   "source": [
    "all_chunks.shape"
   ]
  },
  {
   "cell_type": "code",
   "execution_count": 55,
   "metadata": {},
   "outputs": [
    {
     "data": {
      "text/html": [
       "<div>\n",
       "<style scoped>\n",
       "    .dataframe tbody tr th:only-of-type {\n",
       "        vertical-align: middle;\n",
       "    }\n",
       "\n",
       "    .dataframe tbody tr th {\n",
       "        vertical-align: top;\n",
       "    }\n",
       "\n",
       "    .dataframe thead th {\n",
       "        text-align: right;\n",
       "    }\n",
       "</style>\n",
       "<table border=\"1\" class=\"dataframe\">\n",
       "  <thead>\n",
       "    <tr style=\"text-align: right;\">\n",
       "      <th></th>\n",
       "      <th>arr_port</th>\n",
       "      <th>pax</th>\n",
       "    </tr>\n",
       "  </thead>\n",
       "  <tbody>\n",
       "    <tr>\n",
       "      <th>0</th>\n",
       "      <td>HKG</td>\n",
       "      <td>112</td>\n",
       "    </tr>\n",
       "    <tr>\n",
       "      <th>1</th>\n",
       "      <td>LGA</td>\n",
       "      <td>95</td>\n",
       "    </tr>\n",
       "    <tr>\n",
       "      <th>2</th>\n",
       "      <td>ORD</td>\n",
       "      <td>94</td>\n",
       "    </tr>\n",
       "    <tr>\n",
       "      <th>3</th>\n",
       "      <td>JFK</td>\n",
       "      <td>92</td>\n",
       "    </tr>\n",
       "    <tr>\n",
       "      <th>4</th>\n",
       "      <td>LAX</td>\n",
       "      <td>91</td>\n",
       "    </tr>\n",
       "    <tr>\n",
       "      <th>5</th>\n",
       "      <td>SFO</td>\n",
       "      <td>91</td>\n",
       "    </tr>\n",
       "    <tr>\n",
       "      <th>6</th>\n",
       "      <td>MCO</td>\n",
       "      <td>90</td>\n",
       "    </tr>\n",
       "    <tr>\n",
       "      <th>7</th>\n",
       "      <td>DCA</td>\n",
       "      <td>82</td>\n",
       "    </tr>\n",
       "    <tr>\n",
       "      <th>8</th>\n",
       "      <td>DEN</td>\n",
       "      <td>79</td>\n",
       "    </tr>\n",
       "    <tr>\n",
       "      <th>9</th>\n",
       "      <td>LHR</td>\n",
       "      <td>76</td>\n",
       "    </tr>\n",
       "  </tbody>\n",
       "</table>\n",
       "</div>"
      ],
      "text/plain": [
       "   arr_port  pax\n",
       "0  HKG       112\n",
       "1  LGA        95\n",
       "2  ORD        94\n",
       "3  JFK        92\n",
       "4  LAX        91\n",
       "5  SFO        91\n",
       "6  MCO        90\n",
       "7  DCA        82\n",
       "8  DEN        79\n",
       "9  LHR        76"
      ]
     },
     "execution_count": 55,
     "metadata": {},
     "output_type": "execute_result"
    }
   ],
   "source": [
    "all_result.head(10)"
   ]
  },
  {
   "cell_type": "code",
   "execution_count": null,
   "metadata": {},
   "outputs": [],
   "source": [
    "-Ya lo hemos probado y funciona el codigo, ahora lo hacemos sobre el archivo entero"
   ]
  },
  {
   "cell_type": "code",
   "execution_count": 56,
   "metadata": {},
   "outputs": [
    {
     "name": "stdout",
     "output_type": "stream",
     "text": [
      "0\n",
      "1000000\n",
      "1\n",
      "1000000\n",
      "2\n",
      "1000000\n",
      "3\n",
      "1000000\n",
      "4\n",
      "1000000\n",
      "5\n",
      "1000000\n",
      "6\n",
      "1000000\n",
      "7\n",
      "1000000\n",
      "8\n",
      "1000000\n",
      "9\n",
      "1000000\n",
      "10\n",
      "10\n",
      "CPU times: user 10min 35s, sys: 3.68 s, total: 10min 38s\n",
      "Wall time: 10min 34s\n"
     ]
    }
   ],
   "source": [
    "%%time\n",
    "bi = pd.read_csv('bookings.csv.bz2', sep='^',  usecols = ['arr_port', 'pax', 'year'],  chunksize=1000000)\n",
    "# el iterator=True se puede quitar, funciona igualmente\n",
    "all_chunks=pd.DataFrame() # aqui van a ir todos los chunks\n",
    "for i,b in enumerate(bi):\n",
    "    print(i)\n",
    "    print(len(b))\n",
    "    #ahora ponemos el codigo de antes, que vamos a repetir para todos los chunks\n",
    "    b = b.dropna()\n",
    "    b = b[b['year']==2013]\n",
    "    del b['year'] # year ya no te sirve para nada\n",
    "    top = b.groupby('arr_port').sum().sort_values(by='pax', ascending= False)\n",
    "    top.reset_index(inplace=True)\n",
    "    all_chunks = all_chunks.append(top)\n",
    "    \n",
    "    \n",
    "all_result = all_chunks.groupby('arr_port').sum().sort_values(by='pax', ascending= False).reset_index()"
   ]
  },
  {
   "cell_type": "code",
   "execution_count": 57,
   "metadata": {},
   "outputs": [
    {
     "data": {
      "text/html": [
       "<div>\n",
       "<style scoped>\n",
       "    .dataframe tbody tr th:only-of-type {\n",
       "        vertical-align: middle;\n",
       "    }\n",
       "\n",
       "    .dataframe tbody tr th {\n",
       "        vertical-align: top;\n",
       "    }\n",
       "\n",
       "    .dataframe thead th {\n",
       "        text-align: right;\n",
       "    }\n",
       "</style>\n",
       "<table border=\"1\" class=\"dataframe\">\n",
       "  <thead>\n",
       "    <tr style=\"text-align: right;\">\n",
       "      <th></th>\n",
       "      <th>arr_port</th>\n",
       "      <th>pax</th>\n",
       "    </tr>\n",
       "  </thead>\n",
       "  <tbody>\n",
       "    <tr>\n",
       "      <th>0</th>\n",
       "      <td>LHR</td>\n",
       "      <td>88809.0</td>\n",
       "    </tr>\n",
       "    <tr>\n",
       "      <th>1</th>\n",
       "      <td>MCO</td>\n",
       "      <td>70930.0</td>\n",
       "    </tr>\n",
       "    <tr>\n",
       "      <th>2</th>\n",
       "      <td>LAX</td>\n",
       "      <td>70530.0</td>\n",
       "    </tr>\n",
       "    <tr>\n",
       "      <th>3</th>\n",
       "      <td>LAS</td>\n",
       "      <td>69630.0</td>\n",
       "    </tr>\n",
       "    <tr>\n",
       "      <th>4</th>\n",
       "      <td>JFK</td>\n",
       "      <td>66270.0</td>\n",
       "    </tr>\n",
       "    <tr>\n",
       "      <th>5</th>\n",
       "      <td>CDG</td>\n",
       "      <td>64490.0</td>\n",
       "    </tr>\n",
       "    <tr>\n",
       "      <th>6</th>\n",
       "      <td>BKK</td>\n",
       "      <td>59460.0</td>\n",
       "    </tr>\n",
       "    <tr>\n",
       "      <th>7</th>\n",
       "      <td>MIA</td>\n",
       "      <td>58150.0</td>\n",
       "    </tr>\n",
       "    <tr>\n",
       "      <th>8</th>\n",
       "      <td>SFO</td>\n",
       "      <td>58000.0</td>\n",
       "    </tr>\n",
       "    <tr>\n",
       "      <th>9</th>\n",
       "      <td>DXB</td>\n",
       "      <td>55590.0</td>\n",
       "    </tr>\n",
       "  </tbody>\n",
       "</table>\n",
       "</div>"
      ],
      "text/plain": [
       "   arr_port      pax\n",
       "0  LHR       88809.0\n",
       "1  MCO       70930.0\n",
       "2  LAX       70530.0\n",
       "3  LAS       69630.0\n",
       "4  JFK       66270.0\n",
       "5  CDG       64490.0\n",
       "6  BKK       59460.0\n",
       "7  MIA       58150.0\n",
       "8  SFO       58000.0\n",
       "9  DXB       55590.0"
      ]
     },
     "execution_count": 57,
     "metadata": {},
     "output_type": "execute_result"
    }
   ],
   "source": [
    "all_result.head(10)"
   ]
  },
  {
   "cell_type": "markdown",
   "metadata": {},
   "source": [
    "## Bonus point del ejercicio 2, GeoBase\n"
   ]
  },
  {
   "cell_type": "code",
   "execution_count": null,
   "metadata": {},
   "outputs": [],
   "source": [
    "! pip install Neobase"
   ]
  },
  {
   "cell_type": "code",
   "execution_count": 58,
   "metadata": {},
   "outputs": [],
   "source": [
    "import neobase as nb"
   ]
  },
  {
   "cell_type": "code",
   "execution_count": 59,
   "metadata": {},
   "outputs": [],
   "source": [
    "from neobase import NeoBase"
   ]
  },
  {
   "cell_type": "code",
   "execution_count": 60,
   "metadata": {},
   "outputs": [],
   "source": [
    "geoDict = NeoBase()"
   ]
  },
  {
   "cell_type": "code",
   "execution_count": 61,
   "metadata": {},
   "outputs": [
    {
     "data": {
      "text/plain": [
       "neobase.neobase.NeoBase"
      ]
     },
     "execution_count": 61,
     "metadata": {},
     "output_type": "execute_result"
    }
   ],
   "source": [
    "type(geoDict)"
   ]
  },
  {
   "cell_type": "code",
   "execution_count": 62,
   "metadata": {},
   "outputs": [
    {
     "data": {
      "text/plain": [
       "{'__dup__': set(),\n",
       " 'iata_code': 'LHR',\n",
       " 'name': 'London Heathrow Airport',\n",
       " 'lat': '51.4775',\n",
       " 'lng': '-0.461389',\n",
       " 'page_rank': 0.44517643489228376,\n",
       " 'country_code': 'GB',\n",
       " 'country_name': 'United Kingdom',\n",
       " 'continent_name': 'Europe',\n",
       " 'timezone': 'Europe/London',\n",
       " 'city_code_list': ['LON'],\n",
       " 'city_name_list': ['London'],\n",
       " 'location_type': ['A'],\n",
       " 'currency': 'GBP'}"
      ]
     },
     "execution_count": 62,
     "metadata": {},
     "output_type": "execute_result"
    }
   ],
   "source": [
    "geoDict.get('LHR') # nombre aeropuerto"
   ]
  },
  {
   "cell_type": "code",
   "execution_count": 63,
   "metadata": {},
   "outputs": [
    {
     "data": {
      "text/plain": [
       "dict"
      ]
     },
     "execution_count": 63,
     "metadata": {},
     "output_type": "execute_result"
    }
   ],
   "source": [
    "type(geoDict.get('LHR') )"
   ]
  },
  {
   "cell_type": "code",
   "execution_count": 64,
   "metadata": {},
   "outputs": [
    {
     "data": {
      "text/plain": [
       "'London Heathrow Airport'"
      ]
     },
     "execution_count": 64,
     "metadata": {},
     "output_type": "execute_result"
    }
   ],
   "source": [
    "geoDict.get('LHR')['name']"
   ]
  },
  {
   "cell_type": "code",
   "execution_count": 65,
   "metadata": {},
   "outputs": [
    {
     "data": {
      "text/html": [
       "<div>\n",
       "<style scoped>\n",
       "    .dataframe tbody tr th:only-of-type {\n",
       "        vertical-align: middle;\n",
       "    }\n",
       "\n",
       "    .dataframe tbody tr th {\n",
       "        vertical-align: top;\n",
       "    }\n",
       "\n",
       "    .dataframe thead th {\n",
       "        text-align: right;\n",
       "    }\n",
       "</style>\n",
       "<table border=\"1\" class=\"dataframe\">\n",
       "  <thead>\n",
       "    <tr style=\"text-align: right;\">\n",
       "      <th></th>\n",
       "      <th>arr_port</th>\n",
       "      <th>pax</th>\n",
       "    </tr>\n",
       "  </thead>\n",
       "  <tbody>\n",
       "    <tr>\n",
       "      <th>0</th>\n",
       "      <td>LHR</td>\n",
       "      <td>88809.0</td>\n",
       "    </tr>\n",
       "    <tr>\n",
       "      <th>1</th>\n",
       "      <td>MCO</td>\n",
       "      <td>70930.0</td>\n",
       "    </tr>\n",
       "    <tr>\n",
       "      <th>2</th>\n",
       "      <td>LAX</td>\n",
       "      <td>70530.0</td>\n",
       "    </tr>\n",
       "    <tr>\n",
       "      <th>3</th>\n",
       "      <td>LAS</td>\n",
       "      <td>69630.0</td>\n",
       "    </tr>\n",
       "    <tr>\n",
       "      <th>4</th>\n",
       "      <td>JFK</td>\n",
       "      <td>66270.0</td>\n",
       "    </tr>\n",
       "  </tbody>\n",
       "</table>\n",
       "</div>"
      ],
      "text/plain": [
       "   arr_port      pax\n",
       "0  LHR       88809.0\n",
       "1  MCO       70930.0\n",
       "2  LAX       70530.0\n",
       "3  LAS       69630.0\n",
       "4  JFK       66270.0"
      ]
     },
     "execution_count": 65,
     "metadata": {},
     "output_type": "execute_result"
    }
   ],
   "source": [
    "all_result.head()"
   ]
  },
  {
   "cell_type": "code",
   "execution_count": 66,
   "metadata": {},
   "outputs": [
    {
     "data": {
      "text/plain": [
       "'LHR     '"
      ]
     },
     "execution_count": 66,
     "metadata": {},
     "output_type": "execute_result"
    }
   ],
   "source": [
    "all_result['arr_port'][0]"
   ]
  },
  {
   "cell_type": "code",
   "execution_count": null,
   "metadata": {},
   "outputs": [],
   "source": [
    "- Esto hay que arreglarlo, columna con espacios"
   ]
  },
  {
   "cell_type": "code",
   "execution_count": 67,
   "metadata": {},
   "outputs": [
    {
     "data": {
      "text/plain": [
       "'LHR'"
      ]
     },
     "execution_count": 67,
     "metadata": {},
     "output_type": "execute_result"
    }
   ],
   "source": [
    "all_result['arr_port'][0].strip() #.strip quita los espacios en blanco a ambos lados"
   ]
  },
  {
   "cell_type": "markdown",
   "metadata": {},
   "source": [
    "- Si tenemos espacios en blanco en el medio, funciones split y join"
   ]
  },
  {
   "cell_type": "code",
   "execution_count": 68,
   "metadata": {},
   "outputs": [
    {
     "data": {
      "text/plain": [
       "['skdfsljf', 'd', 'h', 'dkfdkfjdfjdfk']"
      ]
     },
     "execution_count": 68,
     "metadata": {},
     "output_type": "execute_result"
    }
   ],
   "source": [
    "'skdfsljf d    h    dkfdkfjdfjdfk'.split()"
   ]
  },
  {
   "cell_type": "code",
   "execution_count": 69,
   "metadata": {},
   "outputs": [
    {
     "data": {
      "text/plain": [
       "'skdfsljf d h dkfdkfjdfjdfk'"
      ]
     },
     "execution_count": 69,
     "metadata": {},
     "output_type": "execute_result"
    }
   ],
   "source": [
    "' '.join('skdfsljf d    h    dkfdkfjdfjdfk'.split())"
   ]
  },
  {
   "cell_type": "code",
   "execution_count": 70,
   "metadata": {},
   "outputs": [],
   "source": [
    "all_result['arr_port'] =all_result['arr_port'].str.strip()"
   ]
  },
  {
   "cell_type": "code",
   "execution_count": 71,
   "metadata": {},
   "outputs": [
    {
     "ename": "KeyError",
     "evalue": "'Key not found: CPQ'",
     "output_type": "error",
     "traceback": [
      "\u001b[0;31m---------------------------------------------------------------------------\u001b[0m",
      "\u001b[0;31mKeyError\u001b[0m                                  Traceback (most recent call last)",
      "\u001b[0;32m~/anaconda3/lib/python3.7/site-packages/neobase/neobase.py\u001b[0m in \u001b[0;36mget\u001b[0;34m(self, key, field, default)\u001b[0m\n\u001b[1;32m    227\u001b[0m         \u001b[0;32mtry\u001b[0m\u001b[0;34m:\u001b[0m\u001b[0;34m\u001b[0m\u001b[0;34m\u001b[0m\u001b[0m\n\u001b[0;32m--> 228\u001b[0;31m             \u001b[0md\u001b[0m \u001b[0;34m=\u001b[0m \u001b[0mself\u001b[0m\u001b[0;34m.\u001b[0m\u001b[0m_data\u001b[0m\u001b[0;34m[\u001b[0m\u001b[0mkey\u001b[0m\u001b[0;34m]\u001b[0m\u001b[0;34m\u001b[0m\u001b[0;34m\u001b[0m\u001b[0m\n\u001b[0m\u001b[1;32m    229\u001b[0m         \u001b[0;32mexcept\u001b[0m \u001b[0mKeyError\u001b[0m\u001b[0;34m:\u001b[0m\u001b[0;34m\u001b[0m\u001b[0;34m\u001b[0m\u001b[0m\n",
      "\u001b[0;31mKeyError\u001b[0m: 'CPQ'",
      "\nDuring handling of the above exception, another exception occurred:\n",
      "\u001b[0;31mKeyError\u001b[0m                                  Traceback (most recent call last)",
      "\u001b[0;32m<ipython-input-71-bcc2106c2436>\u001b[0m in \u001b[0;36m<module>\u001b[0;34m\u001b[0m\n\u001b[0;32m----> 1\u001b[0;31m \u001b[0mall_result\u001b[0m\u001b[0;34m[\u001b[0m\u001b[0;34m'AirportName'\u001b[0m\u001b[0;34m]\u001b[0m \u001b[0;34m=\u001b[0m \u001b[0mall_result\u001b[0m\u001b[0;34m[\u001b[0m\u001b[0;34m'arr_port'\u001b[0m\u001b[0;34m]\u001b[0m\u001b[0;34m.\u001b[0m\u001b[0mmap\u001b[0m\u001b[0;34m(\u001b[0m\u001b[0;32mlambda\u001b[0m \u001b[0mx\u001b[0m\u001b[0;34m:\u001b[0m\u001b[0mgeoDict\u001b[0m\u001b[0;34m.\u001b[0m\u001b[0mget\u001b[0m\u001b[0;34m(\u001b[0m\u001b[0mx\u001b[0m\u001b[0;34m)\u001b[0m\u001b[0;34m[\u001b[0m\u001b[0;34m'name'\u001b[0m\u001b[0;34m]\u001b[0m\u001b[0;34m)\u001b[0m\u001b[0;34m\u001b[0m\u001b[0;34m\u001b[0m\u001b[0m\n\u001b[0m\u001b[1;32m      2\u001b[0m \u001b[0;31m# este error quiere decir que el eropuerto CPQ no esta en el otro sitio\u001b[0m\u001b[0;34m\u001b[0m\u001b[0;34m\u001b[0m\u001b[0;34m\u001b[0m\u001b[0m\n",
      "\u001b[0;32m~/anaconda3/lib/python3.7/site-packages/pandas/core/series.py\u001b[0m in \u001b[0;36mmap\u001b[0;34m(self, arg, na_action)\u001b[0m\n\u001b[1;32m   2996\u001b[0m         \"\"\"\n\u001b[1;32m   2997\u001b[0m         new_values = super(Series, self)._map_values(\n\u001b[0;32m-> 2998\u001b[0;31m             arg, na_action=na_action)\n\u001b[0m\u001b[1;32m   2999\u001b[0m         return self._constructor(new_values,\n\u001b[1;32m   3000\u001b[0m                                  index=self.index).__finalize__(self)\n",
      "\u001b[0;32m~/anaconda3/lib/python3.7/site-packages/pandas/core/base.py\u001b[0m in \u001b[0;36m_map_values\u001b[0;34m(self, mapper, na_action)\u001b[0m\n\u001b[1;32m   1002\u001b[0m \u001b[0;34m\u001b[0m\u001b[0m\n\u001b[1;32m   1003\u001b[0m         \u001b[0;31m# mapper is a function\u001b[0m\u001b[0;34m\u001b[0m\u001b[0;34m\u001b[0m\u001b[0;34m\u001b[0m\u001b[0m\n\u001b[0;32m-> 1004\u001b[0;31m         \u001b[0mnew_values\u001b[0m \u001b[0;34m=\u001b[0m \u001b[0mmap_f\u001b[0m\u001b[0;34m(\u001b[0m\u001b[0mvalues\u001b[0m\u001b[0;34m,\u001b[0m \u001b[0mmapper\u001b[0m\u001b[0;34m)\u001b[0m\u001b[0;34m\u001b[0m\u001b[0;34m\u001b[0m\u001b[0m\n\u001b[0m\u001b[1;32m   1005\u001b[0m \u001b[0;34m\u001b[0m\u001b[0m\n\u001b[1;32m   1006\u001b[0m         \u001b[0;32mreturn\u001b[0m \u001b[0mnew_values\u001b[0m\u001b[0;34m\u001b[0m\u001b[0;34m\u001b[0m\u001b[0m\n",
      "\u001b[0;32mpandas/_libs/src/inference.pyx\u001b[0m in \u001b[0;36mpandas._libs.lib.map_infer\u001b[0;34m()\u001b[0m\n",
      "\u001b[0;32m<ipython-input-71-bcc2106c2436>\u001b[0m in \u001b[0;36m<lambda>\u001b[0;34m(x)\u001b[0m\n\u001b[0;32m----> 1\u001b[0;31m \u001b[0mall_result\u001b[0m\u001b[0;34m[\u001b[0m\u001b[0;34m'AirportName'\u001b[0m\u001b[0;34m]\u001b[0m \u001b[0;34m=\u001b[0m \u001b[0mall_result\u001b[0m\u001b[0;34m[\u001b[0m\u001b[0;34m'arr_port'\u001b[0m\u001b[0;34m]\u001b[0m\u001b[0;34m.\u001b[0m\u001b[0mmap\u001b[0m\u001b[0;34m(\u001b[0m\u001b[0;32mlambda\u001b[0m \u001b[0mx\u001b[0m\u001b[0;34m:\u001b[0m\u001b[0mgeoDict\u001b[0m\u001b[0;34m.\u001b[0m\u001b[0mget\u001b[0m\u001b[0;34m(\u001b[0m\u001b[0mx\u001b[0m\u001b[0;34m)\u001b[0m\u001b[0;34m[\u001b[0m\u001b[0;34m'name'\u001b[0m\u001b[0;34m]\u001b[0m\u001b[0;34m)\u001b[0m\u001b[0;34m\u001b[0m\u001b[0;34m\u001b[0m\u001b[0m\n\u001b[0m\u001b[1;32m      2\u001b[0m \u001b[0;31m# este error quiere decir que el eropuerto CPQ no esta en el otro sitio\u001b[0m\u001b[0;34m\u001b[0m\u001b[0;34m\u001b[0m\u001b[0;34m\u001b[0m\u001b[0m\n",
      "\u001b[0;32m~/anaconda3/lib/python3.7/site-packages/neobase/neobase.py\u001b[0m in \u001b[0;36mget\u001b[0;34m(self, key, field, default)\u001b[0m\n\u001b[1;32m    230\u001b[0m             \u001b[0;31m# Unless default is set, we raise an Exception\u001b[0m\u001b[0;34m\u001b[0m\u001b[0;34m\u001b[0m\u001b[0;34m\u001b[0m\u001b[0m\n\u001b[1;32m    231\u001b[0m             \u001b[0;32mif\u001b[0m \u001b[0mdefault\u001b[0m \u001b[0;32mis\u001b[0m \u001b[0m_sentinel\u001b[0m\u001b[0;34m:\u001b[0m\u001b[0;34m\u001b[0m\u001b[0;34m\u001b[0m\u001b[0m\n\u001b[0;32m--> 232\u001b[0;31m                 \u001b[0;32mraise\u001b[0m \u001b[0mKeyError\u001b[0m\u001b[0;34m(\u001b[0m\u001b[0;34m\"Key not found: {0}\"\u001b[0m\u001b[0;34m.\u001b[0m\u001b[0mformat\u001b[0m\u001b[0;34m(\u001b[0m\u001b[0mkey\u001b[0m\u001b[0;34m)\u001b[0m\u001b[0;34m)\u001b[0m\u001b[0;34m\u001b[0m\u001b[0;34m\u001b[0m\u001b[0m\n\u001b[0m\u001b[1;32m    233\u001b[0m             \u001b[0;32mreturn\u001b[0m \u001b[0mdefault\u001b[0m\u001b[0;34m\u001b[0m\u001b[0;34m\u001b[0m\u001b[0m\n\u001b[1;32m    234\u001b[0m \u001b[0;34m\u001b[0m\u001b[0m\n",
      "\u001b[0;31mKeyError\u001b[0m: 'Key not found: CPQ'"
     ]
    }
   ],
   "source": [
    "all_result['AirportName'] = all_result['arr_port'].map(lambda x:geoDict.get(x)['name']) \n",
    "# este error quiere decir que el eropuerto CPQ no esta en el otro sitio"
   ]
  },
  {
   "cell_type": "code",
   "execution_count": 72,
   "metadata": {},
   "outputs": [
    {
     "data": {
      "text/html": [
       "<div>\n",
       "<style scoped>\n",
       "    .dataframe tbody tr th:only-of-type {\n",
       "        vertical-align: middle;\n",
       "    }\n",
       "\n",
       "    .dataframe tbody tr th {\n",
       "        vertical-align: top;\n",
       "    }\n",
       "\n",
       "    .dataframe thead th {\n",
       "        text-align: right;\n",
       "    }\n",
       "</style>\n",
       "<table border=\"1\" class=\"dataframe\">\n",
       "  <thead>\n",
       "    <tr style=\"text-align: right;\">\n",
       "      <th></th>\n",
       "      <th>arr_port</th>\n",
       "      <th>pax</th>\n",
       "    </tr>\n",
       "  </thead>\n",
       "  <tbody>\n",
       "    <tr>\n",
       "      <th>2257</th>\n",
       "      <td>CPQ</td>\n",
       "      <td>-20.0</td>\n",
       "    </tr>\n",
       "  </tbody>\n",
       "</table>\n",
       "</div>"
      ],
      "text/plain": [
       "     arr_port   pax\n",
       "2257      CPQ -20.0"
      ]
     },
     "execution_count": 72,
     "metadata": {},
     "output_type": "execute_result"
    }
   ],
   "source": [
    "all_result[all_result['arr_port']=='CPQ'] # da error porque CPQ no tiene name, comprobar!!!!!!"
   ]
  },
  {
   "cell_type": "code",
   "execution_count": 73,
   "metadata": {},
   "outputs": [],
   "source": [
    "all_result = all_result[all_result['arr_port']!='CPQ']"
   ]
  },
  {
   "cell_type": "markdown",
   "metadata": {},
   "source": [
    "-Ahora sí aplicamos el mismo codigo"
   ]
  },
  {
   "cell_type": "code",
   "execution_count": 74,
   "metadata": {},
   "outputs": [],
   "source": [
    "all_result['AirportName'] = all_result['arr_port'].map(lambda x:geoDict.get(x)['name']) \n"
   ]
  },
  {
   "cell_type": "code",
   "execution_count": 75,
   "metadata": {},
   "outputs": [
    {
     "data": {
      "text/html": [
       "<div>\n",
       "<style scoped>\n",
       "    .dataframe tbody tr th:only-of-type {\n",
       "        vertical-align: middle;\n",
       "    }\n",
       "\n",
       "    .dataframe tbody tr th {\n",
       "        vertical-align: top;\n",
       "    }\n",
       "\n",
       "    .dataframe thead th {\n",
       "        text-align: right;\n",
       "    }\n",
       "</style>\n",
       "<table border=\"1\" class=\"dataframe\">\n",
       "  <thead>\n",
       "    <tr style=\"text-align: right;\">\n",
       "      <th></th>\n",
       "      <th>arr_port</th>\n",
       "      <th>pax</th>\n",
       "      <th>AirportName</th>\n",
       "    </tr>\n",
       "  </thead>\n",
       "  <tbody>\n",
       "    <tr>\n",
       "      <th>0</th>\n",
       "      <td>LHR</td>\n",
       "      <td>88809.0</td>\n",
       "      <td>London Heathrow Airport</td>\n",
       "    </tr>\n",
       "    <tr>\n",
       "      <th>1</th>\n",
       "      <td>MCO</td>\n",
       "      <td>70930.0</td>\n",
       "      <td>Orlando International Airport</td>\n",
       "    </tr>\n",
       "    <tr>\n",
       "      <th>2</th>\n",
       "      <td>LAX</td>\n",
       "      <td>70530.0</td>\n",
       "      <td>Los Angeles International Airport</td>\n",
       "    </tr>\n",
       "    <tr>\n",
       "      <th>3</th>\n",
       "      <td>LAS</td>\n",
       "      <td>69630.0</td>\n",
       "      <td>McCarran International Airport</td>\n",
       "    </tr>\n",
       "    <tr>\n",
       "      <th>4</th>\n",
       "      <td>JFK</td>\n",
       "      <td>66270.0</td>\n",
       "      <td>John F. Kennedy International Airport</td>\n",
       "    </tr>\n",
       "  </tbody>\n",
       "</table>\n",
       "</div>"
      ],
      "text/plain": [
       "  arr_port      pax                            AirportName\n",
       "0      LHR  88809.0                London Heathrow Airport\n",
       "1      MCO  70930.0          Orlando International Airport\n",
       "2      LAX  70530.0      Los Angeles International Airport\n",
       "3      LAS  69630.0         McCarran International Airport\n",
       "4      JFK  66270.0  John F. Kennedy International Airport"
      ]
     },
     "execution_count": 75,
     "metadata": {},
     "output_type": "execute_result"
    }
   ],
   "source": [
    "all_result.head()"
   ]
  },
  {
   "cell_type": "code",
   "execution_count": 76,
   "metadata": {},
   "outputs": [
    {
     "data": {
      "text/plain": [
       "(2273, 3)"
      ]
     },
     "execution_count": 76,
     "metadata": {},
     "output_type": "execute_result"
    }
   ],
   "source": [
    "all_result.shape"
   ]
  },
  {
   "cell_type": "code",
   "execution_count": 77,
   "metadata": {},
   "outputs": [],
   "source": [
    "all_result.to_csv('top_airports.csv', sep='^',index=False)"
   ]
  },
  {
   "cell_type": "code",
   "execution_count": null,
   "metadata": {},
   "outputs": [],
   "source": [
    "! head -2 top_airports.csv"
   ]
  },
  {
   "cell_type": "markdown",
   "metadata": {},
   "source": [
    "### - Ejercicio 5: Write a Web Service: Wrap the output of the second exercise in a web service that returns the data in JSON format (instead of printing to the standard output). The web service should accept a parameter n>0. For the top 10 airports, n is 10. For the X top airports, n is X "
   ]
  },
  {
   "cell_type": "code",
   "execution_count": null,
   "metadata": {},
   "outputs": [],
   "source": [
    "#el webservice es un api, lo que esta trabajando en la shell cuando abrimos notebook es un WS, el local host de arriba"
   ]
  },
  {
   "cell_type": "code",
   "execution_count": 79,
   "metadata": {},
   "outputs": [],
   "source": [
    "from flask import Flask"
   ]
  },
  {
   "cell_type": "code",
   "execution_count": 80,
   "metadata": {},
   "outputs": [],
   "source": [
    "app =Flask('My first web service')\n",
    "@app.route('/hello', methods=['GET'])\n",
    "#GET The browser tells the server to just get the infomation stored\n",
    "def get_hello():\n",
    "             return 'Hello DS from the service!'\n"
   ]
  },
  {
   "cell_type": "code",
   "execution_count": null,
   "metadata": {},
   "outputs": [
    {
     "name": "stdout",
     "output_type": "stream",
     "text": [
      " * Serving Flask app \"My first web service\" (lazy loading)\n",
      " * Environment: production\n",
      "   WARNING: Do not use the development server in a production environment.\n",
      "   Use a production WSGI server instead.\n",
      " * Debug mode: off\n"
     ]
    },
    {
     "name": "stderr",
     "output_type": "stream",
     "text": [
      " * Running on http://127.0.0.1:5000/ (Press CTRL+C to quit)\n",
      "127.0.0.1 - - [03/Feb/2020 19:50:19] \"GET /hello HTTP/1.1\" 200 -\n",
      "127.0.0.1 - - [03/Feb/2020 19:51:28] \"GET /ret_number/10 HTTP/1.1\" 404 -\n"
     ]
    }
   ],
   "source": [
    "app.run()\n",
    "#running os http://127.0.0.1:5000/"
   ]
  },
  {
   "cell_type": "code",
   "execution_count": null,
   "metadata": {},
   "outputs": [],
   "source": [
    "app =Flask('My first web service')\n",
    "@app.route('/hello', methods=['GET'])\n",
    "#GET The browser tells the server to just get the infomation stored\n",
    "def get_hello():\n",
    "             return 'Hello DS from the service!'\n",
    "@app.route('/ret_number/<int:n>',methods=['GET'])\n",
    "def get_number(n):\n",
    "    return 'i got %d'%n"
   ]
  },
  {
   "cell_type": "code",
   "execution_count": null,
   "metadata": {},
   "outputs": [],
   "source": [
    "app.run()"
   ]
  },
  {
   "cell_type": "code",
   "execution_count": null,
   "metadata": {},
   "outputs": [],
   "source": [
    "# el Viernes vamos a aplicar esto al archivo del top ten , intentar"
   ]
  },
  {
   "cell_type": "code",
   "execution_count": null,
   "metadata": {},
   "outputs": [],
   "source": []
  },
  {
   "cell_type": "code",
   "execution_count": null,
   "metadata": {},
   "outputs": [],
   "source": []
  },
  {
   "cell_type": "code",
   "execution_count": null,
   "metadata": {},
   "outputs": [],
   "source": []
  },
  {
   "cell_type": "code",
   "execution_count": null,
   "metadata": {},
   "outputs": [],
   "source": []
  },
  {
   "cell_type": "code",
   "execution_count": null,
   "metadata": {},
   "outputs": [],
   "source": []
  },
  {
   "cell_type": "code",
   "execution_count": null,
   "metadata": {},
   "outputs": [],
   "source": []
  },
  {
   "cell_type": "code",
   "execution_count": null,
   "metadata": {},
   "outputs": [],
   "source": []
  },
  {
   "cell_type": "code",
   "execution_count": null,
   "metadata": {},
   "outputs": [],
   "source": []
  },
  {
   "cell_type": "code",
   "execution_count": null,
   "metadata": {},
   "outputs": [],
   "source": []
  },
  {
   "cell_type": "code",
   "execution_count": null,
   "metadata": {},
   "outputs": [],
   "source": []
  },
  {
   "cell_type": "code",
   "execution_count": null,
   "metadata": {},
   "outputs": [],
   "source": []
  },
  {
   "cell_type": "code",
   "execution_count": null,
   "metadata": {},
   "outputs": [],
   "source": []
  },
  {
   "cell_type": "code",
   "execution_count": null,
   "metadata": {},
   "outputs": [],
   "source": []
  }
 ],
 "metadata": {
  "kernelspec": {
   "display_name": "Python 3",
   "language": "python",
   "name": "python3"
  },
  "language_info": {
   "codemirror_mode": {
    "name": "ipython",
    "version": 3
   },
   "file_extension": ".py",
   "mimetype": "text/x-python",
   "name": "python",
   "nbconvert_exporter": "python",
   "pygments_lexer": "ipython3",
   "version": "3.7.5"
  }
 },
 "nbformat": 4,
 "nbformat_minor": 2
}
