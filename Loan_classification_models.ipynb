{
 "cells": [
  {
   "cell_type": "markdown",
   "metadata": {},
   "source": [
    "# PRACTICA MODELOS DE CLASIFICACIÓN"
   ]
  },
  {
   "cell_type": "markdown",
   "metadata": {},
   "source": [
    "### Dataset de préstamos pasados, que incluye 346 clientes cuyo préstamo fue atendido o impagado"
   ]
  },
  {
   "cell_type": "code",
   "execution_count": 1,
   "metadata": {},
   "outputs": [],
   "source": [
    "import pandas as pd\n",
    "import matplotlib.pyplot as plt\n",
    "import seaborn as sns"
   ]
  },
  {
   "cell_type": "code",
   "execution_count": 2,
   "metadata": {},
   "outputs": [
    {
     "name": "stdout",
     "output_type": "stream",
     "text": [
      "(346, 10)\n"
     ]
    },
    {
     "data": {
      "text/html": [
       "<div>\n",
       "<style scoped>\n",
       "    .dataframe tbody tr th:only-of-type {\n",
       "        vertical-align: middle;\n",
       "    }\n",
       "\n",
       "    .dataframe tbody tr th {\n",
       "        vertical-align: top;\n",
       "    }\n",
       "\n",
       "    .dataframe thead th {\n",
       "        text-align: right;\n",
       "    }\n",
       "</style>\n",
       "<table border=\"1\" class=\"dataframe\">\n",
       "  <thead>\n",
       "    <tr style=\"text-align: right;\">\n",
       "      <th></th>\n",
       "      <th>Unnamed: 0</th>\n",
       "      <th>Unnamed: 0.1</th>\n",
       "      <th>loan_status</th>\n",
       "      <th>Principal</th>\n",
       "      <th>terms</th>\n",
       "      <th>effective_date</th>\n",
       "      <th>due_date</th>\n",
       "      <th>age</th>\n",
       "      <th>education</th>\n",
       "      <th>Gender</th>\n",
       "    </tr>\n",
       "  </thead>\n",
       "  <tbody>\n",
       "    <tr>\n",
       "      <th>0</th>\n",
       "      <td>0</td>\n",
       "      <td>0</td>\n",
       "      <td>PAIDOFF</td>\n",
       "      <td>1000</td>\n",
       "      <td>30</td>\n",
       "      <td>2016-09-08</td>\n",
       "      <td>2016-10-07</td>\n",
       "      <td>45</td>\n",
       "      <td>High School or Below</td>\n",
       "      <td>male</td>\n",
       "    </tr>\n",
       "    <tr>\n",
       "      <th>1</th>\n",
       "      <td>2</td>\n",
       "      <td>2</td>\n",
       "      <td>PAIDOFF</td>\n",
       "      <td>1000</td>\n",
       "      <td>30</td>\n",
       "      <td>2016-09-08</td>\n",
       "      <td>2016-10-07</td>\n",
       "      <td>33</td>\n",
       "      <td>Bechalor</td>\n",
       "      <td>female</td>\n",
       "    </tr>\n",
       "    <tr>\n",
       "      <th>2</th>\n",
       "      <td>3</td>\n",
       "      <td>3</td>\n",
       "      <td>PAIDOFF</td>\n",
       "      <td>1000</td>\n",
       "      <td>15</td>\n",
       "      <td>2016-09-08</td>\n",
       "      <td>2016-09-22</td>\n",
       "      <td>27</td>\n",
       "      <td>college</td>\n",
       "      <td>male</td>\n",
       "    </tr>\n",
       "    <tr>\n",
       "      <th>3</th>\n",
       "      <td>4</td>\n",
       "      <td>4</td>\n",
       "      <td>PAIDOFF</td>\n",
       "      <td>1000</td>\n",
       "      <td>30</td>\n",
       "      <td>2016-09-09</td>\n",
       "      <td>2016-10-08</td>\n",
       "      <td>28</td>\n",
       "      <td>college</td>\n",
       "      <td>female</td>\n",
       "    </tr>\n",
       "    <tr>\n",
       "      <th>4</th>\n",
       "      <td>6</td>\n",
       "      <td>6</td>\n",
       "      <td>PAIDOFF</td>\n",
       "      <td>1000</td>\n",
       "      <td>30</td>\n",
       "      <td>2016-09-09</td>\n",
       "      <td>2016-10-08</td>\n",
       "      <td>29</td>\n",
       "      <td>college</td>\n",
       "      <td>male</td>\n",
       "    </tr>\n",
       "  </tbody>\n",
       "</table>\n",
       "</div>"
      ],
      "text/plain": [
       "   Unnamed: 0  Unnamed: 0.1 loan_status  Principal  terms effective_date  \\\n",
       "0           0             0     PAIDOFF       1000     30     2016-09-08   \n",
       "1           2             2     PAIDOFF       1000     30     2016-09-08   \n",
       "2           3             3     PAIDOFF       1000     15     2016-09-08   \n",
       "3           4             4     PAIDOFF       1000     30     2016-09-09   \n",
       "4           6             6     PAIDOFF       1000     30     2016-09-09   \n",
       "\n",
       "    due_date  age             education  Gender  \n",
       "0 2016-10-07   45  High School or Below    male  \n",
       "1 2016-10-07   33              Bechalor  female  \n",
       "2 2016-09-22   27               college    male  \n",
       "3 2016-10-08   28               college  female  \n",
       "4 2016-10-08   29               college    male  "
      ]
     },
     "execution_count": 2,
     "metadata": {},
     "output_type": "execute_result"
    }
   ],
   "source": [
    "data=pd.read_csv('M101traindata.csv',parse_dates=['effective_date','due_date'])\n",
    "print(data.shape)\n",
    "data.head()"
   ]
  },
  {
   "cell_type": "code",
   "execution_count": 3,
   "metadata": {},
   "outputs": [
    {
     "name": "stdout",
     "output_type": "stream",
     "text": [
      "<class 'pandas.core.frame.DataFrame'>\n",
      "RangeIndex: 346 entries, 0 to 345\n",
      "Data columns (total 10 columns):\n",
      " #   Column          Non-Null Count  Dtype         \n",
      "---  ------          --------------  -----         \n",
      " 0   Unnamed: 0      346 non-null    int64         \n",
      " 1   Unnamed: 0.1    346 non-null    int64         \n",
      " 2   loan_status     346 non-null    object        \n",
      " 3   Principal       346 non-null    int64         \n",
      " 4   terms           346 non-null    int64         \n",
      " 5   effective_date  346 non-null    datetime64[ns]\n",
      " 6   due_date        346 non-null    datetime64[ns]\n",
      " 7   age             346 non-null    int64         \n",
      " 8   education       346 non-null    object        \n",
      " 9   Gender          346 non-null    object        \n",
      "dtypes: datetime64[ns](2), int64(5), object(3)\n",
      "memory usage: 27.2+ KB\n"
     ]
    }
   ],
   "source": [
    "data.info()"
   ]
  },
  {
   "cell_type": "code",
   "execution_count": 4,
   "metadata": {},
   "outputs": [
    {
     "data": {
      "text/html": [
       "<div>\n",
       "<style scoped>\n",
       "    .dataframe tbody tr th:only-of-type {\n",
       "        vertical-align: middle;\n",
       "    }\n",
       "\n",
       "    .dataframe tbody tr th {\n",
       "        vertical-align: top;\n",
       "    }\n",
       "\n",
       "    .dataframe thead th {\n",
       "        text-align: right;\n",
       "    }\n",
       "</style>\n",
       "<table border=\"1\" class=\"dataframe\">\n",
       "  <thead>\n",
       "    <tr style=\"text-align: right;\">\n",
       "      <th></th>\n",
       "      <th>Unnamed: 0</th>\n",
       "      <th>Unnamed: 0.1</th>\n",
       "      <th>Principal</th>\n",
       "      <th>terms</th>\n",
       "      <th>age</th>\n",
       "    </tr>\n",
       "  </thead>\n",
       "  <tbody>\n",
       "    <tr>\n",
       "      <th>count</th>\n",
       "      <td>346.000000</td>\n",
       "      <td>346.000000</td>\n",
       "      <td>346.000000</td>\n",
       "      <td>346.000000</td>\n",
       "      <td>346.000000</td>\n",
       "    </tr>\n",
       "    <tr>\n",
       "      <th>mean</th>\n",
       "      <td>202.167630</td>\n",
       "      <td>202.167630</td>\n",
       "      <td>943.641618</td>\n",
       "      <td>22.653179</td>\n",
       "      <td>30.939306</td>\n",
       "    </tr>\n",
       "    <tr>\n",
       "      <th>std</th>\n",
       "      <td>115.459715</td>\n",
       "      <td>115.459715</td>\n",
       "      <td>109.425530</td>\n",
       "      <td>7.991006</td>\n",
       "      <td>6.039418</td>\n",
       "    </tr>\n",
       "    <tr>\n",
       "      <th>min</th>\n",
       "      <td>0.000000</td>\n",
       "      <td>0.000000</td>\n",
       "      <td>300.000000</td>\n",
       "      <td>7.000000</td>\n",
       "      <td>18.000000</td>\n",
       "    </tr>\n",
       "    <tr>\n",
       "      <th>25%</th>\n",
       "      <td>107.250000</td>\n",
       "      <td>107.250000</td>\n",
       "      <td>900.000000</td>\n",
       "      <td>15.000000</td>\n",
       "      <td>27.000000</td>\n",
       "    </tr>\n",
       "    <tr>\n",
       "      <th>50%</th>\n",
       "      <td>204.500000</td>\n",
       "      <td>204.500000</td>\n",
       "      <td>1000.000000</td>\n",
       "      <td>30.000000</td>\n",
       "      <td>30.000000</td>\n",
       "    </tr>\n",
       "    <tr>\n",
       "      <th>75%</th>\n",
       "      <td>298.750000</td>\n",
       "      <td>298.750000</td>\n",
       "      <td>1000.000000</td>\n",
       "      <td>30.000000</td>\n",
       "      <td>35.000000</td>\n",
       "    </tr>\n",
       "    <tr>\n",
       "      <th>max</th>\n",
       "      <td>399.000000</td>\n",
       "      <td>399.000000</td>\n",
       "      <td>1000.000000</td>\n",
       "      <td>30.000000</td>\n",
       "      <td>51.000000</td>\n",
       "    </tr>\n",
       "  </tbody>\n",
       "</table>\n",
       "</div>"
      ],
      "text/plain": [
       "       Unnamed: 0  Unnamed: 0.1    Principal       terms         age\n",
       "count  346.000000    346.000000   346.000000  346.000000  346.000000\n",
       "mean   202.167630    202.167630   943.641618   22.653179   30.939306\n",
       "std    115.459715    115.459715   109.425530    7.991006    6.039418\n",
       "min      0.000000      0.000000   300.000000    7.000000   18.000000\n",
       "25%    107.250000    107.250000   900.000000   15.000000   27.000000\n",
       "50%    204.500000    204.500000  1000.000000   30.000000   30.000000\n",
       "75%    298.750000    298.750000  1000.000000   30.000000   35.000000\n",
       "max    399.000000    399.000000  1000.000000   30.000000   51.000000"
      ]
     },
     "execution_count": 4,
     "metadata": {},
     "output_type": "execute_result"
    }
   ],
   "source": [
    "data.describe()"
   ]
  },
  {
   "cell_type": "code",
   "execution_count": 5,
   "metadata": {},
   "outputs": [
    {
     "data": {
      "text/plain": [
       "PAIDOFF       260\n",
       "COLLECTION     86\n",
       "Name: loan_status, dtype: int64"
      ]
     },
     "execution_count": 5,
     "metadata": {},
     "output_type": "execute_result"
    }
   ],
   "source": [
    "data.loan_status.value_counts()"
   ]
  },
  {
   "cell_type": "markdown",
   "metadata": {},
   "source": [
    "- Vemos que hay un desequlibrio en las clases del target, siendo Collection la clase minoritaria al representar 1/3 del target. Trataremos este tema más abajo"
   ]
  },
  {
   "cell_type": "markdown",
   "metadata": {},
   "source": [
    "- Repartición por Sexo y principal"
   ]
  },
  {
   "cell_type": "code",
   "execution_count": 7,
   "metadata": {},
   "outputs": [
    {
     "data": {
      "image/png": "[encoded data removed]",
      "text/plain": [
       "<Figure size 432x216 with 2 Axes>"
      ]
     },
     "metadata": {
      "needs_background": "light"
     },
     "output_type": "display_data"
    }
   ],
   "source": [
    "import numpy as np\n",
    "bins = np.linspace(data.Principal.min(), data.Principal.max(), 10)\n",
    "g = sns.FacetGrid(data, col=\"Gender\", hue=\"loan_status\", col_wrap=2)\n",
    "g.map(plt.hist, 'Principal',bins=bins)\n",
    "\n",
    "g.axes[-1].legend()\n",
    "plt.show()"
   ]
  },
  {
   "cell_type": "markdown",
   "metadata": {},
   "source": [
    "- Repartición por sexo y por edad"
   ]
  },
  {
   "cell_type": "code",
   "execution_count": 8,
   "metadata": {},
   "outputs": [
    {
     "data": {
      "image/png": "[encoded data removed]",
      "text/plain": [
       "<Figure size 432x216 with 2 Axes>"
      ]
     },
     "metadata": {
      "needs_background": "light"
     },
     "output_type": "display_data"
    }
   ],
   "source": [
    "bins = np.linspace(data.age.min(), data.age.max(), 10)\n",
    "g = sns.FacetGrid(data, col=\"Gender\", hue=\"loan_status\", col_wrap=2)\n",
    "g.map(plt.hist, 'age',bins=bins,ec='k')\n",
    "\n",
    "g.axes[-1].legend()\n",
    "plt.show()"
   ]
  },
  {
   "cell_type": "markdown",
   "metadata": {},
   "source": [
    "- Repartición por sexo y por día de la semana"
   ]
  },
  {
   "cell_type": "code",
   "execution_count": 9,
   "metadata": {},
   "outputs": [],
   "source": [
    "data['dayofwekk']=data.effective_date.dt.dayofweek\n"
   ]
  },
  {
   "cell_type": "code",
   "execution_count": 10,
   "metadata": {},
   "outputs": [
    {
     "data": {
      "image/png": "[encoded data removed]",
      "text/plain": [
       "<Figure size 432x216 with 2 Axes>"
      ]
     },
     "metadata": {
      "needs_background": "light"
     },
     "output_type": "display_data"
    }
   ],
   "source": [
    "bins = np.linspace(data.dayofwekk.min(), data.dayofwekk.max(), 10)\n",
    "g = sns.FacetGrid(data, col=\"Gender\", hue=\"loan_status\", col_wrap=2)\n",
    "g.map(plt.hist, 'dayofwekk',bins=bins,ec='k')\n",
    "\n",
    "g.axes[-1].legend()\n",
    "plt.show()"
   ]
  },
  {
   "cell_type": "markdown",
   "metadata": {},
   "source": [
    "- Vemos que cuando el préstamo es concedido en fin de semana es donde se concentran los préstamos impagados, vamos a crear una columna que refleje esto"
   ]
  },
  {
   "cell_type": "code",
   "execution_count": 11,
   "metadata": {},
   "outputs": [
    {
     "data": {
      "text/html": [
       "<div>\n",
       "<style scoped>\n",
       "    .dataframe tbody tr th:only-of-type {\n",
       "        vertical-align: middle;\n",
       "    }\n",
       "\n",
       "    .dataframe tbody tr th {\n",
       "        vertical-align: top;\n",
       "    }\n",
       "\n",
       "    .dataframe thead th {\n",
       "        text-align: right;\n",
       "    }\n",
       "</style>\n",
       "<table border=\"1\" class=\"dataframe\">\n",
       "  <thead>\n",
       "    <tr style=\"text-align: right;\">\n",
       "      <th>loan_status</th>\n",
       "      <th>COLLECTION</th>\n",
       "      <th>PAIDOFF</th>\n",
       "    </tr>\n",
       "    <tr>\n",
       "      <th>dayofwekk</th>\n",
       "      <th></th>\n",
       "      <th></th>\n",
       "    </tr>\n",
       "  </thead>\n",
       "  <tbody>\n",
       "    <tr>\n",
       "      <th>0</th>\n",
       "      <td>3</td>\n",
       "      <td>84</td>\n",
       "    </tr>\n",
       "    <tr>\n",
       "      <th>1</th>\n",
       "      <td>0</td>\n",
       "      <td>20</td>\n",
       "    </tr>\n",
       "    <tr>\n",
       "      <th>2</th>\n",
       "      <td>0</td>\n",
       "      <td>31</td>\n",
       "    </tr>\n",
       "    <tr>\n",
       "      <th>3</th>\n",
       "      <td>0</td>\n",
       "      <td>3</td>\n",
       "    </tr>\n",
       "    <tr>\n",
       "      <th>4</th>\n",
       "      <td>4</td>\n",
       "      <td>4</td>\n",
       "    </tr>\n",
       "    <tr>\n",
       "      <th>5</th>\n",
       "      <td>14</td>\n",
       "      <td>17</td>\n",
       "    </tr>\n",
       "    <tr>\n",
       "      <th>6</th>\n",
       "      <td>65</td>\n",
       "      <td>101</td>\n",
       "    </tr>\n",
       "  </tbody>\n",
       "</table>\n",
       "</div>"
      ],
      "text/plain": [
       "loan_status  COLLECTION  PAIDOFF\n",
       "dayofwekk                       \n",
       "0                     3       84\n",
       "1                     0       20\n",
       "2                     0       31\n",
       "3                     0        3\n",
       "4                     4        4\n",
       "5                    14       17\n",
       "6                    65      101"
      ]
     },
     "execution_count": 11,
     "metadata": {},
     "output_type": "execute_result"
    }
   ],
   "source": [
    "pd.crosstab(data.dayofwekk,data.loan_status)"
   ]
  },
  {
   "cell_type": "code",
   "execution_count": 12,
   "metadata": {},
   "outputs": [
    {
     "data": {
      "text/html": [
       "<div>\n",
       "<style scoped>\n",
       "    .dataframe tbody tr th:only-of-type {\n",
       "        vertical-align: middle;\n",
       "    }\n",
       "\n",
       "    .dataframe tbody tr th {\n",
       "        vertical-align: top;\n",
       "    }\n",
       "\n",
       "    .dataframe thead th {\n",
       "        text-align: right;\n",
       "    }\n",
       "</style>\n",
       "<table border=\"1\" class=\"dataframe\">\n",
       "  <thead>\n",
       "    <tr style=\"text-align: right;\">\n",
       "      <th></th>\n",
       "      <th>Unnamed: 0</th>\n",
       "      <th>Unnamed: 0.1</th>\n",
       "      <th>loan_status</th>\n",
       "      <th>Principal</th>\n",
       "      <th>terms</th>\n",
       "      <th>effective_date</th>\n",
       "      <th>due_date</th>\n",
       "      <th>age</th>\n",
       "      <th>education</th>\n",
       "      <th>Gender</th>\n",
       "      <th>dayofwekk</th>\n",
       "    </tr>\n",
       "  </thead>\n",
       "  <tbody>\n",
       "    <tr>\n",
       "      <th>0</th>\n",
       "      <td>0</td>\n",
       "      <td>0</td>\n",
       "      <td>PAIDOFF</td>\n",
       "      <td>1000</td>\n",
       "      <td>30</td>\n",
       "      <td>2016-09-08</td>\n",
       "      <td>2016-10-07</td>\n",
       "      <td>45</td>\n",
       "      <td>High School or Below</td>\n",
       "      <td>male</td>\n",
       "      <td>3</td>\n",
       "    </tr>\n",
       "  </tbody>\n",
       "</table>\n",
       "</div>"
      ],
      "text/plain": [
       "   Unnamed: 0  Unnamed: 0.1 loan_status  Principal  terms effective_date  \\\n",
       "0           0             0     PAIDOFF       1000     30     2016-09-08   \n",
       "\n",
       "    due_date  age             education Gender  dayofwekk  \n",
       "0 2016-10-07   45  High School or Below   male          3  "
      ]
     },
     "execution_count": 12,
     "metadata": {},
     "output_type": "execute_result"
    }
   ],
   "source": [
    "data.head(1)"
   ]
  },
  {
   "cell_type": "code",
   "execution_count": 13,
   "metadata": {},
   "outputs": [
    {
     "data": {
      "text/html": [
       "<div>\n",
       "<style scoped>\n",
       "    .dataframe tbody tr th:only-of-type {\n",
       "        vertical-align: middle;\n",
       "    }\n",
       "\n",
       "    .dataframe tbody tr th {\n",
       "        vertical-align: top;\n",
       "    }\n",
       "\n",
       "    .dataframe thead th {\n",
       "        text-align: right;\n",
       "    }\n",
       "</style>\n",
       "<table border=\"1\" class=\"dataframe\">\n",
       "  <thead>\n",
       "    <tr style=\"text-align: right;\">\n",
       "      <th></th>\n",
       "      <th>Unnamed: 0</th>\n",
       "      <th>Unnamed: 0.1</th>\n",
       "      <th>loan_status</th>\n",
       "      <th>Principal</th>\n",
       "      <th>terms</th>\n",
       "      <th>effective_date</th>\n",
       "      <th>due_date</th>\n",
       "      <th>age</th>\n",
       "      <th>education</th>\n",
       "      <th>Gender</th>\n",
       "      <th>dayofwekk</th>\n",
       "      <th>weekend</th>\n",
       "    </tr>\n",
       "  </thead>\n",
       "  <tbody>\n",
       "    <tr>\n",
       "      <th>0</th>\n",
       "      <td>0</td>\n",
       "      <td>0</td>\n",
       "      <td>PAIDOFF</td>\n",
       "      <td>1000</td>\n",
       "      <td>30</td>\n",
       "      <td>2016-09-08</td>\n",
       "      <td>2016-10-07</td>\n",
       "      <td>45</td>\n",
       "      <td>High School or Below</td>\n",
       "      <td>male</td>\n",
       "      <td>3</td>\n",
       "      <td>0</td>\n",
       "    </tr>\n",
       "  </tbody>\n",
       "</table>\n",
       "</div>"
      ],
      "text/plain": [
       "   Unnamed: 0  Unnamed: 0.1 loan_status  Principal  terms effective_date  \\\n",
       "0           0             0     PAIDOFF       1000     30     2016-09-08   \n",
       "\n",
       "    due_date  age             education Gender  dayofwekk  weekend  \n",
       "0 2016-10-07   45  High School or Below   male          3        0  "
      ]
     },
     "execution_count": 13,
     "metadata": {},
     "output_type": "execute_result"
    }
   ],
   "source": [
    "data['weekend']=data.dayofwekk.apply(lambda x: 1 if (x>3) else 0)\n",
    "data.head(1)"
   ]
  },
  {
   "cell_type": "code",
   "execution_count": 14,
   "metadata": {},
   "outputs": [
    {
     "data": {
      "text/html": [
       "<div>\n",
       "<style scoped>\n",
       "    .dataframe tbody tr th:only-of-type {\n",
       "        vertical-align: middle;\n",
       "    }\n",
       "\n",
       "    .dataframe tbody tr th {\n",
       "        vertical-align: top;\n",
       "    }\n",
       "\n",
       "    .dataframe thead th {\n",
       "        text-align: right;\n",
       "    }\n",
       "</style>\n",
       "<table border=\"1\" class=\"dataframe\">\n",
       "  <thead>\n",
       "    <tr style=\"text-align: right;\">\n",
       "      <th>loan_status</th>\n",
       "      <th>COLLECTION</th>\n",
       "      <th>PAIDOFF</th>\n",
       "    </tr>\n",
       "    <tr>\n",
       "      <th>Gender</th>\n",
       "      <th></th>\n",
       "      <th></th>\n",
       "    </tr>\n",
       "  </thead>\n",
       "  <tbody>\n",
       "    <tr>\n",
       "      <th>female</th>\n",
       "      <td>7</td>\n",
       "      <td>45</td>\n",
       "    </tr>\n",
       "    <tr>\n",
       "      <th>male</th>\n",
       "      <td>79</td>\n",
       "      <td>215</td>\n",
       "    </tr>\n",
       "  </tbody>\n",
       "</table>\n",
       "</div>"
      ],
      "text/plain": [
       "loan_status  COLLECTION  PAIDOFF\n",
       "Gender                          \n",
       "female                7       45\n",
       "male                 79      215"
      ]
     },
     "execution_count": 14,
     "metadata": {},
     "output_type": "execute_result"
    }
   ],
   "source": [
    "pd.crosstab(data.Gender,data.loan_status)"
   ]
  },
  {
   "cell_type": "markdown",
   "metadata": {},
   "source": [
    "La mayor parte de impagos son de hombres"
   ]
  },
  {
   "cell_type": "markdown",
   "metadata": {},
   "source": [
    "- Vemos los porcentajes"
   ]
  },
  {
   "cell_type": "code",
   "execution_count": 15,
   "metadata": {},
   "outputs": [
    {
     "data": {
      "text/plain": [
       "Gender  loan_status\n",
       "female  PAIDOFF        0.865385\n",
       "        COLLECTION     0.134615\n",
       "male    PAIDOFF        0.731293\n",
       "        COLLECTION     0.268707\n",
       "Name: loan_status, dtype: float64"
      ]
     },
     "execution_count": 15,
     "metadata": {},
     "output_type": "execute_result"
    }
   ],
   "source": [
    "data.groupby(['Gender'])['loan_status'].value_counts(normalize=True)"
   ]
  },
  {
   "cell_type": "markdown",
   "metadata": {},
   "source": [
    "### Tratamiento de variables X no númericas"
   ]
  },
  {
   "cell_type": "markdown",
   "metadata": {},
   "source": [
    "- Reemplazamos male and female por 0 y 1"
   ]
  },
  {
   "cell_type": "code",
   "execution_count": 16,
   "metadata": {},
   "outputs": [],
   "source": [
    "data['Gender'].replace(['male','female'],[0,1],inplace=True)"
   ]
  },
  {
   "cell_type": "code",
   "execution_count": 17,
   "metadata": {},
   "outputs": [
    {
     "data": {
      "text/html": [
       "<div>\n",
       "<style scoped>\n",
       "    .dataframe tbody tr th:only-of-type {\n",
       "        vertical-align: middle;\n",
       "    }\n",
       "\n",
       "    .dataframe tbody tr th {\n",
       "        vertical-align: top;\n",
       "    }\n",
       "\n",
       "    .dataframe thead th {\n",
       "        text-align: right;\n",
       "    }\n",
       "</style>\n",
       "<table border=\"1\" class=\"dataframe\">\n",
       "  <thead>\n",
       "    <tr style=\"text-align: right;\">\n",
       "      <th>loan_status</th>\n",
       "      <th>COLLECTION</th>\n",
       "      <th>PAIDOFF</th>\n",
       "    </tr>\n",
       "    <tr>\n",
       "      <th>education</th>\n",
       "      <th></th>\n",
       "      <th></th>\n",
       "    </tr>\n",
       "  </thead>\n",
       "  <tbody>\n",
       "    <tr>\n",
       "      <th>Bechalor</th>\n",
       "      <td>11</td>\n",
       "      <td>33</td>\n",
       "    </tr>\n",
       "    <tr>\n",
       "      <th>High School or Below</th>\n",
       "      <td>39</td>\n",
       "      <td>112</td>\n",
       "    </tr>\n",
       "    <tr>\n",
       "      <th>Master or Above</th>\n",
       "      <td>1</td>\n",
       "      <td>1</td>\n",
       "    </tr>\n",
       "    <tr>\n",
       "      <th>college</th>\n",
       "      <td>35</td>\n",
       "      <td>114</td>\n",
       "    </tr>\n",
       "  </tbody>\n",
       "</table>\n",
       "</div>"
      ],
      "text/plain": [
       "loan_status           COLLECTION  PAIDOFF\n",
       "education                                \n",
       "Bechalor                      11       33\n",
       "High School or Below          39      112\n",
       "Master or Above                1        1\n",
       "college                       35      114"
      ]
     },
     "execution_count": 17,
     "metadata": {},
     "output_type": "execute_result"
    }
   ],
   "source": [
    "pd.crosstab(data.education,data.loan_status)"
   ]
  },
  {
   "cell_type": "markdown",
   "metadata": {},
   "source": [
    " Porcentajes "
   ]
  },
  {
   "cell_type": "code",
   "execution_count": 18,
   "metadata": {},
   "outputs": [
    {
     "data": {
      "text/plain": [
       "education             loan_status\n",
       "Bechalor              PAIDOFF        0.750000\n",
       "                      COLLECTION     0.250000\n",
       "High School or Below  PAIDOFF        0.741722\n",
       "                      COLLECTION     0.258278\n",
       "Master or Above       COLLECTION     0.500000\n",
       "                      PAIDOFF        0.500000\n",
       "college               PAIDOFF        0.765101\n",
       "                      COLLECTION     0.234899\n",
       "Name: loan_status, dtype: float64"
      ]
     },
     "execution_count": 18,
     "metadata": {},
     "output_type": "execute_result"
    }
   ],
   "source": [
    "data.groupby(['education'])['loan_status'].value_counts(normalize=True)"
   ]
  },
  {
   "cell_type": "markdown",
   "metadata": {},
   "source": [
    "- Utilizamos One-hot Encoding para transformar numéricamente la columna de educación"
   ]
  },
  {
   "cell_type": "code",
   "execution_count": 19,
   "metadata": {},
   "outputs": [
    {
     "data": {
      "text/html": [
       "<div>\n",
       "<style scoped>\n",
       "    .dataframe tbody tr th:only-of-type {\n",
       "        vertical-align: middle;\n",
       "    }\n",
       "\n",
       "    .dataframe tbody tr th {\n",
       "        vertical-align: top;\n",
       "    }\n",
       "\n",
       "    .dataframe thead th {\n",
       "        text-align: right;\n",
       "    }\n",
       "</style>\n",
       "<table border=\"1\" class=\"dataframe\">\n",
       "  <thead>\n",
       "    <tr style=\"text-align: right;\">\n",
       "      <th></th>\n",
       "      <th>Principal</th>\n",
       "      <th>terms</th>\n",
       "      <th>age</th>\n",
       "      <th>Gender</th>\n",
       "      <th>weekend</th>\n",
       "      <th>Bechalor</th>\n",
       "      <th>High School or Below</th>\n",
       "      <th>college</th>\n",
       "    </tr>\n",
       "  </thead>\n",
       "  <tbody>\n",
       "    <tr>\n",
       "      <th>0</th>\n",
       "      <td>1000</td>\n",
       "      <td>30</td>\n",
       "      <td>45</td>\n",
       "      <td>0</td>\n",
       "      <td>0</td>\n",
       "      <td>0</td>\n",
       "      <td>1</td>\n",
       "      <td>0</td>\n",
       "    </tr>\n",
       "    <tr>\n",
       "      <th>1</th>\n",
       "      <td>1000</td>\n",
       "      <td>30</td>\n",
       "      <td>33</td>\n",
       "      <td>1</td>\n",
       "      <td>0</td>\n",
       "      <td>1</td>\n",
       "      <td>0</td>\n",
       "      <td>0</td>\n",
       "    </tr>\n",
       "    <tr>\n",
       "      <th>2</th>\n",
       "      <td>1000</td>\n",
       "      <td>15</td>\n",
       "      <td>27</td>\n",
       "      <td>0</td>\n",
       "      <td>0</td>\n",
       "      <td>0</td>\n",
       "      <td>0</td>\n",
       "      <td>1</td>\n",
       "    </tr>\n",
       "    <tr>\n",
       "      <th>3</th>\n",
       "      <td>1000</td>\n",
       "      <td>30</td>\n",
       "      <td>28</td>\n",
       "      <td>1</td>\n",
       "      <td>1</td>\n",
       "      <td>0</td>\n",
       "      <td>0</td>\n",
       "      <td>1</td>\n",
       "    </tr>\n",
       "    <tr>\n",
       "      <th>4</th>\n",
       "      <td>1000</td>\n",
       "      <td>30</td>\n",
       "      <td>29</td>\n",
       "      <td>0</td>\n",
       "      <td>1</td>\n",
       "      <td>0</td>\n",
       "      <td>0</td>\n",
       "      <td>1</td>\n",
       "    </tr>\n",
       "  </tbody>\n",
       "</table>\n",
       "</div>"
      ],
      "text/plain": [
       "   Principal  terms  age  Gender  weekend  Bechalor  High School or Below  \\\n",
       "0       1000     30   45       0        0         0                     1   \n",
       "1       1000     30   33       1        0         1                     0   \n",
       "2       1000     15   27       0        0         0                     0   \n",
       "3       1000     30   28       1        1         0                     0   \n",
       "4       1000     30   29       0        1         0                     0   \n",
       "\n",
       "   college  \n",
       "0        0  \n",
       "1        0  \n",
       "2        1  \n",
       "3        1  \n",
       "4        1  "
      ]
     },
     "execution_count": 19,
     "metadata": {},
     "output_type": "execute_result"
    }
   ],
   "source": [
    "Feature = data[['Principal','terms','age','Gender','weekend']]\n",
    "Feature = pd.concat([Feature,pd.get_dummies(data['education'])], axis=1)\n",
    "Feature.drop(['Master or Above'], axis = 1,inplace=True)\n",
    "Feature.head()"
   ]
  },
  {
   "cell_type": "markdown",
   "metadata": {},
   "source": [
    "## PREPARACIÓN Y NORMALIZACIÓN DEL TEST Y TRAINING DATA"
   ]
  },
  {
   "cell_type": "code",
   "execution_count": 20,
   "metadata": {},
   "outputs": [],
   "source": [
    "X=Feature\n",
    "y=data['loan_status']"
   ]
  },
  {
   "cell_type": "code",
   "execution_count": 21,
   "metadata": {},
   "outputs": [],
   "source": [
    "from sklearn.model_selection import train_test_split\n",
    "from sklearn.preprocessing import StandardScaler"
   ]
  },
  {
   "cell_type": "code",
   "execution_count": 22,
   "metadata": {},
   "outputs": [],
   "source": [
    "X_train,X_test,y_train,y_test=train_test_split(X,y,test_size=0.2)\n",
    "standard=StandardScaler()\n",
    "X_train_normalized=standard.fit_transform(X_train)\n",
    "X_test_normalized=standard.fit_transform(X_test)"
   ]
  },
  {
   "cell_type": "markdown",
   "metadata": {},
   "source": [
    "- La variable dependiente está bastante desequilibrada, COLLECTION tiene un peso de alrededor el 25% y PAIDOFF del 75%. Hay que tener en cuenta el problema que esto puede suponer, ya que los modelos tienden a generalizar sobre la clase mayoritaria.\n",
    "\n",
    "- En algunos modelos vamos a probar alguna de las técnicas que existen para desequilibrar el balanceo y comprobar si conseguimos mejores resultados\n",
    "\n",
    "- Por el dataset en concreto, el método de evaluación que más nos interesa controlar es el recall de Collection, ya que lo realmente importante es que no se cataloguen como \"al día\" préstamos que no han sido pagados"
   ]
  },
  {
   "cell_type": "markdown",
   "metadata": {},
   "source": [
    "### Técnicas que vamos a utilizar para equilibrar las clases:\n",
    "\n",
    "- Hiperparámetro balanced\n",
    "- Técnica Smote-Tomek: consiste en aplicar en simultáneo un algoritmo de subsampling y otro de oversampling a la vez al dataset. En este caso usaremos SMOTE para oversampling: busca puntos vecinos cercanos y agrega puntos «en linea recta» entre ellos. Y usaremos Tomek para undersampling que quita los de distinta clase que sean nearest neighbor y deja ver mejor el decisión boundary (la zona limítrofe de nuestras clases)."
   ]
  },
  {
   "cell_type": "markdown",
   "metadata": {},
   "source": [
    "- Vamos a instanciar X_train y_train con la técnica Smote Tomek para utilizar en algunos algoritmos"
   ]
  },
  {
   "cell_type": "code",
   "execution_count": 23,
   "metadata": {},
   "outputs": [],
   "source": [
    "from imblearn.combine import SMOTETomek\n",
    "os_us = SMOTETomek()\n",
    "X_train_res, y_train_res = os_us.fit_sample(X_train_normalized, y_train)\n"
   ]
  },
  {
   "cell_type": "markdown",
   "metadata": {},
   "source": [
    "# DIFERENTES MODELOS DE MACHINE LEARNING"
   ]
  },
  {
   "cell_type": "markdown",
   "metadata": {},
   "source": [
    "### DECISION TREE"
   ]
  },
  {
   "cell_type": "code",
   "execution_count": 24,
   "metadata": {},
   "outputs": [],
   "source": [
    "from sklearn.tree import DecisionTreeClassifier\n",
    "from sklearn.ensemble import RandomForestClassifier\n",
    "from sklearn.model_selection import GridSearchCV\n",
    "from sklearn.metrics import classification_report\n",
    "from sklearn.metrics import recall_score"
   ]
  },
  {
   "cell_type": "code",
   "execution_count": 25,
   "metadata": {},
   "outputs": [],
   "source": [
    "parameters={'max_depth':[2,3,5,7,9,11,13,15]}\n",
    "tree=DecisionTreeClassifier()\n",
    "grid=GridSearchCV(tree,param_grid=parameters).fit(X_train_normalized,y_train)"
   ]
  },
  {
   "cell_type": "code",
   "execution_count": 26,
   "metadata": {},
   "outputs": [
    {
     "name": "stdout",
     "output_type": "stream",
     "text": [
      "{'max_depth': 2}\n",
      "0.7572727272727273\n"
     ]
    }
   ],
   "source": [
    "print(grid.best_params_)\n",
    "print(grid.best_score_)"
   ]
  },
  {
   "cell_type": "code",
   "execution_count": 27,
   "metadata": {},
   "outputs": [
    {
     "name": "stdout",
     "output_type": "stream",
     "text": [
      "TRAIN SCORES: 0.7572463768115942 TEST SCORE: 0.7285714285714285\n",
      "              precision    recall  f1-score   support\n",
      "\n",
      "  COLLECTION       0.00      0.00      0.00        19\n",
      "     PAIDOFF       0.73      1.00      0.84        51\n",
      "\n",
      "    accuracy                           0.73        70\n",
      "   macro avg       0.36      0.50      0.42        70\n",
      "weighted avg       0.53      0.73      0.61        70\n",
      "\n",
      "col_0        PAIDOFF\n",
      "loan_status         \n",
      "COLLECTION        19\n",
      "PAIDOFF           51\n"
     ]
    },
    {
     "name": "stderr",
     "output_type": "stream",
     "text": [
      "C:\\Users\\Usuario\\Miniconda3\\lib\\site-packages\\sklearn\\metrics\\_classification.py:1272: UndefinedMetricWarning: Precision and F-score are ill-defined and being set to 0.0 in labels with no predicted samples. Use `zero_division` parameter to control this behavior.\n",
      "  _warn_prf(average, modifier, msg_start, len(result))\n"
     ]
    }
   ],
   "source": [
    "tree=DecisionTreeClassifier(max_depth=2).fit(X_train_normalized,y_train)\n",
    "y_pred=tree.predict(X_test_normalized)\n",
    "print('TRAIN SCORES:',tree.score(X_train_normalized,y_train), 'TEST SCORE:', tree.score(X_test_normalized,y_test))\n",
    "print(classification_report(y_test,y_pred))\n",
    "print(pd.crosstab(y_test,y_pred))"
   ]
  },
  {
   "cell_type": "markdown",
   "metadata": {},
   "source": [
    "- Utilizamos el hiperparámetro class_weight para equilibrar las clases del target"
   ]
  },
  {
   "cell_type": "code",
   "execution_count": 28,
   "metadata": {},
   "outputs": [
    {
     "name": "stdout",
     "output_type": "stream",
     "text": [
      "TRAIN SCORES: 0.6594202898550725 TEST SCORE: 0.6571428571428571\n",
      "              precision    recall  f1-score   support\n",
      "\n",
      "  COLLECTION       0.44      1.00      0.61        19\n",
      "     PAIDOFF       1.00      0.53      0.69        51\n",
      "\n",
      "    accuracy                           0.66        70\n",
      "   macro avg       0.72      0.76      0.65        70\n",
      "weighted avg       0.85      0.66      0.67        70\n",
      "\n",
      "col_0        COLLECTION  PAIDOFF\n",
      "loan_status                     \n",
      "COLLECTION           19        0\n",
      "PAIDOFF              24       27\n"
     ]
    }
   ],
   "source": [
    "tree=DecisionTreeClassifier(max_depth=2, class_weight='balanced').fit(X_train_normalized,y_train)\n",
    "y_pred=tree.predict(X_test_normalized)\n",
    "print('TRAIN SCORES:',tree.score(X_train_normalized,y_train), 'TEST SCORE:', tree.score(X_test_normalized,y_test))\n",
    "print(classification_report(y_test,y_pred))\n",
    "print(pd.crosstab(y_test,y_pred))"
   ]
  },
  {
   "cell_type": "code",
   "execution_count": 29,
   "metadata": {},
   "outputs": [],
   "source": [
    "recall_tree_balanced=recall_score(y_test,y_pred,pos_label='COLLECTION')"
   ]
  },
  {
   "cell_type": "markdown",
   "metadata": {},
   "source": [
    "### RANDOM FOREST"
   ]
  },
  {
   "cell_type": "code",
   "execution_count": 30,
   "metadata": {},
   "outputs": [
    {
     "name": "stdout",
     "output_type": "stream",
     "text": [
      "TRAIN SCORES: 0.8405797101449275 TEST SCORE: 0.7285714285714285\n",
      "              precision    recall  f1-score   support\n",
      "\n",
      "  COLLECTION       0.50      0.16      0.24        19\n",
      "     PAIDOFF       0.75      0.94      0.83        51\n",
      "\n",
      "    accuracy                           0.73        70\n",
      "   macro avg       0.62      0.55      0.54        70\n",
      "weighted avg       0.68      0.73      0.67        70\n",
      "\n",
      "col_0        COLLECTION  PAIDOFF\n",
      "loan_status                     \n",
      "COLLECTION            3       16\n",
      "PAIDOFF               3       48\n"
     ]
    }
   ],
   "source": [
    "rf=RandomForestClassifier(n_estimators=200, max_depth=7).fit(X_train_normalized,y_train)\n",
    "y_pred=rf.predict(X_test_normalized)\n",
    "print('TRAIN SCORES:',rf.score(X_train_normalized,y_train), 'TEST SCORE:', rf.score(X_test_normalized,y_test))\n",
    "print(classification_report(y_test,y_pred))\n",
    "print(pd.crosstab(y_test,y_pred))\n"
   ]
  },
  {
   "cell_type": "markdown",
   "metadata": {},
   "source": [
    "- Con hiperparámetro balanced"
   ]
  },
  {
   "cell_type": "code",
   "execution_count": 64,
   "metadata": {},
   "outputs": [
    {
     "name": "stdout",
     "output_type": "stream",
     "text": [
      "TRAIN SCORES: 0.822463768115942 TEST SCORE: 0.6857142857142857\n",
      "              precision    recall  f1-score   support\n",
      "\n",
      "  COLLECTION       0.45      0.74      0.56        19\n",
      "     PAIDOFF       0.87      0.67      0.76        51\n",
      "\n",
      "    accuracy                           0.69        70\n",
      "   macro avg       0.66      0.70      0.66        70\n",
      "weighted avg       0.76      0.69      0.70        70\n",
      "\n",
      "col_0        COLLECTION  PAIDOFF\n",
      "loan_status                     \n",
      "COLLECTION           14        5\n",
      "PAIDOFF              17       34\n"
     ]
    }
   ],
   "source": [
    "rf=RandomForestClassifier(n_estimators=200, max_depth=7,class_weight='balanced').fit(X_train_normalized,y_train)\n",
    "y_pred=rf.predict(X_test_normalized)\n",
    "print('TRAIN SCORES:',rf.score(X_train_normalized,y_train), 'TEST SCORE:', rf.score(X_test_normalized,y_test))\n",
    "print(classification_report(y_test,y_pred))\n",
    "print(pd.crosstab(y_test,y_pred))\n"
   ]
  },
  {
   "cell_type": "code",
   "execution_count": 32,
   "metadata": {},
   "outputs": [],
   "source": [
    "recall_rf_balanced=recall_score(y_test,y_pred,pos_label='COLLECTION')"
   ]
  },
  {
   "cell_type": "markdown",
   "metadata": {},
   "source": [
    "- Probamos con cross validation"
   ]
  },
  {
   "cell_type": "code",
   "execution_count": 67,
   "metadata": {},
   "outputs": [
    {
     "name": "stdout",
     "output_type": "stream",
     "text": [
      "métricas cross validation: [0.71428571 0.67272727 0.69090909 0.65454545 0.67272727]\n",
      "media cross validation: 0.681038961038961\n",
      "Metrica en Test 0.6428571428571429\n"
     ]
    }
   ],
   "source": [
    "from sklearn.model_selection import cross_val_score\n",
    "from sklearn.model_selection import KFold\n",
    "from sklearn.metrics import accuracy_score\n",
    "kf=KFold(n_splits=5)\n",
    "scores=cross_val_score(rf,X_train_normalized,y_train,cv=5)\n",
    "print('métricas cross validation:',scores)\n",
    "print('media cross validation:',scores.mean())\n",
    "preds = rf.predict(X_test)\n",
    "score_pred =accuracy_score(y_test, preds)\n",
    " \n",
    "print(\"Metrica en Test\", score_pred)"
   ]
  },
  {
   "cell_type": "markdown",
   "metadata": {},
   "source": [
    "### LOGISTIC REGRESION"
   ]
  },
  {
   "cell_type": "code",
   "execution_count": 33,
   "metadata": {},
   "outputs": [],
   "source": [
    "from sklearn.model_selection import GridSearchCV\n",
    "from sklearn.linear_model import LogisticRegression"
   ]
  },
  {
   "cell_type": "code",
   "execution_count": 34,
   "metadata": {},
   "outputs": [
    {
     "data": {
      "text/plain": [
       "{'C': 0.1, 'penalty': 'l1'}"
      ]
     },
     "execution_count": 34,
     "metadata": {},
     "output_type": "execute_result"
    }
   ],
   "source": [
    "parameters={'penalty':['l1','l2'],'C':[0.1,0.3,0.5,0.7,0.9,1.5,10]}\n",
    "lr=LogisticRegression(solver='liblinear')\n",
    "grid=GridSearchCV(lr,param_grid=parameters).fit(X_train_normalized,y_train)\n",
    "grid.best_params_"
   ]
  },
  {
   "cell_type": "code",
   "execution_count": 35,
   "metadata": {},
   "outputs": [
    {
     "name": "stdout",
     "output_type": "stream",
     "text": [
      "TRAIN SCORES: 0.7572463768115942 TEST SCORE: 0.7285714285714285\n",
      "              precision    recall  f1-score   support\n",
      "\n",
      "  COLLECTION       0.00      0.00      0.00        19\n",
      "     PAIDOFF       0.73      1.00      0.84        51\n",
      "\n",
      "    accuracy                           0.73        70\n",
      "   macro avg       0.36      0.50      0.42        70\n",
      "weighted avg       0.53      0.73      0.61        70\n",
      "\n",
      "col_0        PAIDOFF\n",
      "loan_status         \n",
      "COLLECTION        19\n",
      "PAIDOFF           51\n"
     ]
    },
    {
     "name": "stderr",
     "output_type": "stream",
     "text": [
      "C:\\Users\\Usuario\\Miniconda3\\lib\\site-packages\\sklearn\\metrics\\_classification.py:1272: UndefinedMetricWarning: Precision and F-score are ill-defined and being set to 0.0 in labels with no predicted samples. Use `zero_division` parameter to control this behavior.\n",
      "  _warn_prf(average, modifier, msg_start, len(result))\n"
     ]
    }
   ],
   "source": [
    "lr=LogisticRegression(penalty='l1',C=0.1,solver='liblinear').fit(X_train_normalized,y_train)\n",
    "y_pred=lr.predict(X_test_normalized)\n",
    "print('TRAIN SCORES:',lr.score(X_train_normalized,y_train), 'TEST SCORE:', lr.score(X_test_normalized,y_test))\n",
    "print(classification_report(y_test,y_pred))\n",
    "print(pd.crosstab(y_test,y_pred))"
   ]
  },
  {
   "cell_type": "markdown",
   "metadata": {},
   "source": [
    "- PROBAMOS EL HYPERPARAMETRO CLASS_WEIGHT=BALANCED PARA EQUILIBRAR EL DESEQUILIBRIO ENTRE LAS 2 CLASES DEL TARGET"
   ]
  },
  {
   "cell_type": "code",
   "execution_count": 36,
   "metadata": {},
   "outputs": [
    {
     "name": "stdout",
     "output_type": "stream",
     "text": [
      "TRAIN SCORES: 0.6340579710144928 TEST SCORE: 0.6571428571428571\n",
      "              precision    recall  f1-score   support\n",
      "\n",
      "  COLLECTION       0.44      1.00      0.61        19\n",
      "     PAIDOFF       1.00      0.53      0.69        51\n",
      "\n",
      "    accuracy                           0.66        70\n",
      "   macro avg       0.72      0.76      0.65        70\n",
      "weighted avg       0.85      0.66      0.67        70\n",
      "\n",
      "col_0        COLLECTION  PAIDOFF\n",
      "loan_status                     \n",
      "COLLECTION           19        0\n",
      "PAIDOFF              24       27\n"
     ]
    }
   ],
   "source": [
    "lr=LogisticRegression(penalty='elasticnet',l1_ratio=1,solver='saga',C=0.1,class_weight='balanced').fit(X_train_normalized,y_train)\n",
    "y_pred=lr.predict(X_test_normalized)\n",
    "print('TRAIN SCORES:',lr.score(X_train_normalized,y_train), 'TEST SCORE:', lr.score(X_test_normalized,y_test))\n",
    "print(classification_report(y_test,y_pred))\n",
    "print(pd.crosstab(y_test,y_pred))"
   ]
  },
  {
   "cell_type": "code",
   "execution_count": 37,
   "metadata": {},
   "outputs": [
    {
     "data": {
      "text/plain": [
       "1.0"
      ]
     },
     "execution_count": 37,
     "metadata": {},
     "output_type": "execute_result"
    }
   ],
   "source": [
    "recall_lr_balanced=recall_score(y_test,y_pred,pos_label='COLLECTION')\n",
    "recall_lr_balanced"
   ]
  },
  {
   "cell_type": "markdown",
   "metadata": {},
   "source": [
    "### K-NEIGHOURS"
   ]
  },
  {
   "cell_type": "code",
   "execution_count": 38,
   "metadata": {},
   "outputs": [],
   "source": [
    "from sklearn.neighbors import KNeighborsClassifier"
   ]
  },
  {
   "cell_type": "code",
   "execution_count": 39,
   "metadata": {},
   "outputs": [
    {
     "data": {
      "text/plain": [
       "{'n_neighbors': 1}"
      ]
     },
     "execution_count": 39,
     "metadata": {},
     "output_type": "execute_result"
    }
   ],
   "source": [
    "parameters={'n_neighbors':[1,3,5,7,8,9]}\n",
    "kn=KNeighborsClassifier(weights='distance')\n",
    "grid=GridSearchCV(kn,param_grid=parameters).fit(X_train_normalized,y_train)\n",
    "grid.best_params_"
   ]
  },
  {
   "cell_type": "code",
   "execution_count": 40,
   "metadata": {},
   "outputs": [
    {
     "name": "stdout",
     "output_type": "stream",
     "text": [
      "TRAIN SCORES: 0.9094202898550725 TEST SCORE: 0.7714285714285715\n",
      "              precision    recall  f1-score   support\n",
      "\n",
      "  COLLECTION       0.60      0.47      0.53        19\n",
      "     PAIDOFF       0.82      0.88      0.85        51\n",
      "\n",
      "    accuracy                           0.77        70\n",
      "   macro avg       0.71      0.68      0.69        70\n",
      "weighted avg       0.76      0.77      0.76        70\n",
      "\n",
      "col_0        COLLECTION  PAIDOFF\n",
      "loan_status                     \n",
      "COLLECTION            9       10\n",
      "PAIDOFF               6       45\n"
     ]
    }
   ],
   "source": [
    "kn=KNeighborsClassifier(n_neighbors=8, weights='distance').fit(X_train_normalized,y_train)\n",
    "y_pred=kn.predict(X_test_normalized)\n",
    "print('TRAIN SCORES:',kn.score(X_train_normalized,y_train), 'TEST SCORE:', kn.score(X_test_normalized,y_test))\n",
    "print(classification_report(y_test,y_pred))\n",
    "print(pd.crosstab(y_test,y_pred))"
   ]
  },
  {
   "cell_type": "markdown",
   "metadata": {},
   "source": [
    "Claro problema de overtifitting"
   ]
  },
  {
   "cell_type": "code",
   "execution_count": 41,
   "metadata": {},
   "outputs": [],
   "source": [
    "recall_kn=recall_score(y_test,y_pred,pos_label='COLLECTION')\n"
   ]
  },
  {
   "cell_type": "markdown",
   "metadata": {},
   "source": [
    "### SVC"
   ]
  },
  {
   "cell_type": "code",
   "execution_count": 42,
   "metadata": {},
   "outputs": [],
   "source": [
    "from sklearn.svm import LinearSVC"
   ]
  },
  {
   "cell_type": "code",
   "execution_count": 43,
   "metadata": {},
   "outputs": [
    {
     "data": {
      "text/plain": [
       "{'C': 0.1, 'max_iter': 1000}"
      ]
     },
     "execution_count": 43,
     "metadata": {},
     "output_type": "execute_result"
    }
   ],
   "source": [
    "parameters={'max_iter': [1000,5000,10000],'C':[0.1,0.3,0.5,0.7,0.8,1]}\n",
    "svc=LinearSVC(dual=False,class_weight='balanced')\n",
    "grid=GridSearchCV(svc,param_grid=parameters).fit(X_train_normalized,y_train)\n",
    "grid.best_params_"
   ]
  },
  {
   "cell_type": "markdown",
   "metadata": {},
   "source": [
    "- Introducimos directamente el balanceo de datos para favorecer a la clase minoritaria"
   ]
  },
  {
   "cell_type": "code",
   "execution_count": 44,
   "metadata": {},
   "outputs": [
    {
     "name": "stdout",
     "output_type": "stream",
     "text": [
      "TRAIN SCORES: 0.6485507246376812 TEST SCORE: 0.6571428571428571\n",
      "              precision    recall  f1-score   support\n",
      "\n",
      "  COLLECTION       0.44      1.00      0.61        19\n",
      "     PAIDOFF       1.00      0.53      0.69        51\n",
      "\n",
      "    accuracy                           0.66        70\n",
      "   macro avg       0.72      0.76      0.65        70\n",
      "weighted avg       0.85      0.66      0.67        70\n",
      "\n",
      "col_0        COLLECTION  PAIDOFF\n",
      "loan_status                     \n",
      "COLLECTION           19        0\n",
      "PAIDOFF              24       27\n"
     ]
    }
   ],
   "source": [
    "svc=LinearSVC(max_iter=1000,C=1, class_weight='balanced').fit(X_train_normalized,y_train)\n",
    "y_pred=svc.predict(X_test_normalized)\n",
    "print('TRAIN SCORES:',svc.score(X_train_normalized,y_train), 'TEST SCORE:', svc.score(X_test_normalized,y_test))\n",
    "print(classification_report(y_test,y_pred))\n",
    "print(pd.crosstab(y_test,y_pred))"
   ]
  },
  {
   "cell_type": "code",
   "execution_count": 45,
   "metadata": {},
   "outputs": [],
   "source": [
    "recall_svc_balanced=recall_score(y_test,y_pred,pos_label='COLLECTION')\n"
   ]
  },
  {
   "cell_type": "markdown",
   "metadata": {},
   "source": [
    "### NAIVE BAYES"
   ]
  },
  {
   "cell_type": "code",
   "execution_count": 46,
   "metadata": {},
   "outputs": [],
   "source": [
    "from sklearn.naive_bayes import GaussianNB"
   ]
  },
  {
   "cell_type": "code",
   "execution_count": 47,
   "metadata": {},
   "outputs": [
    {
     "name": "stdout",
     "output_type": "stream",
     "text": [
      "TRAIN SCORES: 0.6992753623188406 TEST SCORE: 0.6857142857142857\n",
      "              precision    recall  f1-score   support\n",
      "\n",
      "  COLLECTION       0.45      0.74      0.56        19\n",
      "     PAIDOFF       0.87      0.67      0.76        51\n",
      "\n",
      "    accuracy                           0.69        70\n",
      "   macro avg       0.66      0.70      0.66        70\n",
      "weighted avg       0.76      0.69      0.70        70\n",
      "\n",
      "col_0        COLLECTION  PAIDOFF\n",
      "loan_status                     \n",
      "COLLECTION           14        5\n",
      "PAIDOFF              17       34\n"
     ]
    }
   ],
   "source": [
    "gnb=GaussianNB().fit(X_train_normalized,y_train)\n",
    "y_pred=gnb.predict(X_test_normalized)\n",
    "print('TRAIN SCORES:',gnb.score(X_train_normalized,y_train), 'TEST SCORE:', gnb.score(X_test_normalized,y_test))\n",
    "print(classification_report(y_test,y_pred))\n",
    "print(pd.crosstab(y_test,y_pred))\n"
   ]
  },
  {
   "cell_type": "code",
   "execution_count": 48,
   "metadata": {},
   "outputs": [],
   "source": [
    "recall_gb=recall_score(y_test,y_pred,pos_label='COLLECTION')\n"
   ]
  },
  {
   "cell_type": "markdown",
   "metadata": {},
   "source": [
    "### EXTRA TREES CLASSIFIER"
   ]
  },
  {
   "cell_type": "code",
   "execution_count": 49,
   "metadata": {},
   "outputs": [],
   "source": [
    "from sklearn.ensemble import ExtraTreesClassifier"
   ]
  },
  {
   "cell_type": "code",
   "execution_count": 50,
   "metadata": {},
   "outputs": [
    {
     "name": "stdout",
     "output_type": "stream",
     "text": [
      "TRAIN SCORES: 0.8405797101449275 TEST SCORE: 0.7142857142857143\n",
      "              precision    recall  f1-score   support\n",
      "\n",
      "  COLLECTION       0.45      0.74      0.56        19\n",
      "     PAIDOFF       0.87      0.67      0.76        51\n",
      "\n",
      "    accuracy                           0.69        70\n",
      "   macro avg       0.66      0.70      0.66        70\n",
      "weighted avg       0.76      0.69      0.70        70\n",
      "\n",
      "col_0        COLLECTION  PAIDOFF\n",
      "loan_status                     \n",
      "COLLECTION           14        5\n",
      "PAIDOFF              17       34\n"
     ]
    }
   ],
   "source": [
    "extra=ExtraTreesClassifier(n_estimators=200, max_depth=7,n_jobs=-1).fit(X_train_normalized,y_train)\n",
    "y_pred=gnb.predict(X_test_normalized)\n",
    "print('TRAIN SCORES:',extra.score(X_train_normalized,y_train), 'TEST SCORE:', extra.score(X_test_normalized,y_test))\n",
    "print(classification_report(y_test,y_pred))\n",
    "print(pd.crosstab(y_test,y_pred))"
   ]
  },
  {
   "cell_type": "code",
   "execution_count": 51,
   "metadata": {},
   "outputs": [],
   "source": [
    "recall_extra=recall_score(y_test,y_pred,pos_label='COLLECTION')\n"
   ]
  },
  {
   "cell_type": "markdown",
   "metadata": {},
   "source": [
    "- VAMOS A PROBAR EL MODELO DE BALANCEO SMOTE TOMEK"
   ]
  },
  {
   "cell_type": "code",
   "execution_count": 52,
   "metadata": {},
   "outputs": [
    {
     "data": {
      "text/plain": [
       "PAIDOFF       209\n",
       "COLLECTION     67\n",
       "Name: loan_status, dtype: int64"
      ]
     },
     "execution_count": 52,
     "metadata": {},
     "output_type": "execute_result"
    }
   ],
   "source": [
    "y_train.value_counts()"
   ]
  },
  {
   "cell_type": "code",
   "execution_count": 53,
   "metadata": {},
   "outputs": [
    {
     "data": {
      "text/plain": [
       "COLLECTION    201\n",
       "PAIDOFF       201\n",
       "Name: loan_status, dtype: int64"
      ]
     },
     "execution_count": 53,
     "metadata": {},
     "output_type": "execute_result"
    }
   ],
   "source": [
    "y_train_res.value_counts()"
   ]
  },
  {
   "cell_type": "code",
   "execution_count": 54,
   "metadata": {},
   "outputs": [
    {
     "name": "stdout",
     "output_type": "stream",
     "text": [
      "TRAIN SCORES: 0.8383084577114428 TEST SCORE: 0.6428571428571429\n",
      "              precision    recall  f1-score   support\n",
      "\n",
      "  COLLECTION       0.45      0.74      0.56        19\n",
      "     PAIDOFF       0.87      0.67      0.76        51\n",
      "\n",
      "    accuracy                           0.69        70\n",
      "   macro avg       0.66      0.70      0.66        70\n",
      "weighted avg       0.76      0.69      0.70        70\n",
      "\n",
      "col_0        COLLECTION  PAIDOFF\n",
      "loan_status                     \n",
      "COLLECTION           14        5\n",
      "PAIDOFF              17       34\n"
     ]
    }
   ],
   "source": [
    "extra=ExtraTreesClassifier(n_estimators=200, max_depth=7,n_jobs=-1).fit(X_train_res,y_train_res)\n",
    "y_pred=gnb.predict(X_test_normalized)\n",
    "print('TRAIN SCORES:',extra.score(X_train_res,y_train_res), 'TEST SCORE:', extra.score(X_test_normalized,y_test))\n",
    "print(classification_report(y_test,y_pred))\n",
    "print(pd.crosstab(y_test,y_pred))"
   ]
  },
  {
   "cell_type": "markdown",
   "metadata": {},
   "source": [
    "- No han supuesto grandes cambios de hecho ha empeorado el modelo al caer el test score"
   ]
  },
  {
   "cell_type": "markdown",
   "metadata": {},
   "source": [
    "### ADABOOSTING CLASSIFIER"
   ]
  },
  {
   "cell_type": "code",
   "execution_count": 55,
   "metadata": {},
   "outputs": [],
   "source": [
    "from sklearn.ensemble import AdaBoostClassifier"
   ]
  },
  {
   "cell_type": "code",
   "execution_count": 56,
   "metadata": {},
   "outputs": [
    {
     "name": "stdout",
     "output_type": "stream",
     "text": [
      "TRAIN SCORES: 0.7608695652173914 TEST SCORE: 0.6428571428571429\n",
      "              precision    recall  f1-score   support\n",
      "\n",
      "  COLLECTION       0.25      0.16      0.19        19\n",
      "     PAIDOFF       0.72      0.82      0.77        51\n",
      "\n",
      "    accuracy                           0.64        70\n",
      "   macro avg       0.49      0.49      0.48        70\n",
      "weighted avg       0.60      0.64      0.61        70\n",
      "\n",
      "col_0        COLLECTION  PAIDOFF\n",
      "loan_status                     \n",
      "COLLECTION            3       16\n",
      "PAIDOFF               9       42\n"
     ]
    }
   ],
   "source": [
    "ada=AdaBoostClassifier(n_estimators=1000,learning_rate=1).fit(X_train_normalized,y_train)\n",
    "y_pred=ada.predict(X_test_normalized)\n",
    "print('TRAIN SCORES:',ada.score(X_train_normalized,y_train), 'TEST SCORE:', ada.score(X_test_normalized,y_test))\n",
    "print(classification_report(y_test,y_pred))\n",
    "print(pd.crosstab(y_test,y_pred))"
   ]
  },
  {
   "cell_type": "markdown",
   "metadata": {},
   "source": [
    "- CON MODELO DE BALANCEO SMOTE TOMEK"
   ]
  },
  {
   "cell_type": "code",
   "execution_count": 57,
   "metadata": {},
   "outputs": [
    {
     "name": "stdout",
     "output_type": "stream",
     "text": [
      "TRAIN SCORES: 0.8582089552238806 TEST SCORE: 0.5\n",
      "              precision    recall  f1-score   support\n",
      "\n",
      "  COLLECTION       0.30      0.63      0.41        19\n",
      "     PAIDOFF       0.77      0.45      0.57        51\n",
      "\n",
      "    accuracy                           0.50        70\n",
      "   macro avg       0.53      0.54      0.49        70\n",
      "weighted avg       0.64      0.50      0.52        70\n",
      "\n",
      "col_0        COLLECTION  PAIDOFF\n",
      "loan_status                     \n",
      "COLLECTION           12        7\n",
      "PAIDOFF              28       23\n"
     ]
    }
   ],
   "source": [
    "ada=AdaBoostClassifier(n_estimators=1000,learning_rate=1).fit(X_train_res,y_train_res)\n",
    "y_pred=ada.predict(X_test_normalized)\n",
    "print('TRAIN SCORES:',ada.score(X_train_res,y_train_res), 'TEST SCORE:', ada.score(X_test_normalized,y_test))\n",
    "print(classification_report(y_test,y_pred))\n",
    "print(pd.crosstab(y_test,y_pred))"
   ]
  },
  {
   "cell_type": "markdown",
   "metadata": {},
   "source": [
    "- Conseguimos un 1 en recall de collection pero caemos en overfitting, mejora mucho el training y baja el test"
   ]
  },
  {
   "cell_type": "markdown",
   "metadata": {},
   "source": [
    "### GRADIENT BOOSTING"
   ]
  },
  {
   "cell_type": "code",
   "execution_count": 58,
   "metadata": {},
   "outputs": [],
   "source": [
    "from sklearn.ensemble import GradientBoostingClassifier"
   ]
  },
  {
   "cell_type": "code",
   "execution_count": 59,
   "metadata": {},
   "outputs": [
    {
     "name": "stdout",
     "output_type": "stream",
     "text": [
      "TRAIN SCORES: 0.9094202898550725 TEST SCORE: 0.7571428571428571\n",
      "              precision    recall  f1-score   support\n",
      "\n",
      "  COLLECTION       0.56      0.47      0.51        19\n",
      "     PAIDOFF       0.81      0.86      0.84        51\n",
      "\n",
      "    accuracy                           0.76        70\n",
      "   macro avg       0.69      0.67      0.68        70\n",
      "weighted avg       0.75      0.76      0.75        70\n",
      "\n",
      "col_0        COLLECTION  PAIDOFF\n",
      "loan_status                     \n",
      "COLLECTION            9       10\n",
      "PAIDOFF               7       44\n"
     ]
    }
   ],
   "source": [
    "gb=GradientBoostingClassifier(n_estimators=1000,learning_rate=1,max_depth=3).fit(X_train_normalized,y_train)\n",
    "y_pred=gb.predict(X_test_normalized)\n",
    "print('TRAIN SCORES:',gb.score(X_train_normalized,y_train), 'TEST SCORE:', gb.score(X_test_normalized,y_test))\n",
    "print(classification_report(y_test,y_pred))\n",
    "print(pd.crosstab(y_test,y_pred))"
   ]
  },
  {
   "cell_type": "code",
   "execution_count": 60,
   "metadata": {},
   "outputs": [],
   "source": [
    "from imblearn.ensemble import BalancedBaggingClassifier"
   ]
  },
  {
   "cell_type": "code",
   "execution_count": 61,
   "metadata": {},
   "outputs": [
    {
     "name": "stdout",
     "output_type": "stream",
     "text": [
      "TRAIN SCORES: 0.782608695652174 TEST SCORE: 0.7428571428571429\n",
      "              precision    recall  f1-score   support\n",
      "\n",
      "  COLLECTION       0.56      0.47      0.51        19\n",
      "     PAIDOFF       0.81      0.86      0.84        51\n",
      "\n",
      "    accuracy                           0.76        70\n",
      "   macro avg       0.69      0.67      0.68        70\n",
      "weighted avg       0.75      0.76      0.75        70\n",
      "\n",
      "col_0        COLLECTION  PAIDOFF\n",
      "loan_status                     \n",
      "COLLECTION            9       10\n",
      "PAIDOFF               7       44\n"
     ]
    }
   ],
   "source": [
    "bbc = BalancedBaggingClassifier(base_estimator=GradientBoostingClassifier(n_estimators=1000,learning_rate=1,max_depth=3),\n",
    "                                sampling_strategy='auto',\n",
    "                                replacement=False,\n",
    "                                random_state=0)\n",
    " \n",
    "#Train the classifier.\n",
    "bbc.fit(X_train_normalized, y_train)\n",
    "pred_y = bbc.predict(X_test_normalized)\n",
    "print('TRAIN SCORES:',bbc.score(X_train_normalized,y_train), 'TEST SCORE:', bbc.score(X_test_normalized,y_test))\n",
    "print(classification_report(y_test,y_pred))\n",
    "print(pd.crosstab(y_test,y_pred))"
   ]
  },
  {
   "cell_type": "markdown",
   "metadata": {},
   "source": [
    "- Aplicamos el Modelo de balanceo Smote Tomex y vemos que el recall de Collection, que es lo que nos interesa, mejora mucho pero volvemos a caer en overfitting por lo que no nos va a servir para generalizar bien datos nuevos"
   ]
  },
  {
   "cell_type": "code",
   "execution_count": 62,
   "metadata": {},
   "outputs": [
    {
     "name": "stdout",
     "output_type": "stream",
     "text": [
      "TRAIN SCORES: 0.9378109452736318 TEST SCORE: 0.6428571428571429\n",
      "              precision    recall  f1-score   support\n",
      "\n",
      "  COLLECTION       0.41      0.74      0.53        19\n",
      "     PAIDOFF       0.86      0.61      0.71        51\n",
      "\n",
      "    accuracy                           0.64        70\n",
      "   macro avg       0.64      0.67      0.62        70\n",
      "weighted avg       0.74      0.64      0.66        70\n",
      "\n",
      "col_0        COLLECTION  PAIDOFF\n",
      "loan_status                     \n",
      "COLLECTION           14        5\n",
      "PAIDOFF              20       31\n"
     ]
    }
   ],
   "source": [
    "gb=GradientBoostingClassifier(n_estimators=1000,learning_rate=1,max_depth=3).fit(X_train_res,y_train_res)\n",
    "y_pred=gb.predict(X_test_normalized)\n",
    "print('TRAIN SCORES:',gb.score(X_train_res,y_train_res), 'TEST SCORE:', gb.score(X_test_normalized,y_test))\n",
    "print(classification_report(y_test,y_pred))\n",
    "print(pd.crosstab(y_test,y_pred))"
   ]
  },
  {
   "cell_type": "markdown",
   "metadata": {},
   "source": [
    "# PRIMERAS CONCLUSIONES"
   ]
  },
  {
   "cell_type": "markdown",
   "metadata": {},
   "source": [
    "- Hemos aplicado modelos de clasificación que nos han dado en general buenos training scores pero test scores regulares, entre el 0,6-0,7 máximo\n",
    "\n",
    "- Hemos introducido varias ténicas de balanceo para equilibrar las dos clases del target. Estas técnicas han provocado en general overffiting, un incremento del score del training y un decremento en el test, por tanto generalizan peor.\n",
    "\n",
    "- Sí hemos comprobado que las técnicas de balanceo utilizadas en todos los casos aumentan enormemente el recall de Collection, que es la técnica de evaluación que queríamos tomar como referencia.\n",
    "\n",
    "- Es posible que la reducida dimensión del dataset dificulte el poder construir un modelo más robusto"
   ]
  },
  {
   "cell_type": "markdown",
   "metadata": {},
   "source": [
    "# APLICAMOS LOS MODELOS ENTRENADOS SOBRE EL TEST"
   ]
  },
  {
   "cell_type": "code",
   "execution_count": 69,
   "metadata": {},
   "outputs": [
    {
     "name": "stdout",
     "output_type": "stream",
     "text": [
      "(54, 10)\n"
     ]
    }
   ],
   "source": [
    "data_test=pd.read_csv('loan_test.csv',parse_dates=['effective_date','due_date'])\n",
    "print(data_test.shape)\n",
    "data_test.head()\n",
    "\n",
    "data_test['dayofwekk']=data_test.effective_date.dt.dayofweek\n",
    "data_test['weekend']=data_test.dayofwekk.apply(lambda x: 1 if (x>3) else 0)\n",
    "data_test['Gender'].replace(['male','female'],[0,1],inplace=True)\n",
    "\n",
    "Feature = data_test[['Principal','terms','age','Gender','weekend']]\n",
    "Feature = pd.concat([Feature,pd.get_dummies(data_test['education'])], axis=1)\n",
    "Feature.drop(['Master or Above'], axis = 1,inplace=True)\n",
    "\n",
    "X_test_loan=Feature\n",
    "y_test_loan=data_test['loan_status']\n",
    "\n",
    "standard=StandardScaler()\n",
    "X_test_loan=standard.fit_transform(X_test_loan)"
   ]
  },
  {
   "cell_type": "code",
   "execution_count": 70,
   "metadata": {},
   "outputs": [],
   "source": [
    "from sklearn.metrics import f1_score\n",
    "from sklearn.metrics import recall_score\n",
    "recall_score(y_test,y_pred,pos_label='COLLECTION')"
   ]
  },
  {
   "cell_type": "code",
   "execution_count": 75,
   "metadata": {},
   "outputs": [
    {
     "name": "stdout",
     "output_type": "stream",
     "text": [
      "KN F1 SCORE: 0.6736355806123249 KN RECALL COLLECTION: 0.21428571428571427\n",
      "ADA BOOSTING F1 SCORE: 0.5264550264550264 ADA RECALL COLLECTION: 0.9285714285714286\n",
      "SVC F1 SCORE: 0.6131629525738922 SVC RECALL COLLECTION: 0.8571428571428571\n",
      "TREE DECISION F1 SCORE: 0.7037699595839131 TREE DECISION RECALL COLLECTION: 0.9285714285714286\n",
      "EXTRA TREE F1 SCORE: 0.7037699595839131 EXTRA TREE RECALL COLLECTION: 0.9285714285714286\n",
      "GRADIENT BOOSTING F1 SCORE: 0.617283950617284 GRADIENT BOOSTING RECALL COLLECTION: 0.7142857142857143\n",
      "RANDOM FOREST F1 SCORE: 0.6942854039628232 RANDOM FOREST RECALL COLLECTION: 0.5\n",
      "LOGISTIC REGRESSION F1 SCORE: 0.6095679012345679 LOGISTIC REGRESSION RECALL COLLECTION: 0.9285714285714286\n",
      "NAIVE BAYES F1 SCORE: 0.7144249512670564 NAIVE BAYES RECALL COLLECTION: 0.5714285714285714\n"
     ]
    }
   ],
   "source": [
    "print(\"KN F1 SCORE:\", f1_score(y_test_loan, kn.predict(X_test_loan),average='weighted'), \n",
    "      'KN RECALL COLLECTION:', recall_score(y_test_loan,kn.predict(X_test_loan),pos_label='COLLECTION'))\n",
    "print(\"ADA BOOSTING F1 SCORE:\", f1_score(y_test_loan, ada.predict(X_test_loan),average='weighted'), \n",
    "      'ADA RECALL COLLECTION:', recall_score(y_test_loan,ada.predict(X_test_loan),pos_label='COLLECTION'))\n",
    "print(\"SVC F1 SCORE:\", f1_score(y_test_loan, svc.predict(X_test_loan), average='weighted'), \n",
    "      'SVC RECALL COLLECTION:', recall_score(y_test_loan,svc.predict(X_test_loan),pos_label='COLLECTION'))\n",
    "print(\"TREE DECISION F1 SCORE:\", f1_score(y_test_loan, tree.predict(X_test_loan), average='weighted'), \n",
    "      'TREE DECISION RECALL COLLECTION:', recall_score(y_test_loan,tree.predict(X_test_loan),pos_label='COLLECTION'))\n",
    "print(\"EXTRA TREE F1 SCORE:\", f1_score(y_test_loan, extra.predict(X_test_loan), average='weighted'), \n",
    "      'EXTRA TREE RECALL COLLECTION:', recall_score(y_test_loan,extra.predict(X_test_loan),pos_label='COLLECTION'))\n",
    "print(\"GRADIENT BOOSTING F1 SCORE:\", f1_score(y_test_loan, gb.predict(X_test_loan), average='weighted'), \n",
    "      'GRADIENT BOOSTING RECALL COLLECTION:', recall_score(y_test_loan,gb.predict(X_test_loan),pos_label='COLLECTION'))\n",
    "print(\"RANDOM FOREST F1 SCORE:\", f1_score(y_test_loan, rf.predict(X_test_loan), average='weighted'), \n",
    "      'RANDOM FOREST RECALL COLLECTION:', recall_score(y_test_loan,rf.predict(X_test_loan),pos_label='COLLECTION'))\n",
    "print(\"LOGISTIC REGRESSION F1 SCORE:\", f1_score(y_test_loan, lr.predict(X_test_loan), average='weighted'), \n",
    "      'LOGISTIC REGRESSION RECALL COLLECTION:', recall_score(y_test_loan,lr.predict(X_test_loan),pos_label='COLLECTION'))\n",
    "print(\"NAIVE BAYES F1 SCORE:\", f1_score(y_test_loan, gnb.predict(X_test_loan), average='weighted'), \n",
    "      'NAIVE BAYES RECALL COLLECTION:', recall_score(y_test_loan,gnb.predict(X_test_loan),pos_label='COLLECTION'))\n"
   ]
  },
  {
   "cell_type": "markdown",
   "metadata": {},
   "source": [
    "- Vemos que el modelo que mejor ha funcionado es el DECISION TREE"
   ]
  },
  {
   "cell_type": "code",
   "execution_count": 86,
   "metadata": {},
   "outputs": [
    {
     "name": "stdout",
     "output_type": "stream",
     "text": [
      "TRAIN SCORES: 0.6851851851851852\n",
      "              precision    recall  f1-score   support\n",
      "\n",
      "  COLLECTION       0.45      0.93      0.60        14\n",
      "     PAIDOFF       0.96      0.60      0.74        40\n",
      "\n",
      "    accuracy                           0.69        54\n",
      "   macro avg       0.70      0.76      0.67        54\n",
      "weighted avg       0.83      0.69      0.70        54\n",
      "\n",
      "col_0        COLLECTION  PAIDOFF\n",
      "loan_status                     \n",
      "COLLECTION           13        1\n",
      "PAIDOFF              16       24\n"
     ]
    }
   ],
   "source": [
    "tree=DecisionTreeClassifier(max_depth=2,class_weight='balanced').fit(X_test_loan,y_test_loan)\n",
    "y_pred=tree.predict(X_test_loan)\n",
    "print('TRAIN SCORES:',tree.score(X_test_loan,y_test_loan))\n",
    "print(classification_report(y_test_loan,y_pred))\n",
    "print(pd.crosstab(y_test_loan,y_pred))"
   ]
  },
  {
   "cell_type": "code",
   "execution_count": 87,
   "metadata": {},
   "outputs": [
    {
     "data": {
      "text/html": [
       "<div>\n",
       "<style scoped>\n",
       "    .dataframe tbody tr th:only-of-type {\n",
       "        vertical-align: middle;\n",
       "    }\n",
       "\n",
       "    .dataframe tbody tr th {\n",
       "        vertical-align: top;\n",
       "    }\n",
       "\n",
       "    .dataframe thead th {\n",
       "        text-align: right;\n",
       "    }\n",
       "</style>\n",
       "<table border=\"1\" class=\"dataframe\">\n",
       "  <thead>\n",
       "    <tr style=\"text-align: right;\">\n",
       "      <th></th>\n",
       "      <th>test</th>\n",
       "      <th>predicted</th>\n",
       "    </tr>\n",
       "  </thead>\n",
       "  <tbody>\n",
       "    <tr>\n",
       "      <th>0</th>\n",
       "      <td>PAIDOFF</td>\n",
       "      <td>PAIDOFF</td>\n",
       "    </tr>\n",
       "    <tr>\n",
       "      <th>1</th>\n",
       "      <td>PAIDOFF</td>\n",
       "      <td>COLLECTION</td>\n",
       "    </tr>\n",
       "    <tr>\n",
       "      <th>2</th>\n",
       "      <td>PAIDOFF</td>\n",
       "      <td>COLLECTION</td>\n",
       "    </tr>\n",
       "    <tr>\n",
       "      <th>3</th>\n",
       "      <td>PAIDOFF</td>\n",
       "      <td>COLLECTION</td>\n",
       "    </tr>\n",
       "    <tr>\n",
       "      <th>4</th>\n",
       "      <td>PAIDOFF</td>\n",
       "      <td>PAIDOFF</td>\n",
       "    </tr>\n",
       "    <tr>\n",
       "      <th>5</th>\n",
       "      <td>PAIDOFF</td>\n",
       "      <td>COLLECTION</td>\n",
       "    </tr>\n",
       "    <tr>\n",
       "      <th>6</th>\n",
       "      <td>PAIDOFF</td>\n",
       "      <td>COLLECTION</td>\n",
       "    </tr>\n",
       "    <tr>\n",
       "      <th>7</th>\n",
       "      <td>PAIDOFF</td>\n",
       "      <td>PAIDOFF</td>\n",
       "    </tr>\n",
       "    <tr>\n",
       "      <th>8</th>\n",
       "      <td>PAIDOFF</td>\n",
       "      <td>COLLECTION</td>\n",
       "    </tr>\n",
       "    <tr>\n",
       "      <th>9</th>\n",
       "      <td>PAIDOFF</td>\n",
       "      <td>COLLECTION</td>\n",
       "    </tr>\n",
       "    <tr>\n",
       "      <th>10</th>\n",
       "      <td>PAIDOFF</td>\n",
       "      <td>COLLECTION</td>\n",
       "    </tr>\n",
       "    <tr>\n",
       "      <th>11</th>\n",
       "      <td>PAIDOFF</td>\n",
       "      <td>COLLECTION</td>\n",
       "    </tr>\n",
       "    <tr>\n",
       "      <th>12</th>\n",
       "      <td>PAIDOFF</td>\n",
       "      <td>PAIDOFF</td>\n",
       "    </tr>\n",
       "    <tr>\n",
       "      <th>13</th>\n",
       "      <td>PAIDOFF</td>\n",
       "      <td>COLLECTION</td>\n",
       "    </tr>\n",
       "    <tr>\n",
       "      <th>14</th>\n",
       "      <td>PAIDOFF</td>\n",
       "      <td>COLLECTION</td>\n",
       "    </tr>\n",
       "    <tr>\n",
       "      <th>15</th>\n",
       "      <td>PAIDOFF</td>\n",
       "      <td>COLLECTION</td>\n",
       "    </tr>\n",
       "    <tr>\n",
       "      <th>16</th>\n",
       "      <td>PAIDOFF</td>\n",
       "      <td>PAIDOFF</td>\n",
       "    </tr>\n",
       "    <tr>\n",
       "      <th>17</th>\n",
       "      <td>PAIDOFF</td>\n",
       "      <td>PAIDOFF</td>\n",
       "    </tr>\n",
       "    <tr>\n",
       "      <th>18</th>\n",
       "      <td>PAIDOFF</td>\n",
       "      <td>COLLECTION</td>\n",
       "    </tr>\n",
       "    <tr>\n",
       "      <th>19</th>\n",
       "      <td>PAIDOFF</td>\n",
       "      <td>COLLECTION</td>\n",
       "    </tr>\n",
       "    <tr>\n",
       "      <th>20</th>\n",
       "      <td>PAIDOFF</td>\n",
       "      <td>COLLECTION</td>\n",
       "    </tr>\n",
       "    <tr>\n",
       "      <th>21</th>\n",
       "      <td>PAIDOFF</td>\n",
       "      <td>COLLECTION</td>\n",
       "    </tr>\n",
       "    <tr>\n",
       "      <th>22</th>\n",
       "      <td>PAIDOFF</td>\n",
       "      <td>PAIDOFF</td>\n",
       "    </tr>\n",
       "    <tr>\n",
       "      <th>23</th>\n",
       "      <td>PAIDOFF</td>\n",
       "      <td>PAIDOFF</td>\n",
       "    </tr>\n",
       "    <tr>\n",
       "      <th>24</th>\n",
       "      <td>PAIDOFF</td>\n",
       "      <td>PAIDOFF</td>\n",
       "    </tr>\n",
       "    <tr>\n",
       "      <th>25</th>\n",
       "      <td>PAIDOFF</td>\n",
       "      <td>PAIDOFF</td>\n",
       "    </tr>\n",
       "    <tr>\n",
       "      <th>26</th>\n",
       "      <td>PAIDOFF</td>\n",
       "      <td>PAIDOFF</td>\n",
       "    </tr>\n",
       "    <tr>\n",
       "      <th>27</th>\n",
       "      <td>PAIDOFF</td>\n",
       "      <td>PAIDOFF</td>\n",
       "    </tr>\n",
       "    <tr>\n",
       "      <th>28</th>\n",
       "      <td>PAIDOFF</td>\n",
       "      <td>PAIDOFF</td>\n",
       "    </tr>\n",
       "    <tr>\n",
       "      <th>29</th>\n",
       "      <td>PAIDOFF</td>\n",
       "      <td>PAIDOFF</td>\n",
       "    </tr>\n",
       "    <tr>\n",
       "      <th>30</th>\n",
       "      <td>PAIDOFF</td>\n",
       "      <td>PAIDOFF</td>\n",
       "    </tr>\n",
       "    <tr>\n",
       "      <th>31</th>\n",
       "      <td>PAIDOFF</td>\n",
       "      <td>PAIDOFF</td>\n",
       "    </tr>\n",
       "    <tr>\n",
       "      <th>32</th>\n",
       "      <td>PAIDOFF</td>\n",
       "      <td>PAIDOFF</td>\n",
       "    </tr>\n",
       "    <tr>\n",
       "      <th>33</th>\n",
       "      <td>PAIDOFF</td>\n",
       "      <td>PAIDOFF</td>\n",
       "    </tr>\n",
       "    <tr>\n",
       "      <th>34</th>\n",
       "      <td>PAIDOFF</td>\n",
       "      <td>PAIDOFF</td>\n",
       "    </tr>\n",
       "    <tr>\n",
       "      <th>35</th>\n",
       "      <td>PAIDOFF</td>\n",
       "      <td>PAIDOFF</td>\n",
       "    </tr>\n",
       "    <tr>\n",
       "      <th>36</th>\n",
       "      <td>PAIDOFF</td>\n",
       "      <td>PAIDOFF</td>\n",
       "    </tr>\n",
       "    <tr>\n",
       "      <th>37</th>\n",
       "      <td>PAIDOFF</td>\n",
       "      <td>PAIDOFF</td>\n",
       "    </tr>\n",
       "    <tr>\n",
       "      <th>38</th>\n",
       "      <td>PAIDOFF</td>\n",
       "      <td>PAIDOFF</td>\n",
       "    </tr>\n",
       "    <tr>\n",
       "      <th>39</th>\n",
       "      <td>PAIDOFF</td>\n",
       "      <td>PAIDOFF</td>\n",
       "    </tr>\n",
       "    <tr>\n",
       "      <th>40</th>\n",
       "      <td>COLLECTION</td>\n",
       "      <td>COLLECTION</td>\n",
       "    </tr>\n",
       "    <tr>\n",
       "      <th>41</th>\n",
       "      <td>COLLECTION</td>\n",
       "      <td>COLLECTION</td>\n",
       "    </tr>\n",
       "    <tr>\n",
       "      <th>42</th>\n",
       "      <td>COLLECTION</td>\n",
       "      <td>COLLECTION</td>\n",
       "    </tr>\n",
       "    <tr>\n",
       "      <th>43</th>\n",
       "      <td>COLLECTION</td>\n",
       "      <td>COLLECTION</td>\n",
       "    </tr>\n",
       "    <tr>\n",
       "      <th>44</th>\n",
       "      <td>COLLECTION</td>\n",
       "      <td>COLLECTION</td>\n",
       "    </tr>\n",
       "    <tr>\n",
       "      <th>45</th>\n",
       "      <td>COLLECTION</td>\n",
       "      <td>COLLECTION</td>\n",
       "    </tr>\n",
       "    <tr>\n",
       "      <th>46</th>\n",
       "      <td>COLLECTION</td>\n",
       "      <td>COLLECTION</td>\n",
       "    </tr>\n",
       "    <tr>\n",
       "      <th>47</th>\n",
       "      <td>COLLECTION</td>\n",
       "      <td>COLLECTION</td>\n",
       "    </tr>\n",
       "    <tr>\n",
       "      <th>48</th>\n",
       "      <td>COLLECTION</td>\n",
       "      <td>COLLECTION</td>\n",
       "    </tr>\n",
       "    <tr>\n",
       "      <th>49</th>\n",
       "      <td>COLLECTION</td>\n",
       "      <td>COLLECTION</td>\n",
       "    </tr>\n",
       "    <tr>\n",
       "      <th>50</th>\n",
       "      <td>COLLECTION</td>\n",
       "      <td>COLLECTION</td>\n",
       "    </tr>\n",
       "    <tr>\n",
       "      <th>51</th>\n",
       "      <td>COLLECTION</td>\n",
       "      <td>COLLECTION</td>\n",
       "    </tr>\n",
       "    <tr>\n",
       "      <th>52</th>\n",
       "      <td>COLLECTION</td>\n",
       "      <td>COLLECTION</td>\n",
       "    </tr>\n",
       "    <tr>\n",
       "      <th>53</th>\n",
       "      <td>COLLECTION</td>\n",
       "      <td>PAIDOFF</td>\n",
       "    </tr>\n",
       "  </tbody>\n",
       "</table>\n",
       "</div>"
      ],
      "text/plain": [
       "          test   predicted\n",
       "0      PAIDOFF     PAIDOFF\n",
       "1      PAIDOFF  COLLECTION\n",
       "2      PAIDOFF  COLLECTION\n",
       "3      PAIDOFF  COLLECTION\n",
       "4      PAIDOFF     PAIDOFF\n",
       "5      PAIDOFF  COLLECTION\n",
       "6      PAIDOFF  COLLECTION\n",
       "7      PAIDOFF     PAIDOFF\n",
       "8      PAIDOFF  COLLECTION\n",
       "9      PAIDOFF  COLLECTION\n",
       "10     PAIDOFF  COLLECTION\n",
       "11     PAIDOFF  COLLECTION\n",
       "12     PAIDOFF     PAIDOFF\n",
       "13     PAIDOFF  COLLECTION\n",
       "14     PAIDOFF  COLLECTION\n",
       "15     PAIDOFF  COLLECTION\n",
       "16     PAIDOFF     PAIDOFF\n",
       "17     PAIDOFF     PAIDOFF\n",
       "18     PAIDOFF  COLLECTION\n",
       "19     PAIDOFF  COLLECTION\n",
       "20     PAIDOFF  COLLECTION\n",
       "21     PAIDOFF  COLLECTION\n",
       "22     PAIDOFF     PAIDOFF\n",
       "23     PAIDOFF     PAIDOFF\n",
       "24     PAIDOFF     PAIDOFF\n",
       "25     PAIDOFF     PAIDOFF\n",
       "26     PAIDOFF     PAIDOFF\n",
       "27     PAIDOFF     PAIDOFF\n",
       "28     PAIDOFF     PAIDOFF\n",
       "29     PAIDOFF     PAIDOFF\n",
       "30     PAIDOFF     PAIDOFF\n",
       "31     PAIDOFF     PAIDOFF\n",
       "32     PAIDOFF     PAIDOFF\n",
       "33     PAIDOFF     PAIDOFF\n",
       "34     PAIDOFF     PAIDOFF\n",
       "35     PAIDOFF     PAIDOFF\n",
       "36     PAIDOFF     PAIDOFF\n",
       "37     PAIDOFF     PAIDOFF\n",
       "38     PAIDOFF     PAIDOFF\n",
       "39     PAIDOFF     PAIDOFF\n",
       "40  COLLECTION  COLLECTION\n",
       "41  COLLECTION  COLLECTION\n",
       "42  COLLECTION  COLLECTION\n",
       "43  COLLECTION  COLLECTION\n",
       "44  COLLECTION  COLLECTION\n",
       "45  COLLECTION  COLLECTION\n",
       "46  COLLECTION  COLLECTION\n",
       "47  COLLECTION  COLLECTION\n",
       "48  COLLECTION  COLLECTION\n",
       "49  COLLECTION  COLLECTION\n",
       "50  COLLECTION  COLLECTION\n",
       "51  COLLECTION  COLLECTION\n",
       "52  COLLECTION  COLLECTION\n",
       "53  COLLECTION     PAIDOFF"
      ]
     },
     "execution_count": 87,
     "metadata": {},
     "output_type": "execute_result"
    }
   ],
   "source": [
    "df=pd.DataFrame({'test':y_test_loan, 'predicted':y_pred})\n",
    "df"
   ]
  },
  {
   "cell_type": "markdown",
   "metadata": {},
   "source": [
    "- Vemos que hemos conseguido un modelo que cataloga correctamente en un porcentaje muy elevado los casos de 'COLLECTION' que son los que más nos interesan controlar, aunque en detrimento de aumentar notablemente el número de falsos positivos."
   ]
  },
  {
   "cell_type": "code",
   "execution_count": 89,
   "metadata": {},
   "outputs": [
    {
     "name": "stdout",
     "output_type": "stream",
     "text": [
      "TRAIN SCORES: 0.7592592592592593\n",
      "              precision    recall  f1-score   support\n",
      "\n",
      "  COLLECTION       0.53      0.71      0.61        14\n",
      "     PAIDOFF       0.89      0.78      0.83        40\n",
      "\n",
      "    accuracy                           0.76        54\n",
      "   macro avg       0.71      0.74      0.72        54\n",
      "weighted avg       0.79      0.76      0.77        54\n",
      "\n",
      "col_0        COLLECTION  PAIDOFF\n",
      "loan_status                     \n",
      "COLLECTION           10        4\n",
      "PAIDOFF               9       31\n"
     ]
    }
   ],
   "source": [
    "tree=DecisionTreeClassifier(max_depth=2).fit(X_test_loan,y_test_loan)\n",
    "y_pred=tree.predict(X_test_loan)\n",
    "print('TRAIN SCORES:',tree.score(X_test_loan,y_test_loan))\n",
    "print(classification_report(y_test_loan,y_pred))\n",
    "print(pd.crosstab(y_test_loan,y_pred))"
   ]
  },
  {
   "cell_type": "markdown",
   "metadata": {},
   "source": [
    "- Vemos que si eliminamos el hiperparámetro balanced que equilibra las dos clases tenemos un modelo ligeramente más robusto atendiendo al scoring general y más equilibrado atendiendo a recall, en detrimento del aumento de falsos negativos"
   ]
  }
 ],
 "metadata": {
  "kernelspec": {
   "display_name": "Python 3",
   "language": "python",
   "name": "python3"
  },
  "language_info": {
   "codemirror_mode": {
    "name": "ipython",
    "version": 3
   },
   "file_extension": ".py",
   "mimetype": "text/x-python",
   "name": "python",
   "nbconvert_exporter": "python",
   "pygments_lexer": "ipython3",
   "version": "3.7.4"
  }
 },
 "nbformat": 4,
 "nbformat_minor": 4
}
